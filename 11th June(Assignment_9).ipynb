{
 "cells": [
  {
   "cell_type": "markdown",
   "id": "9c1d0857-755e-450f-9c55-95f072879e7e",
   "metadata": {},
   "source": [
    "1.What is a lambda function in Python, and how does it differ from a regular function?\n",
    "--------------------------------------------------------------------------------------"
   ]
  },
  {
   "cell_type": "markdown",
   "id": "2bf75d5e-c783-4eca-867a-8221ac449a3f",
   "metadata": {},
   "source": [
    "Answer:\n",
    "-------\n",
    "\n",
    "A lambda function in Python is a small, anonymous, and inline function defined using the `lambda` keyword. Lambda functions are also known as anonymous functions because they don't have a name. They are typically used for short, simple operations that can be defined in a single line of code.\n",
    "\n",
    "Here's the basic syntax of a lambda function:\n",
    "\n",
    "------------------------------\n",
    "\n",
    "lambda arguments: expression\n",
    "\n",
    "------------------------------\n",
    "\n",
    "Here's an example of a lambda function that adds two numbers:\n",
    "\n",
    "------------------------------\n",
    "\n",
    "add = lambda x, y: x + y\n",
    "result = add(5, 3)  # result is 8\n",
    "\n",
    "--------------------------------\n",
    "\n",
    "Key characteristics and differences between lambda functions and regular functions:\n",
    "\n",
    "1. **Anonymous:** Lambda functions do not have a name. They are defined inline and used immediately or assigned to a variable for later use. Regular functions have a name and are defined using the `def` keyword.\n",
    "\n",
    "2. **Single Expression:** Lambda functions are limited to a single expression and cannot contain statements or multiple expressions. Regular functions can contain multiple statements and expressions.\n",
    "\n",
    "3. **Conciseness:** Lambda functions are concise and useful for short, simple operations. Regular functions are used for more complex operations and can have multiple lines of code.\n",
    "\n",
    "4. **Usage:** Lambda functions are often used for small, one-off tasks where creating a named function is unnecessary. Regular functions are used when we need to define reusable, named functions with more complex logic.\n",
    "\n",
    "5. **Return:** Lambda functions automatically return the result of the expression. In regular functions, we explicitly use the `return` statement to specify the return value.\n",
    "\n",
    "6. **Scope:** Lambda functions have access to variables from the surrounding scope, just like regular functions.\n",
    "\n",
    "7. **Documentation:** Regular functions can have docstrings (documentation strings) to describe their purpose and usage. Lambda functions do not typically include docstrings.\n",
    "\n",
    "Lambda functions are most commonly used in situations where we need a simple, short function for operations like sorting, filtering, or mapping elements in a list. They provide a compact and convenient way to define such functions inline. However, for more complex or reusable functions, it's often better to use regular named functions."
   ]
  },
  {
   "cell_type": "markdown",
   "id": "2f03a2a3-363a-4717-b177-1660e7b37dde",
   "metadata": {},
   "source": [
    "2.Can a lambda function in Python have multiple arguments? If yes, how can you define and use them?\n",
    "---------------------------------------------------------------------------------------------------"
   ]
  },
  {
   "cell_type": "markdown",
   "id": "a5b3516d-32f8-4566-83dc-769befadd110",
   "metadata": {},
   "source": [
    "Answer:\n",
    "-------\n",
    "\n",
    "Yes, a lambda function in Python can have multiple arguments. we can define and use multiple arguments in a lambda function by separating them with commas, just like we would in a regular function. Here's the syntax:\n",
    "\n",
    "---------------------------------------------\n",
    "\n",
    "lambda argument1, argument2, ...: expression\n",
    "\n",
    "----------------------------------------------\n",
    "\n",
    "\n",
    "Here's an example of a lambda function with multiple arguments that calculates the sum of two numbers:\n",
    "\n",
    "--------------------------------------------\n",
    "add = lambda x, y: x + y\n",
    "result = add(5, 3)  # result is 8\n",
    "\n",
    "--------------------------------------------\n",
    "\n",
    "In this example, the lambda function `add` takes two arguments, `x` and `y`, and returns their sum.\n",
    "\n",
    "We can define lambda functions with as many arguments as needed for our specific use case. For example, here's a lambda function that calculates the product of three numbers:\n",
    "\n",
    "--------------------------------------------\n",
    "multiply = lambda a, b, c: a * b * c\n",
    "result = multiply(2, 3, 4)  # result is 24\n",
    "\n",
    "-------------------------------------------\n",
    "\n",
    "Lambda functions with multiple arguments are particularly useful in situations where we need a short, one-off function for operations that involve multiple inputs."
   ]
  },
  {
   "cell_type": "markdown",
   "id": "85bd64de-8f8e-4a6f-9988-2af6a7ebb21c",
   "metadata": {},
   "source": [
    "3.How are lambda functions typically used in Python? Provide an example use case.\n",
    "---------------------------------------------------------------------------------"
   ]
  },
  {
   "cell_type": "markdown",
   "id": "d5c5307b-af02-4566-8431-bf6215447055",
   "metadata": {},
   "source": [
    "Answer:\n",
    "-------\n",
    "\n",
    "Lambda functions in Python are typically used for short, one-off tasks that involve simple operations. They are often used in situations where creating a full-fledged named function using the def keyword is unnecessary due to the simplicity of the operation. Here are some common use cases for lambda functions:\n",
    "\n",
    "Sorting: \n",
    "Lambda functions are commonly used as the key argument in sorting functions like sorted() and sort(). They allow us to define custom sorting criteria on the fly."
   ]
  },
  {
   "cell_type": "code",
   "execution_count": 3,
   "id": "07cd0f5e-3b30-47dc-8898-27da92c0314a",
   "metadata": {},
   "outputs": [
    {
     "name": "stdout",
     "output_type": "stream",
     "text": [
      "[{'name': 'Bob', 'age': 22}, {'name': 'Alice', 'age': 25}, {'name': 'Charlie', 'age': 30}]\n"
     ]
    }
   ],
   "source": [
    "students = [\n",
    "    {\"name\": \"Alice\", \"age\": 25},\n",
    "    {\"name\": \"Bob\", \"age\": 22},\n",
    "    {\"name\": \"Charlie\", \"age\": 30}\n",
    "]\n",
    "\n",
    "# Sort students by age\n",
    "sorted_students = sorted(students, key=lambda x: x[\"age\"])\n",
    "print(sorted_students)"
   ]
  },
  {
   "cell_type": "markdown",
   "id": "4965f447-9846-410d-a3b3-1c92a85b3c78",
   "metadata": {},
   "source": [
    "Filtering: \n",
    "We can use lambda functions with filtering functions like filter() to select elements from a sequence that meet specific criteria."
   ]
  },
  {
   "cell_type": "code",
   "execution_count": 4,
   "id": "53165416-36cd-4752-bf5b-bdcb95c1388e",
   "metadata": {},
   "outputs": [
    {
     "name": "stdout",
     "output_type": "stream",
     "text": [
      "[2, 4, 6, 8, 10]\n"
     ]
    }
   ],
   "source": [
    "numbers = [1, 2, 3, 4, 5, 6, 7, 8, 9, 10]\n",
    "\n",
    "# Filter even numbers\n",
    "even_numbers = list(filter(lambda x: x % 2 == 0, numbers))\n",
    "print(even_numbers)"
   ]
  },
  {
   "cell_type": "markdown",
   "id": "ceeac763-eebf-4faf-a5a9-ecdfda022762",
   "metadata": {},
   "source": [
    "Mapping:\n",
    "Lambda functions are useful with mapping functions like map() to apply a function to each element in an iterable."
   ]
  },
  {
   "cell_type": "code",
   "execution_count": 5,
   "id": "5785b653-9ddc-485d-a34d-0e2bd9bc28fe",
   "metadata": {},
   "outputs": [
    {
     "name": "stdout",
     "output_type": "stream",
     "text": [
      "[1, 4, 9, 16, 25]\n"
     ]
    }
   ],
   "source": [
    "numbers = [1, 2, 3, 4, 5]\n",
    "\n",
    "# Square each number\n",
    "squared_numbers = list(map(lambda x: x ** 2, numbers))\n",
    "print(squared_numbers)"
   ]
  },
  {
   "cell_type": "markdown",
   "id": "4e114846-7fb5-42d1-961c-9c6f41135040",
   "metadata": {},
   "source": [
    "Callbacks:\n",
    "Lambda functions can be used as callback functions, especially in cases where we need a simple callback for event handling or asynchronous programming."
   ]
  },
  {
   "cell_type": "code",
   "execution_count": 6,
   "id": "1bfec495-d1d9-4cc3-8826-07cf016a1ea8",
   "metadata": {},
   "outputs": [
    {
     "name": "stdout",
     "output_type": "stream",
     "text": [
      "Result: 42\n"
     ]
    }
   ],
   "source": [
    "def perform_operation(callback):\n",
    "    result = 42\n",
    "    callback(result)\n",
    "\n",
    "# Define a callback to print the result\n",
    "perform_operation(lambda x: print(f\"Result: {x}\"))"
   ]
  },
  {
   "cell_type": "markdown",
   "id": "748c4ab9-d7d4-471b-b533-9f4fd913a6d2",
   "metadata": {},
   "source": [
    "Short, One-off Tasks:\n",
    "Lambda functions are handy when we need to perform a quick, single operation without defining a named function."
   ]
  },
  {
   "cell_type": "code",
   "execution_count": 7,
   "id": "9c963606-6ec0-44b4-868e-1c205624eab8",
   "metadata": {},
   "outputs": [
    {
     "name": "stdout",
     "output_type": "stream",
     "text": [
      "9\n"
     ]
    }
   ],
   "source": [
    "# Find the maximum value in a list\n",
    "max_value = lambda lst: max(lst)\n",
    "result = max_value([3, 9, 2, 5, 7])  # result is 9\n",
    "print(result)"
   ]
  },
  {
   "cell_type": "markdown",
   "id": "26935c24-a617-4834-99e4-522b7da27355",
   "metadata": {},
   "source": [
    "Lambda functions are particularly useful in scenarios where the operation we need to perform is simple and doesn't warrant the overhead of defining a separate function. However, for more complex or reusable functions, it's often better to use regular named functions with descriptive names and docstrings for clarity and maintainability."
   ]
  },
  {
   "cell_type": "markdown",
   "id": "8aa4b1a4-8e85-4878-83bf-279b6da4e74f",
   "metadata": {},
   "source": [
    "4.What are the advantages and limitations of lambda functions compared to regular functions in Python?\n",
    "-----------------------------------------------------------------------------------------------------"
   ]
  },
  {
   "cell_type": "markdown",
   "id": "3c7b52e3-450a-4d9a-950e-f6b18b7bb66e",
   "metadata": {},
   "source": [
    "Answer:\n",
    "-------\n",
    "\n",
    "Lambda functions in Python offer some advantages and limitations compared to regular functions:\n",
    "\n",
    "**Advantages:**\n",
    "\n",
    "1. **Conciseness:** Lambda functions are concise and allow we to define small, inline functions without the need for a full `def` statement. This can make code shorter and more readable for simple operations.\n",
    "\n",
    "2. **Anonymous:** Lambda functions are anonymous, meaning they don't have a name. This is useful for situations where we need a function for a short, one-off task, and defining a named function is unnecessary.\n",
    "\n",
    "3. **Inline Usage:** Lambda functions can be defined and used inline, making them suitable for passing as arguments to higher-order functions like `map()`, `filter()`, and `sorted()`. This leads to more expressive and readable code in such cases.\n",
    "\n",
    "4. **Scope:** Lambda functions have access to variables from the surrounding scope, similar to regular functions. This allows them to capture and use external variables.\n",
    "\n",
    "5. **Functional Programming:** Lambda functions are often used in functional programming paradigms, where functions are treated as first-class citizens and can be passed as arguments, returned from other functions, and assigned to variables.\n",
    "\n",
    "**Limitations:**\n",
    "\n",
    "1. **Single Expression:** Lambda functions are limited to a single expression. We cannot include statements or multiple expressions within a lambda function.\n",
    "\n",
    "2. **Limited Readability:** While lambda functions can be concise, overly complex lambda expressions can reduce code readability. In such cases, using a regular function with a clear name and docstring may be more appropriate.\n",
    "\n",
    "3. **Lack of Documentation:** Lambda functions do not support docstrings, making it harder to provide detailed documentation and descriptions of their purpose and usage.\n",
    "\n",
    "4. **Limited Complexity:** Lambda functions are best suited for simple, short operations. For more complex tasks or multi-step operations, regular functions are a better choice.\n",
    "\n",
    "5. **Reduced Reusability:** Lambda functions are typically used for one-off tasks and are not suitable for reuse across multiple parts of our codebase. Regular functions are more reusable and maintainable.\n",
    "\n",
    "In summary, lambda functions are a valuable tool in Python for certain use cases, particularly when we need to perform short, simple operations in a concise manner. However, for more complex or reusable functions, regular named functions are generally preferred due to their better readability, documentation support, and versatility. It's important to choose the right tool for the specific task at hand."
   ]
  },
  {
   "cell_type": "markdown",
   "id": "d402556e-29ce-4531-b367-201a390dd6ae",
   "metadata": {},
   "source": [
    "5.Are lambda functions in Python able to access variables defined outside of their own scope? Explain with an example.\n",
    "-----------------------------------------------------------------------------------------------------------------------"
   ]
  },
  {
   "cell_type": "markdown",
   "id": "e8100963-38ae-430d-99bb-5bce699d97f5",
   "metadata": {
    "tags": []
   },
   "source": [
    "Answer:\n",
    "-------\n",
    "\n",
    "Yes, lambda functions in Python can access variables defined outside of their own scope. Lambda functions have access to variables from the surrounding scope, just like regular functions. This behavior is known as \"lexical scoping\" or \"closure.\" Here's an example to illustrate this:"
   ]
  },
  {
   "cell_type": "code",
   "execution_count": 9,
   "id": "87633f14-8adc-4974-86c8-b76b5daa575c",
   "metadata": {},
   "outputs": [
    {
     "name": "stdout",
     "output_type": "stream",
     "text": [
      "15\n"
     ]
    }
   ],
   "source": [
    "def outer_function(x):\n",
    "    # Define a lambda function inside the outer_function\n",
    "    inner_lambda = lambda y: x + y\n",
    "    return inner_lambda\n",
    "\n",
    "# Create a closure by calling outer_function with x = 10\n",
    "closure = outer_function(10)\n",
    "\n",
    "# Use the closure (lambda function) to add 5 to x\n",
    "result = closure(5)\n",
    "print(result)"
   ]
  },
  {
   "cell_type": "markdown",
   "id": "dd820dec-6a93-4d2b-b12b-0d67cfcf44f4",
   "metadata": {},
   "source": [
    "In this example:\n",
    "\n",
    "The outer_function takes an argument x and defines a lambda function inner_lambda inside it.\n",
    "The lambda function inner_lambda captures and retains the value of x from the outer scope.\n",
    "When we call outer_function(10), it returns the lambda function as a closure with x set to 10.\n",
    "We then use the closure by calling closure(5), and it adds 5 to the captured value of x, resulting in 15.\n",
    "The lambda function inner_lambda retains access to the x variable even after outer_function has completed execution. This behavior allows lambda functions to be used as functional closures, where they \"remember\" and operate on values from their enclosing scope.\n",
    "\n",
    "It's important to note that lambda functions can access but do not modify variables from the surrounding scope unless those variables are mutable objects. If we want to modify variables from the enclosing scope, we may need to use the nonlocal keyword (for variables in an enclosing function) or the global keyword (for variables in the global scope) within a regular function. Lambda functions themselves do not support the nonlocal or global keywords."
   ]
  },
  {
   "cell_type": "markdown",
   "id": "e9b11d70-9c42-48e4-8661-3762e76abe29",
   "metadata": {},
   "source": [
    "6.Write a lambda function to calculate the square of a given number.\n",
    "-------------------------------------------------------------------"
   ]
  },
  {
   "cell_type": "code",
   "execution_count": 11,
   "id": "76c5dae0-d297-4d67-b7d6-9e6ed1d7c908",
   "metadata": {},
   "outputs": [
    {
     "name": "stdout",
     "output_type": "stream",
     "text": [
      "25\n"
     ]
    }
   ],
   "source": [
    "square = lambda x: x**2\n",
    "result = square(5)  # This will calculate and assign the square of 5 to 'result'\n",
    "print(result)  # Output: 25"
   ]
  },
  {
   "cell_type": "markdown",
   "id": "755304ac-8d12-45fc-aac5-0bfc583d492d",
   "metadata": {},
   "source": [
    "7.Create a lambda function to find the maximum value in a list of integers.\n",
    "--------------------------------------------------------------------------"
   ]
  },
  {
   "cell_type": "code",
   "execution_count": 14,
   "id": "23fdecba-6f85-49c0-a394-05a2b5fce1ff",
   "metadata": {},
   "outputs": [
    {
     "name": "stdout",
     "output_type": "stream",
     "text": [
      "The maximum value in the list is: 20\n"
     ]
    }
   ],
   "source": [
    "find_max = lambda lst: max(lst)\n",
    "numbers = [10, 5, 8, 20, 15, 12]\n",
    "max_value = find_max(numbers)\n",
    "\n",
    "print(f\"The maximum value in the list is: {max_value}\")  # Output: The maximum value in the list is: 20"
   ]
  },
  {
   "cell_type": "markdown",
   "id": "53a969fa-af51-4a6a-9c53-5d647d6eb1fc",
   "metadata": {},
   "source": [
    "8.Implement a lambda function to filter out all the even numbers from a list of integers.\n",
    "-----------------------------------------------------------------------------------------"
   ]
  },
  {
   "cell_type": "code",
   "execution_count": 15,
   "id": "023a5337-fc65-4e35-a163-f23a19a276fb",
   "metadata": {},
   "outputs": [
    {
     "name": "stdout",
     "output_type": "stream",
     "text": [
      "[2, 4, 6, 8, 10]\n"
     ]
    }
   ],
   "source": [
    "# Define a list of integers\n",
    "numbers = [1, 2, 3, 4, 5, 6, 7, 8, 9, 10]\n",
    "\n",
    "# Use filter() with a lambda function to filter even numbers\n",
    "filtered_numbers = list(filter(lambda x: x % 2 == 0, numbers))\n",
    "\n",
    "# Print the filtered list\n",
    "print(filtered_numbers)"
   ]
  },
  {
   "cell_type": "markdown",
   "id": "b2b68c9a-51a0-4abf-8095-19aeca67353c",
   "metadata": {},
   "source": [
    "9.Write a lambda function to sort a list of strings in ascending order based on the length of each string.\n",
    "---------------------------------------------------------------------------------------------------------"
   ]
  },
  {
   "cell_type": "code",
   "execution_count": 16,
   "id": "7ee6c60f-d11b-4c86-9ef5-5db41e6d8d8e",
   "metadata": {},
   "outputs": [
    {
     "name": "stdout",
     "output_type": "stream",
     "text": [
      "['fig', 'date', 'apple', 'banana', 'cherry']\n"
     ]
    }
   ],
   "source": [
    "strings = [\"apple\", \"banana\", \"cherry\", \"date\", \"fig\"]\n",
    "\n",
    "# Sort the list of strings based on string length in ascending order\n",
    "sorted_strings = sorted(strings, key=lambda x: len(x))\n",
    "\n",
    "print(sorted_strings)"
   ]
  },
  {
   "cell_type": "markdown",
   "id": "9ac37619-800c-4cee-8358-ae5c3dacb811",
   "metadata": {},
   "source": [
    "10.Create a lambda function that takes two lists as input and returns a new list containing the common elements between the two lists.\n",
    "--------------------------------------------------------------------------------------------------------------------------------------"
   ]
  },
  {
   "cell_type": "code",
   "execution_count": 20,
   "id": "8d7eb01e-fe31-4dbf-b386-26d586ad1165",
   "metadata": {},
   "outputs": [
    {
     "name": "stdout",
     "output_type": "stream",
     "text": [
      "[3, 4, 5]\n"
     ]
    }
   ],
   "source": [
    "list1 = [1, 2, 3, 4, 5]\n",
    "list2 = [3, 4, 5, 6, 7]\n",
    "\n",
    "# Create a lambda function to filter common elements\n",
    "common_elements = lambda lst1, lst2: list(filter(lambda x: x in lst1, lst2))\n",
    "\n",
    "result = common_elements(list1, list2)\n",
    "print(result)"
   ]
  },
  {
   "cell_type": "markdown",
   "id": "7ced569e-b0d3-4776-8eca-b994b16beedc",
   "metadata": {},
   "source": [
    "11.Write a recursive function to calculate the factorial of a given positive integer.\n",
    "------------------------------------------------------------------------------------"
   ]
  },
  {
   "cell_type": "code",
   "execution_count": 22,
   "id": "20fc8d1f-c666-42d3-af7a-83ca6e9a985e",
   "metadata": {},
   "outputs": [
    {
     "name": "stdout",
     "output_type": "stream",
     "text": [
      "120\n"
     ]
    }
   ],
   "source": [
    "def factorial(n):\n",
    "    if n == 0:  # Base case: factorial of 0 is 1\n",
    "        return 1\n",
    "    else:\n",
    "        return n * factorial(n - 1)  # Recursive case: n! = n * (n-1)!\n",
    "result = factorial(5)  # Calculates 5!\n",
    "print(result)\n"
   ]
  },
  {
   "cell_type": "markdown",
   "id": "1267b8a1-310b-4105-862a-d7eaf1067a73",
   "metadata": {},
   "source": [
    "12.Implement a recursive function to compute the nth Fibonacci number.\n",
    "---------------------------------------------------------------------"
   ]
  },
  {
   "cell_type": "code",
   "execution_count": 23,
   "id": "07bc41ca-7a44-4194-b84a-408f2f9411cb",
   "metadata": {},
   "outputs": [
    {
     "name": "stdout",
     "output_type": "stream",
     "text": [
      "8\n"
     ]
    }
   ],
   "source": [
    "def fibonacci(n):\n",
    "    if n <= 0:\n",
    "        return 0\n",
    "    elif n == 1:\n",
    "        return 1\n",
    "    else:\n",
    "        return fibonacci(n - 1) + fibonacci(n - 2)\n",
    "result = fibonacci(6)  # Calculates the 6th Fibonacci number\n",
    "print(result)"
   ]
  },
  {
   "cell_type": "markdown",
   "id": "6c207b16-2b55-4d0d-b83e-0628211e4544",
   "metadata": {},
   "source": [
    "13.Create a recursive function to find the sum of all the elements in a given list.\n",
    "----------------------------------------------------------------------------------"
   ]
  },
  {
   "cell_type": "code",
   "execution_count": 24,
   "id": "4393ee3e-67a7-48e0-8135-e6e3fdc29988",
   "metadata": {},
   "outputs": [
    {
     "name": "stdout",
     "output_type": "stream",
     "text": [
      "15\n"
     ]
    }
   ],
   "source": [
    "def recursive_sum(lst):\n",
    "    if not lst:  # Base case: Empty list has a sum of 0\n",
    "        return 0\n",
    "    else:\n",
    "        return lst[0] + recursive_sum(lst[1:])  # Recursive case: Sum the first element and the sum of the rest\n",
    "my_list = [1, 2, 3, 4, 5]\n",
    "result = recursive_sum(my_list)  # Calculates the sum of all elements\n",
    "print(result)"
   ]
  },
  {
   "cell_type": "markdown",
   "id": "ec26d125-4430-46fd-a383-cb3617fe04b3",
   "metadata": {},
   "source": [
    "14.Write a recursive function to determine whether a given string is a palindrome.\n",
    "---------------------------------------------------------------------------------"
   ]
  },
  {
   "cell_type": "code",
   "execution_count": 30,
   "id": "5e8e6647-5168-41ce-a99e-4ef342b019d9",
   "metadata": {},
   "outputs": [
    {
     "name": "stdout",
     "output_type": "stream",
     "text": [
      "True\n",
      "False\n"
     ]
    }
   ],
   "source": [
    "def is_palindrome(s):\n",
    "    # Base case: An empty string or a string with one character is a palindrome\n",
    "    if len(s) <= 1:\n",
    "        return True\n",
    "\n",
    "    # Recursive case: Check if the first and last characters are the same\n",
    "    if s[0] == s[-1]:\n",
    "        # Recursively check the substring without the first and last characters\n",
    "        return is_palindrome(s[1:-1])\n",
    "    else:\n",
    "        return False\n",
    "string1 = \"racecar\"\n",
    "string2 = \"hello\"\n",
    "\n",
    "result1 = is_palindrome(string1)  # True (racecar is a palindrome)\n",
    "result2 = is_palindrome(string2)  # False (hello is not a palindrome)\n",
    "\n",
    "print(result1)\n",
    "print(result2)"
   ]
  },
  {
   "cell_type": "markdown",
   "id": "0dbf87fd-ea2b-4665-a95f-3735af7a9aef",
   "metadata": {},
   "source": [
    "15.Implement a recursive function to find the greatest common divisor (GCD) of two positive integers\n",
    "----------------------------------------------------------------------------------------------------"
   ]
  },
  {
   "cell_type": "code",
   "execution_count": null,
   "id": "bf340a0c-af3a-4893-8f56-1d831683a4f1",
   "metadata": {},
   "outputs": [],
   "source": [
    "def gcd(a, b):\n",
    "    if b == 0:\n",
    "        return a  # When b becomes 0, a is the GCD\n",
    "    else:\n",
    "        return gcd(b, a % b)  # Recursive call with a = b and b = a % b\n"
   ]
  }
 ],
 "metadata": {
  "kernelspec": {
   "display_name": "Python 3 (ipykernel)",
   "language": "python",
   "name": "python3"
  },
  "language_info": {
   "codemirror_mode": {
    "name": "ipython",
    "version": 3
   },
   "file_extension": ".py",
   "mimetype": "text/x-python",
   "name": "python",
   "nbconvert_exporter": "python",
   "pygments_lexer": "ipython3",
   "version": "3.10.9"
  }
 },
 "nbformat": 4,
 "nbformat_minor": 5
}
