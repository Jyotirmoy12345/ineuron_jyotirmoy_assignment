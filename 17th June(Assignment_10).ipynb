{
 "cells": [
  {
   "cell_type": "markdown",
   "id": "4cc2d2f3-a94e-459f-a725-67a88f3e5459",
   "metadata": {},
   "source": [
    "1.What is the role of try and exception block?\n",
    "---------------------------------------------"
   ]
  },
  {
   "cell_type": "markdown",
   "id": "d98f53dd-0c35-467a-ae0a-95100d8efea0",
   "metadata": {},
   "source": [
    "Answer:\n",
    "-------\n",
    "\n",
    "The try and except blocks in Python are used for error handling and exception management. They play a crucial role in handling and responding to runtime errors and exceptions that may occur during the execution of a program. Here's the role of each block:\n",
    "\n",
    "Try Block (try):\n",
    "\n",
    "The code that might raise an exception or error is placed within the try block.\n",
    "The try block is used to isolate the potentially problematic code segment, allowing the program to continue running even if an exception occurs.\n",
    "It's a way of testing a piece of code to see if it raises any exceptions.\n",
    "Example:"
   ]
  },
  {
   "cell_type": "code",
   "execution_count": null,
   "id": "15e52b7f-f9df-4e25-bb94-39e9e09438a8",
   "metadata": {},
   "outputs": [],
   "source": [
    "try:\n",
    "    result = 10 / 0  # This line may raise a ZeroDivisionError\n",
    "except ZeroDivisionError:\n",
    "    print(\"Division by zero is not allowed.\")"
   ]
  },
  {
   "cell_type": "markdown",
   "id": "40ddf8bd-cdfd-4171-b8cd-07f48a99a540",
   "metadata": {},
   "source": [
    "Except Block (except):\n",
    "\n",
    "The code within the except block is executed when an exception is raised in the corresponding try block.\n",
    "WE can specify the type of exception we want to catch in the except block, allowing us to handle different exceptions differently.\n",
    "Multiple except blocks can be used to handle different types of exceptions.\n",
    "Example:"
   ]
  },
  {
   "cell_type": "code",
   "execution_count": null,
   "id": "d4720d71-a3fc-4a35-9124-3bee1f349670",
   "metadata": {},
   "outputs": [],
   "source": [
    "try:\n",
    "    result = 10 / 0\n",
    "except ZeroDivisionError:\n",
    "    print(\"Division by zero is not allowed.\")"
   ]
  },
  {
   "cell_type": "markdown",
   "id": "24bc1843-fe5b-4162-be1e-cbec004b4f11",
   "metadata": {},
   "source": [
    "In this example, when a ZeroDivisionError is raised in the try block, the code inside the except block is executed.\n",
    "\n",
    "The role of the try-except mechanism is to gracefully handle exceptions and prevent them from crashing the program. It allows us to provide appropriate error messages or take corrective actions when something goes wrong, improving the robustness and reliability of our Python programs.\n",
    "\n",
    "Additionally, we can also include an optional else block after all the except blocks. Code within the else block is executed when no exceptions are raised in the try block, providing an opportunity to execute additional logic when everything runs smoothly."
   ]
  },
  {
   "cell_type": "markdown",
   "id": "628f9375-5efd-4bb1-98ab-cabfde55337c",
   "metadata": {},
   "source": [
    "2.What is the syntax for a basic try-except block?\n",
    "--------------------------------------------------"
   ]
  },
  {
   "cell_type": "markdown",
   "id": "684ab885-9c38-4404-b561-22900e77826e",
   "metadata": {},
   "source": [
    "Answer:\n",
    "-------\n",
    "\n",
    "The basic syntax for a try-except block in Python is as follows:"
   ]
  },
  {
   "cell_type": "code",
   "execution_count": null,
   "id": "1a6350a3-ecd1-4466-a180-9c493ecd8b2e",
   "metadata": {},
   "outputs": [],
   "source": [
    "try:\n",
    "    # Code that may raise an exception\n",
    "    # ...\n",
    "except ExceptionType:\n",
    "    # Code to handle the exception\n",
    "    # ..."
   ]
  },
  {
   "cell_type": "markdown",
   "id": "eba7f9b6-434a-4e34-b508-13d84ddc78a0",
   "metadata": {},
   "source": [
    "3.What happens if an exception occurs inside a try block and there is no matching except block?\n",
    "----------------------------------------------------------------------------------------------"
   ]
  },
  {
   "cell_type": "markdown",
   "id": "0f879551-9c01-4b95-9483-24fa2af1a08f",
   "metadata": {},
   "source": [
    "Answer:\n",
    "--------\n",
    "\n",
    "If an exception occurs inside a try block, and there is no matching except block to handle that specific exception, the program will terminate, and an unhandled exception traceback will be displayed. This traceback will provide information about the exception that occurred, including its type, the line number where it occurred, and the call stack.\n",
    "\n",
    "Here's an example to illustrate what happens:"
   ]
  },
  {
   "cell_type": "code",
   "execution_count": null,
   "id": "492935ed-38b1-451e-bd0b-82a561ae03bd",
   "metadata": {},
   "outputs": [],
   "source": [
    "try:\n",
    "    result = 10 / 0  # This line may raise a ZeroDivisionError\n",
    "except ValueError:\n",
    "    # This except block does not match the ZeroDivisionError that occurred\n",
    "    print(\"This won't be executed.\")\n"
   ]
  },
  {
   "cell_type": "markdown",
   "id": "da8a2e6f-c0f6-4f31-90d3-7552da6c9b6d",
   "metadata": {},
   "source": [
    "In this example, a ZeroDivisionError occurs within the try block, but there is only an except block for ValueError. Since there is no matching except block for ZeroDivisionError, the program will terminate with an unhandled exception:\n",
    "\n",
    "-------------------------------------------------\n",
    "ZeroDivisionError: division by zero\n",
    "\n",
    "-------------------------------------------------\n",
    "\n",
    "To handle an exception, we should include an except block that matches the type of exception we expect to occur or use a more general except block to catch all exceptions (although this should be done sparingly and with caution, as it may make it harder to identify and debug specific issues)."
   ]
  },
  {
   "cell_type": "markdown",
   "id": "4ddc9ee7-aa9b-4454-85dc-b9e8159e660c",
   "metadata": {},
   "source": [
    "4.What is the difference between using a bare except block and specifying a specific exception type?\n",
    "----------------------------------------------------------------------------------------------------"
   ]
  },
  {
   "cell_type": "markdown",
   "id": "08fdfa44-9e72-4073-af22-0b57e0bd2a5b",
   "metadata": {},
   "source": [
    "Answer:\n",
    "-------\n",
    "\n",
    "The difference between using a bare except block and specifying a specific exception type in a try-except block lies in how exceptions are handled:\n",
    "\n",
    "1.Specific Exception Type (except ExceptionType):\n",
    "\n",
    "When we specify a specific exception type in the except block, we are explicitly indicating the type of exception our expect to occur and want to handle.\n",
    "This allows us to provide specialized handling for that particular type of exception, which can include error messages, corrective actions, or other relevant code.\n",
    "Using specific exception types is considered good practice because it makes our code more precise and helps in debugging and maintenance.\n",
    "Example:"
   ]
  },
  {
   "cell_type": "code",
   "execution_count": null,
   "id": "ed57c319-f3d0-455c-bd24-5b18cc6c0b28",
   "metadata": {},
   "outputs": [],
   "source": [
    "try:\n",
    "    result = 10 / 0  # This line may raise a ZeroDivisionError\n",
    "except ZeroDivisionError:\n",
    "    print(\"Division by zero is not allowed.\")"
   ]
  },
  {
   "cell_type": "markdown",
   "id": "2242cdfc-5e36-4020-bd54-14e453920c9a",
   "metadata": {},
   "source": [
    "2.Bare Except (except: or except Exception:):\n",
    "\n",
    "A bare except block, without specifying a particular exception type, catches all exceptions, including built-in exceptions and custom exceptions.\n",
    "It is a more general and less precise way of handling exceptions. While it can be convenient, it may also make it harder to identify and debug specific issues because it doesn't differentiate between exception types.\n",
    "Using a bare except block is generally discouraged in favor of specifying specific exception types, as it can lead to unexpected and unintended consequences if not used carefully.\n",
    "Example:"
   ]
  },
  {
   "cell_type": "code",
   "execution_count": null,
   "id": "a6bbde98-9def-4596-b226-6cad65c46217",
   "metadata": {},
   "outputs": [],
   "source": [
    "try:\n",
    "    result = 10 / 0  # This line may raise a ZeroDivisionError\n",
    "except:\n",
    "    print(\"An error occurred.\")"
   ]
  },
  {
   "cell_type": "markdown",
   "id": "bd84a6fb-a344-405d-b364-f4fd5bcc9ed1",
   "metadata": {},
   "source": [
    "In summary, it's generally recommended to use specific exception types in our try-except blocks whenever possible. This allows us to handle exceptions in a more controlled and targeted manner. Using a bare except block should be reserved for cases where we want to catch and handle any exception, but use it with caution, as it can make debugging more challenging."
   ]
  },
  {
   "cell_type": "markdown",
   "id": "9b673740-6a78-4eaf-b852-def2d160bddf",
   "metadata": {},
   "source": [
    "5.Can you have nested try-except blocks in Python? If yes, then give an example.\n",
    "--------------------------------------------------------------------------------"
   ]
  },
  {
   "cell_type": "markdown",
   "id": "f7e00ef8-d0c8-43d6-a022-76c69066c6b3",
   "metadata": {},
   "source": [
    "Answer:\n",
    "-------\n",
    "\n",
    "Yes, we can have nested try-except blocks in Python. This means that we can place one try-except block inside another, allowing for more fine-grained exception handling. Each nested try-except block can handle exceptions specific to its scope. Here's an example:"
   ]
  },
  {
   "cell_type": "code",
   "execution_count": null,
   "id": "e57b6415-0241-4665-bf35-40ac80db71b0",
   "metadata": {},
   "outputs": [],
   "source": [
    "try:\n",
    "    # Outer try-except block\n",
    "    x = int(input(\"Enter a number: \"))\n",
    "    y = int(input(\"Enter another number: \"))\n",
    "\n",
    "    try:\n",
    "        # Inner try-except block\n",
    "        result = x / y\n",
    "        print(\"Result:\", result)\n",
    "\n",
    "    except ZeroDivisionError:\n",
    "        print(\"Inner: Division by zero is not allowed.\")\n",
    "\n",
    "except ValueError:\n",
    "    print(\"Outer: Invalid input. Please enter valid numbers.\")"
   ]
  },
  {
   "cell_type": "markdown",
   "id": "213a69f0-4668-417b-a5f4-496d9fffa484",
   "metadata": {},
   "source": [
    "In this example:\n",
    "\n",
    "The outer try-except block attempts to take two integer inputs and store them in x and y. If the user provides non-integer input, a ValueError is caught by the outer except block.\n",
    "\n",
    "The inner try-except block calculates the result of dividing x by y. If the user enters 0 as the second number, a ZeroDivisionError is caught by the inner except block.\n",
    "\n",
    "Having nested try-except blocks allows us to handle exceptions at different levels of our program. In this case, the inner try-except block deals with a specific division-related error, while the outer try-except block handles input-related errors."
   ]
  },
  {
   "cell_type": "markdown",
   "id": "722a1434-f68e-440b-8f40-aac22ef7491c",
   "metadata": {},
   "source": [
    "6.Can we use multiple exception blocks, if yes then give an example\n",
    "-------------------------------------------------------------------"
   ]
  },
  {
   "cell_type": "markdown",
   "id": "491742a9-2c00-43b2-8084-b3be14716b27",
   "metadata": {},
   "source": [
    "Answer:\n",
    "--------\n",
    "\n",
    "Yes, we can use multiple exception blocks (multiple except blocks) in a try-except statement to handle different types of exceptions. Each except block can be associated with a specific exception type, allowing us to provide specialized handling for each type of exception. Here's an example:"
   ]
  },
  {
   "cell_type": "code",
   "execution_count": null,
   "id": "9e68d16b-96f1-4934-b042-94e8c716e4ac",
   "metadata": {},
   "outputs": [],
   "source": [
    "try:\n",
    "    num = int(input(\"Enter a number: \"))\n",
    "    result = 10 / num\n",
    "\n",
    "except ValueError:\n",
    "    print(\"Invalid input. Please enter a valid number.\")\n",
    "\n",
    "except ZeroDivisionError:\n",
    "    print(\"Division by zero is not allowed.\")\n",
    "\n",
    "except Exception as e:\n",
    "    print(\"An unexpected error occurred:\", e)"
   ]
  },
  {
   "cell_type": "markdown",
   "id": "8cdf2d2f-e7f6-45f3-a2be-5c7a094d8100",
   "metadata": {},
   "source": [
    "In this example:\n",
    "\n",
    "The first except block catches a ValueError if the user enters a non-integer input.\n",
    "The second except block catches a ZeroDivisionError if the user enters 0 as the number to be divided by.\n",
    "The third except block catches any other exception that inherits from the Exception base class. This block can be used to catch unexpected or unspecified exceptions. The as e part allows us to access the exception object for further information if needed.\n",
    "Using multiple except blocks is a way to provide tailored error handling for different situations in our code, making it more robust and user-friendly."
   ]
  },
  {
   "cell_type": "markdown",
   "id": "dfec9178-3347-4a51-a027-33befd79de68",
   "metadata": {},
   "source": [
    "7.Write the reason due to which following errors are raised:\n",
    "------------------------------------------------------------\n",
    "a. EOFError\n",
    "-----------\n",
    "b. FloatingPointError\n",
    "---------------------\n",
    "c. IndexError\n",
    "-------------\n",
    "d. MemoryError\n",
    "--------------\n",
    "e. OverflowError\n",
    "----------------\n",
    "f. TabError\n",
    "-----------\n",
    "g. ValueError\n",
    "-------------"
   ]
  },
  {
   "cell_type": "markdown",
   "id": "1b73601f-7fd6-4feb-8fd3-974b3b84f0ae",
   "metadata": {},
   "source": [
    "Answer:\n",
    "------\n",
    "\n",
    "Here are the reasons why the following errors are raised in Python:\n",
    "\n",
    "a. **EOFError**:\n",
    "   - Raised when an input operation (like `input()`) reaches the end of the file or input stream unexpectedly.\n",
    "   - Typically occurs when we expect more input but receive none.\n",
    "\n",
    "b. **FloatingPointError**:\n",
    "   - Raised when a floating-point operation encounters an exceptional condition that is not representable in the standard floating-point format.\n",
    "   - Examples include division by zero or trying to represent an extremely large or small number as a floating-point value.\n",
    "\n",
    "c. **IndexError**:\n",
    "   - Raised when we try to access an index of a sequence (e.g., list, tuple, string) that is out of range.\n",
    "   - Occurs when the index we provide is less than the minimum index (0) or greater than or equal to the length of the sequence.\n",
    "\n",
    "d. **MemoryError**:\n",
    "   - Raised when an operation runs out of memory.\n",
    "   - Typically occurs when our program tries to allocate more memory than the system can provide.\n",
    "\n",
    "e. **OverflowError**:\n",
    "   - Raised when an arithmetic operation exceeds the limits of the current Python interpreter's numerical representation.\n",
    "   - Occurs when we try to represent an integer that is too large to fit into the available memory.\n",
    "\n",
    "f. **TabError**:\n",
    "   - Raised when there is an issue with the indentation of code.\n",
    "   - Typically occurs when mixing tabs and spaces for indentation in an inconsistent manner within the same block of code.\n",
    "\n",
    "g. **ValueError**:\n",
    "   - Raised when a built-in operation or function receives an argument of the correct data type but an inappropriate value.\n",
    "   - Common examples include passing an invalid argument to a function or trying to convert a string to an integer when the string doesn't represent a valid integer.\n",
    "\n",
    "Understanding these error types and their causes is essential for effective debugging and writing robust Python code."
   ]
  },
  {
   "cell_type": "markdown",
   "id": "98365825-6083-490e-bcc2-af6c2b99fe45",
   "metadata": {},
   "source": [
    "8.Write code for the following given scenario and add try-exception block to it.\n",
    "-------------------------------------------------------------------------------\n",
    "a. Program to divide two numbers\n",
    "--------------------------------"
   ]
  },
  {
   "cell_type": "code",
   "execution_count": 1,
   "id": "0010ce43-f123-40a6-b433-841a727f7d04",
   "metadata": {},
   "outputs": [
    {
     "name": "stdin",
     "output_type": "stream",
     "text": [
      "Enter the first number:  9\n",
      "Enter the second number:  3\n"
     ]
    },
    {
     "name": "stdout",
     "output_type": "stream",
     "text": [
      "Result: 3.0\n"
     ]
    }
   ],
   "source": [
    "try:\n",
    "    num1 = float(input(\"Enter the first number: \"))\n",
    "    num2 = float(input(\"Enter the second number: \"))\n",
    "    \n",
    "    result = num1 / num2\n",
    "    print(\"Result:\", result)\n",
    "\n",
    "except ZeroDivisionError:\n",
    "    print(\"Division by zero is not allowed.\")\n",
    "\n",
    "except ValueError:\n",
    "    print(\"Invalid input. Please enter valid numbers.\")\n"
   ]
  },
  {
   "cell_type": "markdown",
   "id": "ed82f248-8ea8-4a0c-963d-576cca3768a9",
   "metadata": {},
   "source": [
    "b.Program to convert a string to an integer\n",
    "-------------------------------------------"
   ]
  },
  {
   "cell_type": "code",
   "execution_count": 17,
   "id": "8b455efa-1159-4c7d-aa9b-c44f46052f96",
   "metadata": {},
   "outputs": [
    {
     "name": "stdin",
     "output_type": "stream",
     "text": [
      "Enter a string:  2\n"
     ]
    },
    {
     "name": "stdout",
     "output_type": "stream",
     "text": [
      "String: 2\n",
      "Integer: 2\n"
     ]
    }
   ],
   "source": [
    "try:\n",
    "    input_str = input(\"Enter a string: \")  # Input a string from the user\n",
    "    integer_value = int(input_str)         # Convert the string to an integer\n",
    "    \n",
    "    print(\"String:\", input_str)\n",
    "    print(\"Integer:\", integer_value)\n",
    "\n",
    "except ValueError:\n",
    "    print(\"Invalid input. Please enter a valid integer in string format.\")"
   ]
  },
  {
   "cell_type": "markdown",
   "id": "3d5f8ca9-ff64-458c-864a-b4330f3b798b",
   "metadata": {},
   "source": [
    "c.Program to access an element in a list\n",
    "-----------------------------------------"
   ]
  },
  {
   "cell_type": "code",
   "execution_count": 6,
   "id": "9e1bc020-40b8-4c4a-9820-b4c9dcc8447d",
   "metadata": {},
   "outputs": [
    {
     "name": "stdin",
     "output_type": "stream",
     "text": [
      "Enter an index:  2\n"
     ]
    },
    {
     "name": "stdout",
     "output_type": "stream",
     "text": [
      "Value at index 2: 3\n"
     ]
    }
   ],
   "source": [
    "my_list = [1, 2, 3, 4, 5]\n",
    "\n",
    "try:\n",
    "    index = int(input(\"Enter an index: \"))\n",
    "    value = my_list[index]\n",
    "    print(\"Value at index {}: {}\".format(index, value))\n",
    "\n",
    "except IndexError:\n",
    "    print(\"Index out of range. Please enter a valid index.\")\n",
    "\n",
    "except ValueError:\n",
    "    print(\"Invalid input. Please enter a valid integer index.\")"
   ]
  },
  {
   "cell_type": "markdown",
   "id": "f305108d-7984-4a60-a8cf-88a835b6be09",
   "metadata": {},
   "source": [
    "d.Program to handle a specific exception\n",
    "----------------------------------------"
   ]
  },
  {
   "cell_type": "code",
   "execution_count": 7,
   "id": "4b8a4357-a20c-4413-b441-29f0f6ec6856",
   "metadata": {},
   "outputs": [
    {
     "name": "stdin",
     "output_type": "stream",
     "text": [
      "Enter a positive number:  -9\n"
     ]
    },
    {
     "name": "stdout",
     "output_type": "stream",
     "text": [
      "Error: Number must be positive\n"
     ]
    }
   ],
   "source": [
    "try:\n",
    "    num = int(input(\"Enter a positive number: \"))\n",
    "    \n",
    "    if num <= 0:\n",
    "        raise ValueError(\"Number must be positive\")\n",
    "    \n",
    "    print(\"You entered a positive number:\", num)\n",
    "\n",
    "except ValueError as ve:\n",
    "    print(\"Error:\", ve)"
   ]
  },
  {
   "cell_type": "code",
   "execution_count": 9,
   "id": "f03df873-d7ef-4534-80c7-374109aca1b4",
   "metadata": {},
   "outputs": [
    {
     "name": "stdin",
     "output_type": "stream",
     "text": [
      "Enter a positive number:  9\n"
     ]
    },
    {
     "name": "stdout",
     "output_type": "stream",
     "text": [
      "You entered a positive number: 9\n"
     ]
    }
   ],
   "source": [
    "try:\n",
    "    num = int(input(\"Enter a positive number: \"))\n",
    "    \n",
    "    if num <= 0:\n",
    "        raise ValueError(\"Number must be positive\")\n",
    "    \n",
    "    print(\"You entered a positive number:\", num)\n",
    "\n",
    "except ValueError as ve:\n",
    "    print(\"Error:\", ve)"
   ]
  },
  {
   "cell_type": "markdown",
   "id": "739748d1-74ee-4e77-a9e3-3b24fb2427ec",
   "metadata": {},
   "source": [
    "e.Program to handle any exception\n",
    "--------------------------------"
   ]
  },
  {
   "cell_type": "code",
   "execution_count": 10,
   "id": "a3bfc838-f548-4df6-b0a7-4a72f45da468",
   "metadata": {},
   "outputs": [
    {
     "name": "stdout",
     "output_type": "stream",
     "text": [
      "An exception occurred: division by zero\n"
     ]
    }
   ],
   "source": [
    "try:\n",
    "    result = 10 / 0  # This line may raise a ZeroDivisionError\n",
    "    print(\"Result:\", result)\n",
    "\n",
    "except Exception as e:\n",
    "    print(\"An exception occurred:\", e)"
   ]
  }
 ],
 "metadata": {
  "kernelspec": {
   "display_name": "Python 3 (ipykernel)",
   "language": "python",
   "name": "python3"
  },
  "language_info": {
   "codemirror_mode": {
    "name": "ipython",
    "version": 3
   },
   "file_extension": ".py",
   "mimetype": "text/x-python",
   "name": "python",
   "nbconvert_exporter": "python",
   "pygments_lexer": "ipython3",
   "version": "3.10.9"
  }
 },
 "nbformat": 4,
 "nbformat_minor": 5
}
