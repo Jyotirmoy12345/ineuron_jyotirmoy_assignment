{
 "cells": [
  {
   "cell_type": "markdown",
   "id": "bb8bb22a-4484-4b8a-b8fc-9949caf19586",
   "metadata": {},
   "source": [
    "1.What does an empty dictionary's code look like?"
   ]
  },
  {
   "cell_type": "markdown",
   "id": "5fbae957-b669-4b3c-8ddb-0cb8317984aa",
   "metadata": {},
   "source": [
    "Answer:\n",
    "-------\n",
    "An empty dictionary in Python is created using curly braces `{}` or by using the `dict()` constructor with no arguments. Here's what it looks like:\n",
    "\n",
    "Using Curly Braces:\n",
    "\n",
    "-------------------\n",
    "empty_dict = {}\n",
    "\n",
    "-------------------\n",
    "\n",
    "Using `dict()` Constructor:\n",
    "\n",
    "--------------------\n",
    "empty_dict = dict()\n",
    "\n",
    "--------------------\n",
    "\n",
    "Both of these methods create an empty dictionary named `empty_dict`. An empty dictionary contains no key-value pairs and is represented as `{}` when printed."
   ]
  },
  {
   "cell_type": "markdown",
   "id": "08304e06-772c-4a63-926e-03bd976f26c0",
   "metadata": {},
   "source": [
    "2.What is the value of a dictionary value with the key 'foo' and the value 42?"
   ]
  },
  {
   "cell_type": "markdown",
   "id": "014840af-53a2-4855-aeab-26176f74c91d",
   "metadata": {},
   "source": [
    "Answer:\n",
    "------\n",
    "\n",
    "A dictionary value with the key `'foo'` and the value `42` would be represented as follows:\n",
    "\n",
    "---------------------\n",
    "my_dict = {'foo': 42}\n",
    "\n",
    "---------------------\n",
    "\n",
    "In this dictionary (`my_dict`), `'foo'` is the key, and `42` is the associated value. We can access the value associated with the key `'foo'` using `my_dict['foo']`, which would give us the value `42`."
   ]
  },
  {
   "cell_type": "markdown",
   "id": "166ef055-a03b-4233-838d-64d3a999b39d",
   "metadata": {},
   "source": [
    "3.What is the most significant distinction between a dictionary and a list?"
   ]
  },
  {
   "cell_type": "markdown",
   "id": "545f3c1b-efa3-4130-81d4-c00e4e1ffb0c",
   "metadata": {},
   "source": [
    "Answer:\n",
    "-------\n",
    "\n",
    "The most significant distinction between a dictionary and a list in Python is how they store and access data:\n",
    "\n",
    "1. **Data Storage and Access:**\n",
    "   - **List:** A list is an ordered collection of elements, where each element is accessed by its index (position) within the list. Lists use integer indices starting from `0`.\n",
    "   - **Dictionary:** A dictionary is an unordered collection of key-value pairs. Instead of using indices, we access values by providing the associated key. Keys in a dictionary are unique and immutable, and they are used to retrieve the corresponding values.\n",
    "\n",
    "2. **Data Structure:**\n",
    "   - **List:** Lists are typically used for storing ordered collections of items where the order and position of each item matter. Elements in a list can be of any data type, and they are usually accessed by their positions.\n",
    "   - **Dictionary:** Dictionaries are used for storing key-value pairs, where each key maps to a specific value. They are suitable for situations where we want to associate values with specific keys or labels. Keys in a dictionary are typically strings, numbers, or other hashable types.\n",
    "\n",
    "3. **Ordering:**\n",
    "   - **List:** Lists are ordered, which means the elements have a specific order, and that order is maintained.\n",
    "   - **Dictionary:** Dictionaries are unordered, which means the key-value pairs do not have a specific order. Starting from Python 3.7 and later, dictionaries do maintain insertion order, but we should not rely on this behavior in older versions of Python.\n",
    "\n",
    "4. **Access Time:**\n",
    "   - **List:** Accessing an element in a list by index is relatively fast and has constant time complexity O(1).\n",
    "   - **Dictionary:** Accessing a value in a dictionary by key is also fast and has constant time complexity O(1), on average, due to hashing.\n",
    "\n",
    "5. **Mutability:**\n",
    "   - **List:** Lists are mutable, so we can change, add, or remove elements after creating the list.\n",
    "   - **Dictionary:** Dictionaries are mutable as well; we can change the values associated with keys, add new key-value pairs, or remove existing ones.\n",
    "\n",
    "In summary, while both lists and dictionaries are used for storing and managing data, they serve different purposes and have different access mechanisms. Lists are ordered collections accessed by index, whereas dictionaries are collections of key-value pairs accessed by key. Our choice between them depends on our specific data storage and retrieval requirements."
   ]
  },
  {
   "cell_type": "markdown",
   "id": "445e3a32-4b0f-4517-a1fd-0c9068250c08",
   "metadata": {},
   "source": [
    "4.What happens if you try to access spam['foo'] if spam is {'bar': 100}?"
   ]
  },
  {
   "cell_type": "markdown",
   "id": "c40e3bba-c6de-4baf-92ae-3c3a2e555e30",
   "metadata": {},
   "source": [
    "Answer:\n",
    "-------\n",
    "\n",
    "If we try to access spam['foo'] and spam is {'bar': 100}, we will encounter a KeyError. This error occurs because 'foo' is not a key in the dictionary spam. In Python, dictionary keys are case-sensitive, so we must use the exact key that exists in the dictionary to access a value.\n",
    "\n",
    "Here's the error we would encounter:"
   ]
  },
  {
   "cell_type": "code",
   "execution_count": 6,
   "id": "484c2094-5d44-4cdb-bf7c-c5db0a488ec3",
   "metadata": {},
   "outputs": [
    {
     "ename": "KeyError",
     "evalue": "'foo'",
     "output_type": "error",
     "traceback": [
      "\u001b[1;31m---------------------------------------------------------------------------\u001b[0m",
      "\u001b[1;31mKeyError\u001b[0m                                  Traceback (most recent call last)",
      "Cell \u001b[1;32mIn[6], line 2\u001b[0m\n\u001b[0;32m      1\u001b[0m spam \u001b[38;5;241m=\u001b[39m {\u001b[38;5;124m'\u001b[39m\u001b[38;5;124mbar\u001b[39m\u001b[38;5;124m'\u001b[39m: \u001b[38;5;241m100\u001b[39m}\n\u001b[1;32m----> 2\u001b[0m value \u001b[38;5;241m=\u001b[39m \u001b[43mspam\u001b[49m\u001b[43m[\u001b[49m\u001b[38;5;124;43m'\u001b[39;49m\u001b[38;5;124;43mfoo\u001b[39;49m\u001b[38;5;124;43m'\u001b[39;49m\u001b[43m]\u001b[49m  \u001b[38;5;66;03m# KeyError: 'foo' is not a key in the dictionary\u001b[39;00m\n\u001b[0;32m      3\u001b[0m \u001b[38;5;28mprint\u001b[39m(value)\n",
      "\u001b[1;31mKeyError\u001b[0m: 'foo'"
     ]
    }
   ],
   "source": [
    "spam = {'bar': 100}\n",
    "value = spam['foo']  # KeyError: 'foo' is not a key in the dictionary\n",
    "print(value)"
   ]
  },
  {
   "cell_type": "markdown",
   "id": "93f5dca0-19ad-4a67-adf2-dc4fd0c01e33",
   "metadata": {},
   "source": [
    "To avoid this error, we should only try to access keys that actually exist in the dictionary. If we're unsure whether a key exists, we can use the get() method or check for key existence using the in operator to handle potential missing keys gracefully."
   ]
  },
  {
   "cell_type": "markdown",
   "id": "b2380526-48b5-481e-a7fd-8f85672fdb70",
   "metadata": {},
   "source": [
    "5.If a dictionary is stored in spam, what is the difference between the expressions 'cat' in spam and 'cat' in spam.keys()?"
   ]
  },
  {
   "cell_type": "markdown",
   "id": "402773c2-3fc9-4fe2-8006-03e02a1ca657",
   "metadata": {},
   "source": [
    "Answer:\n",
    "-------\n",
    "\n",
    "In Python, when a dictionary is stored in the variable `spam`, there is a difference between the expressions `'cat' in spam` and `'cat' in spam.keys()`:\n",
    "\n",
    "1. `'cat' in spam`:\n",
    "   - This expression checks whether the key `'cat'` exists in the dictionary `spam`.\n",
    "   - If `'cat'` is a key in the dictionary (i.e., `'cat'` is one of the keys in `spam`), this expression evaluates to `True`.\n",
    "   - If `'cat'` is not a key in the dictionary, it evaluates to `False`.\n",
    "\n",
    "2. `'cat' in spam.keys()`:\n",
    "   - This expression checks whether the key `'cat'` exists in the dictionary `spam` by explicitly using the `keys()` method.\n",
    "   - It has the same behavior as `'cat' in spam` and also evaluates to `True` if `'cat'` is a key in the dictionary and `False` if it is not.\n",
    "\n",
    "Both expressions are used to check for the presence of a specific key in a dictionary. The difference is that the second expression, `'cat' in spam.keys()`, is more explicit in its intention by explicitly calling the `keys()` method, but it has the same effect as the first expression, `'cat' in spam`."
   ]
  },
  {
   "cell_type": "markdown",
   "id": "9a286e22-6b80-4650-aa1f-a38b24565dd4",
   "metadata": {},
   "source": [
    "6.If a dictionary is stored in spam, what is the difference between the expressions 'cat' in spam and 'cat' in spam.values()?"
   ]
  },
  {
   "cell_type": "markdown",
   "id": "d6a1d6de-711f-4dd3-b05e-4b4c9736804c",
   "metadata": {},
   "source": [
    "Answer:\n",
    "-------\n",
    "\n",
    "In Python, when a dictionary is stored in the variable `spam`, there is a difference between the expressions `'cat' in spam` and `'cat' in spam.values()`:\n",
    "\n",
    "1. `'cat' in spam`:\n",
    "   - This expression checks whether the key `'cat'` exists in the dictionary `spam`.\n",
    "   - It evaluates to `True` if `'cat'` is a key in the dictionary (i.e., `'cat'` is one of the keys in `spam`).\n",
    "   - It evaluates to `False` if `'cat'` is not a key in the dictionary.\n",
    "\n",
    "2. `'cat' in spam.values()`:\n",
    "   - This expression checks whether the value `'cat'` exists as a value in the dictionary `spam`.\n",
    "   - It evaluates to `True` if `'cat'` is one of the values in the dictionary, meaning that at least one key in `spam` maps to the value `'cat'`.\n",
    "   - It evaluates to `False` if `'cat'` is not present as a value in the dictionary.\n",
    "\n",
    "In summary, the difference between the two expressions is what they are checking for. The first expression, `'cat' in spam`, checks for the presence of the key `'cat'` in the dictionary, while the second expression, `'cat' in spam.values()`, checks for the presence of the value `'cat'` in the dictionary's values."
   ]
  },
  {
   "cell_type": "markdown",
   "id": "a20fad75-71ac-4605-8815-e651dfb9e55f",
   "metadata": {},
   "source": [
    "7.What is a shortcut for the following code?"
   ]
  },
  {
   "cell_type": "markdown",
   "id": "d5cd8632-c46d-422e-9fcd-0304417368db",
   "metadata": {},
   "source": [
    "Answer:\n",
    "-------\n",
    "\n",
    "A shortcut for the given code is to use the `setdefault()` method of dictionaries. The `setdefault()` method checks if a key exists in the dictionary, and if it doesn't, it sets a default value for that key. Here's how we can use it:\n",
    "\n",
    "-----------------------------------\n",
    "spam.setdefault('color', 'black')\n",
    "\n",
    "----------------------------------\n",
    "\n",
    "In this code, if the key `'color'` is not present in the `spam` dictionary, it will be added with the default value `'black'`. If the key already exists, it will not be modified, ensuring that we don't accidentally overwrite an existing value."
   ]
  },
  {
   "cell_type": "markdown",
   "id": "a37a426a-77e5-40ad-a65e-52e1287e2e06",
   "metadata": {},
   "source": [
    "8.How do you \"pretty print\" dictionary values using which module and function?"
   ]
  },
  {
   "cell_type": "markdown",
   "id": "c51ca4ee-1f61-495e-bace-d3e3173dc826",
   "metadata": {},
   "source": [
    "Answer:\n",
    "------\n",
    "\n",
    "We can \"pretty print\" dictionary values in Python using the pprint module, specifically the pprint() function from this module. \"Pretty printing\" refers to formatting data structures like dictionaries and lists in a human-readable and well-organized way. Here's how we can use it:\n",
    "\n",
    "1.Import the pprint module:\n",
    "2.Create a dictionary or use an existing one that we want to pretty print.\n",
    "3.Use the pprint.pprint() function to print the dictionary in a more readable format:\n",
    "The pprint.pprint() function will format the dictionary in a way that makes it easier to read, especially when dealing with nested dictionaries or lists. It also aligns elements and adds line breaks as needed to improve the display of complex data structures."
   ]
  },
  {
   "cell_type": "code",
   "execution_count": 7,
   "id": "ff513fca-5d0e-4826-88b8-8fe97100acb2",
   "metadata": {},
   "outputs": [
    {
     "name": "stdout",
     "output_type": "stream",
     "text": [
      "{'age': 30, 'city': 'New York', 'name': 'John'}\n"
     ]
    }
   ],
   "source": [
    "import pprint\n",
    "my_dict = {'name': 'John', 'age': 30, 'city': 'New York'}\n",
    "pprint.pprint(my_dict)"
   ]
  }
 ],
 "metadata": {
  "kernelspec": {
   "display_name": "Python 3 (ipykernel)",
   "language": "python",
   "name": "python3"
  },
  "language_info": {
   "codemirror_mode": {
    "name": "ipython",
    "version": 3
   },
   "file_extension": ".py",
   "mimetype": "text/x-python",
   "name": "python",
   "nbconvert_exporter": "python",
   "pygments_lexer": "ipython3",
   "version": "3.10.9"
  }
 },
 "nbformat": 4,
 "nbformat_minor": 5
}
