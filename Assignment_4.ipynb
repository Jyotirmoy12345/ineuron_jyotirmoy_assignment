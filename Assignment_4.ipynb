{
 "cells": [
  {
   "cell_type": "markdown",
   "id": "4ba92488-dfb5-408e-a0d6-56d8dc5183d0",
   "metadata": {},
   "source": [
    "1. What exactly is []?"
   ]
  },
  {
   "cell_type": "markdown",
   "id": "abae60e6-c77b-480b-bca1-52192ab2e7fd",
   "metadata": {},
   "source": [
    "Answer:\n",
    "------\n",
    "In Python, [] represents an empty list. A list is a data structure that holds an ordered collection of items, which can be of any data type, such as numbers, strings, or other objects. An empty list is a list that doesn't contain any items."
   ]
  },
  {
   "cell_type": "markdown",
   "id": "88ff854c-6756-409f-88f0-d78f53d33a7d",
   "metadata": {},
   "source": [
    "2. In a list of values stored in a variable called spam, how would you assign the value 'hello' as the third value? (Assume [2, 4, 6, 8, 10] are in spam.)"
   ]
  },
  {
   "cell_type": "markdown",
   "id": "4875356a-0fcf-4718-bc3b-6ff3afc2dde9",
   "metadata": {},
   "source": [
    "Answer:\n",
    "-------\n",
    "To assign the value 'hello' as the third value in a list stored in a variable called spam, we can use indexing. In Python, indexing starts from 0, so the third value has an index of 2.\n",
    "\n",
    "Here's how we can do it:"
   ]
  },
  {
   "cell_type": "code",
   "execution_count": 1,
   "id": "36e2c2d2-9e52-43b0-b9be-78f183695a7b",
   "metadata": {},
   "outputs": [
    {
     "name": "stdout",
     "output_type": "stream",
     "text": [
      "[2, 4, 'hello', 8, 10]\n"
     ]
    }
   ],
   "source": [
    "spam = [2, 4, 6, 8, 10]  # The original list\n",
    "\n",
    "spam[2] = 'hello'  # Assigning 'hello' to the third value (index 2)\n",
    "\n",
    "print(spam)  # Output: [2, 4, 'hello', 8, 10]"
   ]
  },
  {
   "cell_type": "markdown",
   "id": "2f853122-9604-47e7-89ea-052db1b047dc",
   "metadata": {},
   "source": [
    "In this example, the value 'hello' is assigned to the third position in the list using the index 2. The resulting list will have 'hello' as its third value."
   ]
  },
  {
   "cell_type": "markdown",
   "id": "81f160c7-8821-4f6c-ab0d-64f97b3c1e6d",
   "metadata": {},
   "source": [
    "3. Let's pretend the spam includes the list ['a', 'b', 'c', 'd']\n",
    " What is the value of spam[int(int('3' * 2) / 11)]?"
   ]
  },
  {
   "cell_type": "markdown",
   "id": "0b9c7e8b-d70d-453e-afd7-d1dbed882607",
   "metadata": {},
   "source": [
    "Answer:\n",
    "------\n",
    "\n",
    "int('3' * 2) evaluates to 33 because '3' * 2 results in the string '33', and then int() converts it to an integer.\n",
    "\n",
    "int('33') / 11 evaluates to 3.0 because 33 divided by 11 results in 3.0.\n",
    "\n",
    "int(3.0) converts the float value 3.0 back to an integer, resulting in 3.\n",
    "\n",
    "So, the expression spam[int(int('3' * 2) / 11)] can be simplified to spam[3], which means accessing the element at index 3 in the list.\n",
    "\n",
    "Since Python uses zero-based indexing, index 3 corresponds to the fourth element in the list, which is 'd'. Therefore, the value of spam[int(int('3' * 2) / 11)] is 'd'."
   ]
  },
  {
   "cell_type": "code",
   "execution_count": 2,
   "id": "2f9824da-31f1-4341-9c37-1404c1458714",
   "metadata": {},
   "outputs": [
    {
     "data": {
      "text/plain": [
       "'d'"
      ]
     },
     "execution_count": 2,
     "metadata": {},
     "output_type": "execute_result"
    }
   ],
   "source": [
    "spam = ['a', 'b', 'c', 'd']\n",
    "spam[int(int('3' * 2) / 11)]"
   ]
  },
  {
   "cell_type": "markdown",
   "id": "4ea9303c-54c8-42be-b615-473260adbc86",
   "metadata": {},
   "source": [
    "4. Let's pretend the spam includes the list ['a', 'b', 'c', 'd']\n",
    "What is the value of spam[-1]?"
   ]
  },
  {
   "cell_type": "markdown",
   "id": "38a33cb4-982c-4eb0-9166-67519347eabc",
   "metadata": {},
   "source": [
    "Answer:\n",
    "-------\n",
    "Given the list ['a', 'b', 'c', 'd'] stored in the variable spam, the value of spam[-1] corresponds to the last element of the list. In this case, the last element is 'd'. Therefore, the value of spam[-1] is 'd'. Negative indices in Python are used to count elements from the end of the list, where -1 represents the last element, -2 represents the second-to-last element, and so on."
   ]
  },
  {
   "cell_type": "code",
   "execution_count": 3,
   "id": "941eaea2-2a81-40b3-b64e-5df7ad4f80cb",
   "metadata": {},
   "outputs": [
    {
     "data": {
      "text/plain": [
       "'d'"
      ]
     },
     "execution_count": 3,
     "metadata": {},
     "output_type": "execute_result"
    }
   ],
   "source": [
    "spam = ['a', 'b', 'c', 'd']\n",
    "spam[-1]"
   ]
  },
  {
   "cell_type": "markdown",
   "id": "3ff9d1ca-d993-471c-b8b5-3533652c463b",
   "metadata": {},
   "source": [
    "5. Let's pretend the spam includes the list ['a', 'b', 'c', 'd']\n",
    "What is the value of spam[:2]?"
   ]
  },
  {
   "cell_type": "markdown",
   "id": "2dccae66-8d50-43bb-bed5-5871a3f57884",
   "metadata": {},
   "source": [
    "Answer:\n",
    "-------\n",
    "Given the list `['a', 'b', 'c', 'd']` stored in the variable `spam`, the value of `spam[:2]` is a new list containing the elements from the beginning of the list up to (but not including) the element at index 2. This is known as slicing.\n",
    "\n",
    "So, the value of `spam[:2]` would be `['a', 'b']`. It includes elements at indices `0` and `1`, but does not include the element at index `2` (`'c'`). Slicing allows us to extract a portion of a list based on specified start and end indices."
   ]
  },
  {
   "cell_type": "code",
   "execution_count": 4,
   "id": "367187f2-57c2-4836-bc50-fbf8bc94a4ff",
   "metadata": {},
   "outputs": [
    {
     "data": {
      "text/plain": [
       "['a', 'b']"
      ]
     },
     "execution_count": 4,
     "metadata": {},
     "output_type": "execute_result"
    }
   ],
   "source": [
    "spam = ['a', 'b', 'c', 'd']\n",
    "spam[:2]"
   ]
  },
  {
   "cell_type": "markdown",
   "id": "698a38a3-f866-4702-971d-9f1e047f3268",
   "metadata": {},
   "source": [
    "6.Let's pretend bacon has the list [3.14,'cat', 11, 'cat',True]\n",
    "What is the value of bacon.index('cat')"
   ]
  },
  {
   "cell_type": "markdown",
   "id": "7d1e8ae9-66b8-4111-80bd-53e15e1d5745",
   "metadata": {},
   "source": [
    "Answer:\n",
    "-------\n",
    "Given the list [3.14, 'cat', 11, 'cat', True] stored in the variable bacon, the value of bacon.index('cat') is 1.\n",
    "\n",
    "In this list, the first occurrence of the string 'cat' is at index 1. The index() method returns the index of the first occurrence of the specified value in the list.\n",
    "\n",
    "So, the value of bacon.index('cat') is 1."
   ]
  },
  {
   "cell_type": "code",
   "execution_count": 5,
   "id": "1b33477e-1cb3-4e9f-8493-5246063231dd",
   "metadata": {},
   "outputs": [
    {
     "data": {
      "text/plain": [
       "1"
      ]
     },
     "execution_count": 5,
     "metadata": {},
     "output_type": "execute_result"
    }
   ],
   "source": [
    "bacon=[3.14, 'cat', 11, 'cat', True]\n",
    "bacon.index('cat')"
   ]
  },
  {
   "cell_type": "markdown",
   "id": "d2cbf13b-b14b-4276-bcd6-0330399b77d7",
   "metadata": {},
   "source": [
    "7. Let's pretend bacon has the list [3.14, 'cat', 11, 'cat', True]\n",
    "How does bacon.append(99) change the look of the list value in bacon?"
   ]
  },
  {
   "cell_type": "markdown",
   "id": "ca0854c6-92a0-4f85-92ec-6def95c7c72b",
   "metadata": {},
   "source": [
    "Answer:\n",
    "-------\n",
    "If the list `bacon` is initially `[3.14, 'cat', 11, 'cat', True]`, then calling `bacon.append(99)` will modify the list by adding the value `99` to the end of the list. After calling `bacon.append(99)`, the new look of the list will be:"
   ]
  },
  {
   "cell_type": "code",
   "execution_count": 8,
   "id": "35b79af1-1395-4399-8321-3ca29b6ceeb7",
   "metadata": {},
   "outputs": [
    {
     "name": "stdout",
     "output_type": "stream",
     "text": [
      "[3.14, 'cat', 11, 'cat', True, 99]\n"
     ]
    }
   ],
   "source": [
    "bacon=[3.14, 'cat', 11, 'cat', True]\n",
    "bacon.append(99)\n",
    "print(bacon)"
   ]
  },
  {
   "cell_type": "markdown",
   "id": "21245c85-3b99-42f4-8c82-2bc4904b48c9",
   "metadata": {},
   "source": [
    "The `append()` method in Python is used to add an element to the end of a list. In this case, the value `99` is appended to the end of the `bacon` list, resulting in the updated list with the additional element."
   ]
  },
  {
   "cell_type": "markdown",
   "id": "f97b0e07-67b3-4769-922e-3b5845f2f520",
   "metadata": {},
   "source": [
    "8. Let's pretend bacon has the list [3.14, 'cat', 11, 'cat', True]\n",
    "How does bacon.remove('cat') change the look of the list in bacon?"
   ]
  },
  {
   "cell_type": "markdown",
   "id": "fd779ad7-c3ef-436c-9156-f03271606d88",
   "metadata": {},
   "source": [
    "Answer:\n",
    "-------\n",
    "Starting with the list [3.14, 'cat', 11, 'cat', True] stored in the variable bacon, if we use the bacon.remove('cat') method to remove the first occurrence of the string 'cat', the updated list in bacon would be:"
   ]
  },
  {
   "cell_type": "code",
   "execution_count": 9,
   "id": "680f084b-1ba6-4380-aa93-34061e45538a",
   "metadata": {},
   "outputs": [
    {
     "name": "stdout",
     "output_type": "stream",
     "text": [
      "[3.14, 11, 'cat', True]\n"
     ]
    }
   ],
   "source": [
    "bacon=[3.14, 'cat', 11, 'cat', True]\n",
    "bacon.remove('cat')\n",
    "print(bacon)"
   ]
  },
  {
   "cell_type": "markdown",
   "id": "cc2e07be-13ca-4151-ba6f-a986e9a85c3d",
   "metadata": {},
   "source": [
    "Explanation:\n",
    "\n",
    "The remove() method searches for the specified value ('cat' in this case) in the list and removes the first occurrence of that value.\n",
    "After the removal, the list no longer contains the 'cat' element that was originally at index 1.\n",
    "So, the updated list in bacon is [3.14, 11, 'cat', True].\n",
    "Note: Only the first occurrence of 'cat' is removed, leaving the second occurrence in the list."
   ]
  },
  {
   "cell_type": "markdown",
   "id": "48633260-9d48-4e2a-929b-b9f72271cf55",
   "metadata": {},
   "source": [
    "9. What are the list concatenation and list replication operators?"
   ]
  },
  {
   "cell_type": "markdown",
   "id": "ed8a9e1c-895f-4dad-b1fd-da4e90e3805a",
   "metadata": {},
   "source": [
    "Answer:\n",
    "-------\n",
    "In Python, we can use the list concatenation operator `+` to combine (concatenate) two or more lists into a single list. we can also use the list replication operator `*` to create a new list by repeating the elements of a list a certain number of times.\n",
    "\n",
    "**List Concatenation Operator `+`**:\n",
    "\n",
    "The `+` operator allows us to concatenate two or more lists, creating a new list that contains all the elements from the combined lists.\n",
    "\n",
    "Example of list concatenation:"
   ]
  },
  {
   "cell_type": "code",
   "execution_count": 10,
   "id": "37218966-b705-4426-83ff-e3c371e186d0",
   "metadata": {},
   "outputs": [
    {
     "name": "stdout",
     "output_type": "stream",
     "text": [
      "[1, 2, 3, 4, 5, 6]\n"
     ]
    }
   ],
   "source": [
    "   list1 = [1, 2, 3]\n",
    "   list2 = [4, 5, 6]\n",
    "   concatenated_list = list1 + list2\n",
    "   print(concatenated_list)"
   ]
  },
  {
   "cell_type": "markdown",
   "id": "916d49bf-282a-41ad-a698-8a79c1ee5be3",
   "metadata": {},
   "source": [
    "**List Replication Operator `*`**:\n",
    "\n",
    "The `*` operator allows us to create a new list by repeating the elements of a list a specified number of times.\n",
    "\n",
    "Example of list replication:"
   ]
  },
  {
   "cell_type": "code",
   "execution_count": 12,
   "id": "33c0d00b-2037-405b-be39-472e2d2d669e",
   "metadata": {},
   "outputs": [
    {
     "name": "stdout",
     "output_type": "stream",
     "text": [
      "[0, 1, 0, 1, 0, 1]\n"
     ]
    }
   ],
   "source": [
    "original_list = [0, 1]\n",
    "replicated_list = original_list * 3\n",
    "print(replicated_list)"
   ]
  },
  {
   "cell_type": "markdown",
   "id": "74033c03-cf34-4ec8-a744-9958488543b1",
   "metadata": {},
   "source": [
    "Using these operators, we can manipulate and create new lists by combining existing lists or repeating elements."
   ]
  },
  {
   "cell_type": "markdown",
   "id": "1a8f3e23-0167-44d6-83c8-4dd3f758a85b",
   "metadata": {},
   "source": [
    "10. What is difference between the list methods append() and insert()?"
   ]
  },
  {
   "cell_type": "markdown",
   "id": "06efe67a-afbe-4d71-a569-2540080b7b43",
   "metadata": {},
   "source": [
    "Answer:\n",
    "-------\n",
    "In Python, both the `append()` and `insert()` methods are used to modify lists by adding elements to them, but they have different behaviors:\n",
    "\n",
    "`append()` Method:\n",
    "\n",
    "The `append()` method is used to add an element to the end of a list. It takes one argument, which is the element we want to add, and appends it to the end of the list.\n",
    "\n",
    "Example of `append()`:"
   ]
  },
  {
   "cell_type": "code",
   "execution_count": 14,
   "id": "0853606b-a768-43e3-9d0e-70e806e1e1fd",
   "metadata": {},
   "outputs": [
    {
     "name": "stdout",
     "output_type": "stream",
     "text": [
      "[1, 2, 3, 4]\n"
     ]
    }
   ],
   "source": [
    "   my_list = [1, 2, 3]\n",
    "   my_list.append(4)\n",
    "   print(my_list)"
   ]
  },
  {
   "cell_type": "markdown",
   "id": "fb0b8a73-a359-4ee0-8dd3-a82613d63df6",
   "metadata": {},
   "source": [
    "`insert()` Method:\n",
    "\n",
    "The `insert()` method is used to add an element at a specific index within the list. It takes two arguments: the first argument is the index where we want to insert the element, and the second argument is the element itself.\n",
    "\n",
    "Example of `insert()`:"
   ]
  },
  {
   "cell_type": "code",
   "execution_count": 15,
   "id": "2c8ce598-b85c-4956-aebf-2abd94ebcca7",
   "metadata": {},
   "outputs": [
    {
     "name": "stdout",
     "output_type": "stream",
     "text": [
      "[1, 5, 2, 3]\n"
     ]
    }
   ],
   "source": [
    "   my_list = [1, 2, 3]\n",
    "   my_list.insert(1, 5)  # Inserting 5 at index 1\n",
    "   print(my_list)"
   ]
  },
  {
   "cell_type": "markdown",
   "id": "d045ff55-fc8f-4dc6-8990-6a94bb28739e",
   "metadata": {},
   "source": [
    "In summary:\n",
    "\n",
    "The `append()` method adds an element to the end of the list.\n",
    "The `insert()` method adds an element at a specified index within the list.\n",
    "\n",
    "Choose the appropriate method based on where we want to add the element within the list."
   ]
  },
  {
   "cell_type": "markdown",
   "id": "d682c000-7bf4-411c-b024-b6d8d8913450",
   "metadata": {},
   "source": [
    "11. What are the two methods for removing items from a list?"
   ]
  },
  {
   "cell_type": "markdown",
   "id": "9b163d6b-0228-46f2-b855-e6c77dd0bfd5",
   "metadata": {},
   "source": [
    "Answer:\n",
    "-------\n",
    "In Python, there are two common methods for removing items from a list: remove() and pop().\n",
    "\n",
    "remove() Method:\n",
    "The remove() method is used to remove the first occurrence of a specified value from the list. If the value is not found in the list, it raises a ValueError.\n",
    "\n",
    "Example of remove():"
   ]
  },
  {
   "cell_type": "code",
   "execution_count": 1,
   "id": "42d23df2-bd30-47b7-b86c-763eef30ff4d",
   "metadata": {},
   "outputs": [
    {
     "name": "stdout",
     "output_type": "stream",
     "text": [
      "[1, 3, 2, 4]\n"
     ]
    }
   ],
   "source": [
    "my_list = [1, 2, 3, 2, 4]\n",
    "my_list.remove(2)  # Removes the first occurrence of 2\n",
    "print(my_list)"
   ]
  },
  {
   "cell_type": "markdown",
   "id": "cc465807-facd-46f7-a574-2e89dcc57a6a",
   "metadata": {},
   "source": [
    "pop() Method:\n",
    "The pop() method is used to remove an element at a specific index from the list. It takes an optional index argument and returns the removed value. If the index is not provided, it removes and returns the last element by default.\n",
    "\n",
    "Example of pop():"
   ]
  },
  {
   "cell_type": "code",
   "execution_count": 2,
   "id": "166182fe-c85f-4c98-89c8-b1cbfa75e412",
   "metadata": {},
   "outputs": [
    {
     "name": "stdout",
     "output_type": "stream",
     "text": [
      "[1, 3, 4]\n",
      "2\n"
     ]
    }
   ],
   "source": [
    "my_list = [1, 2, 3, 4]\n",
    "removed_item = my_list.pop(1)  # Removes and returns the element at index 1 (2)\n",
    "print(my_list)\n",
    "print(removed_item) "
   ]
  },
  {
   "cell_type": "markdown",
   "id": "5552f100-ddaf-409d-870f-0b9c242b48c1",
   "metadata": {},
   "source": [
    "12.Describe how list values and string values are identical"
   ]
  },
  {
   "cell_type": "markdown",
   "id": "737f3dd1-e2ba-4f61-bb20-300bd1080c9c",
   "metadata": {},
   "source": [
    "Answer:\n",
    "-------\n",
    "List values and string values in Python are similar in some ways, as they both involve sequences of data, but they also have important differences:\n",
    "\n",
    "**Similarities:**\n",
    "\n",
    "1.Ordered Sequences: Both lists and strings are ordered sequences of data. This means that the elements (characters or items) have a specific order, and we can access them using indexing.\n",
    "\n",
    "2.Indexing: We can access individual elements within both lists and strings using indexing. For example, `my_list[0]` would access the first element of a list, and `my_string[1]` would access the second character of a string.\n",
    "\n",
    "3.Iteration:We can iterate over the elements of both lists and strings using loops, such as `for` loops, to process each element one by one.\n",
    "\n",
    "**Differences:**\n",
    "\n",
    "1.Mutability:\n",
    "   - Lists are mutable, which means We can change, add, or remove elements after creating the list.\n",
    "   - Strings are immutable, meaning We cannot change the characters of a string once it's created. We can create a new string with the desired modifications.\n",
    "\n",
    "2.Data Type:\n",
    "   - Lists can hold elements of different data types, such as integers, strings, and other objects, within the same list.\n",
    "   - Strings are sequences of characters, and all elements within a string must be characters.\n",
    "\n",
    "3.Methods:\n",
    "   - Lists have methods like `append()`, `insert()`, `remove()`, and `pop()` that allow us to modify the list.\n",
    "   - Strings have methods like `split()`, `join()`, `replace()`, and `upper()` for various string-related operations.\n",
    "\n",
    "4.Syntax:\n",
    "   - Lists are enclosed in square brackets, e.g., `[1, 2, 3]`.\n",
    "   - Strings are enclosed in single or double quotes, e.g., `'Hello'` or `\"World\"`.\n",
    "\n",
    "5.Concatenation:\n",
    "   - Lists are concatenated using the `+` operator, which combines two or more lists into a new list.\n",
    "   - Strings are concatenated using the `+` operator to join two strings together to form a new string.\n",
    "\n",
    "In summary, while both lists and strings share some common characteristics as ordered sequences, they differ in terms of mutability, data type constraints, available methods, and syntax. Understanding these distinctions is important for effectively working with both data structures in Python."
   ]
  },
  {
   "cell_type": "markdown",
   "id": "91458721-c108-472f-9176-009d5447b056",
   "metadata": {},
   "source": [
    "13. What's the difference between tuples and lists?"
   ]
  },
  {
   "cell_type": "markdown",
   "id": "6ed09e4e-e7db-4fec-8bea-02b4be15a2a8",
   "metadata": {},
   "source": [
    "Answer:\n",
    "-------\n",
    "\n",
    "Tuples and lists are both used to store collections of items in Python, but they have several key differences:\n",
    "\n",
    "Mutability:\n",
    "\n",
    "Lists: Lists are mutable, which means We can change, add, or remove elements after creating the list. We can modify the list in-place.\n",
    "Tuples: Tuples are immutable, which means We cannot change their elements after creating the tuple. Once a tuple is defined, it cannot be modified.\n",
    "Syntax:\n",
    "\n",
    "Lists: Lists are enclosed in square brackets, e.g., [1, 2, 3].\n",
    "Tuples: Tuples are enclosed in parentheses, e.g., (1, 2, 3).\n",
    "Use Cases:\n",
    "\n",
    "Lists: Lists are typically used for collections of items where the order and contents may change over time. They are suitable for situations where we need to add, remove, or modify elements.\n",
    "Tuples: Tuples are used for collections of items where the order and contents are fixed and should not change. They are suitable for situations where data should remain constant, such as representing coordinates (x, y), or for returning multiple values from a function.\n",
    "Performance:\n",
    "\n",
    "Lists: Lists have slightly more overhead than tuples due to their mutability. Operations that modify lists may require more memory and be slightly slower than equivalent operations on tuples.\n",
    "Tuples: Tuples are more memory-efficient and generally faster for read-only operations because of their immutability.\n",
    "Methods:\n",
    "\n",
    "Lists: Lists have methods like append(), insert(), remove(), pop(), and others for modifying and working with lists.\n",
    "Tuples: Tuples have fewer built-in methods because of their immutability. They support methods like count() and index() for basic operations.\n",
    "Iteration:\n",
    "\n",
    "Both lists and tuples can be iterated over using loops, such as for loops, to process each element.\n",
    "In summary, the choice between lists and tuples depends on the specific requirements of our program. If we need a collection of items that should not change, use a tuple. If we need a collection of items that can be modified, use a list. Understanding the differences between them will help us make informed decisions when working with collections in Python"
   ]
  },
  {
   "cell_type": "markdown",
   "id": "17753601-bac4-4c96-bf13-71aa49337970",
   "metadata": {},
   "source": [
    "14. How do you type a tuple value that only contains the integer 42?"
   ]
  },
  {
   "cell_type": "markdown",
   "id": "6f31baef-a86c-4dcf-9a44-7c2a5ead417a",
   "metadata": {},
   "source": [
    "Answer:\n",
    "-------\n",
    "To create a tuple value that only contains the integer 42, We can enclose the integer within parentheses. Here's how we type a tuple with a single element:\n",
    "\n",
    "my_tuple = (42,)\n",
    "\n",
    "The trailing comma , after 42. This comma is necessary to distinguish between a single-element tuple and a simple expression enclosed in parentheses. It indicates that we're creating a tuple with one element, 42."
   ]
  },
  {
   "cell_type": "markdown",
   "id": "4b659ba8-f26a-49ee-9292-bc9e678baa85",
   "metadata": {},
   "source": [
    "15. How do you get a list value's tuple form? How do you get a tuple value's list form?"
   ]
  },
  {
   "cell_type": "markdown",
   "id": "7ee4fcd6-b296-4f84-8802-427b1040f51c",
   "metadata": {},
   "source": [
    "Answer:\n",
    "------\n",
    "We can convert between a list and a tuple in Python using the built-in `list()` and `tuple()` functions, respectively.\n",
    "\n",
    "1. **To Convert a List to a Tuple:**\n",
    "   - Use the `tuple()` function to convert a list into a tuple.\n",
    "\n",
    "   Example:"
   ]
  },
  {
   "cell_type": "code",
   "execution_count": 1,
   "id": "b3884a6b-a782-4638-bd23-59869a5a30c8",
   "metadata": {},
   "outputs": [
    {
     "name": "stdout",
     "output_type": "stream",
     "text": [
      "(1, 2, 3, 4)\n"
     ]
    }
   ],
   "source": [
    "   my_list = [1, 2, 3, 4]\n",
    "   my_tuple = tuple(my_list)\n",
    "   print(my_tuple)"
   ]
  },
  {
   "cell_type": "markdown",
   "id": "9e09d0d7-c058-4cf6-96cd-11c590530d64",
   "metadata": {},
   "source": [
    "2. **To Convert a Tuple to a List:**\n",
    "   - Use the `list()` function to convert a tuple into a list.\n",
    "\n",
    "   Example:"
   ]
  },
  {
   "cell_type": "code",
   "execution_count": 2,
   "id": "c22cdea4-37bb-4015-802d-1a690afa506e",
   "metadata": {},
   "outputs": [
    {
     "name": "stdout",
     "output_type": "stream",
     "text": [
      "[1, 2, 3, 4]\n"
     ]
    }
   ],
   "source": [
    "   my_tuple = (1, 2, 3, 4)\n",
    "   my_list = list(my_tuple)\n",
    "   print(my_list)"
   ]
  },
  {
   "cell_type": "markdown",
   "id": "a701bfe0-5502-4b2b-b624-95cc39546fe8",
   "metadata": {},
   "source": [
    "These functions allow us to easily convert between list and tuple forms while preserving the data contained within the collection."
   ]
  },
  {
   "cell_type": "markdown",
   "id": "b787a882-55e0-40fb-b83a-6277c1b33e3c",
   "metadata": {},
   "source": [
    "16. Variables that \"contain\" list values are not necessarily lists themselves. Instead, what do they contain?"
   ]
  },
  {
   "cell_type": "markdown",
   "id": "926b700f-f5d3-491d-95ed-04ab70b225a8",
   "metadata": {},
   "source": [
    "Answer:\n",
    "-------\n",
    "\n",
    "Variables that \"contain\" list values in Python do not actually contain the entire list. Instead, they contain a reference or a pointer to the list in memory. This means that the variable holds the memory address where the list is stored, rather than the list itself.\n",
    "\n",
    "When we assign a list to a variable, we're essentially creating a link between the variable name and the list in memory. Multiple variables can refer to the same list, and modifications made to the list through one variable will be reflected in all variables that reference the same list.\n",
    "\n",
    "Here's an example to illustrate this concept:"
   ]
  },
  {
   "cell_type": "code",
   "execution_count": 3,
   "id": "ab85e06f-cb53-4047-b1c6-eba340c05987",
   "metadata": {},
   "outputs": [
    {
     "name": "stdout",
     "output_type": "stream",
     "text": [
      "[1, 2, 3, 4]\n",
      "[1, 2, 3, 4]\n"
     ]
    }
   ],
   "source": [
    "# Creating a list and assigning it to two variables\n",
    "list1 = [1, 2, 3]\n",
    "list2 = list1\n",
    "\n",
    "# Modifying the list through one variable\n",
    "list1.append(4)\n",
    "\n",
    "# Both variables reflect the same modified list\n",
    "print(list1)\n",
    "print(list2)"
   ]
  },
  {
   "cell_type": "markdown",
   "id": "4d0e2066-6717-4abf-8191-ccc63f29d125",
   "metadata": {},
   "source": [
    "In this example, both list1 and list2 refer to the same list in memory. When we modify the list through list1, the change is also visible through list2. This behavior is because variables containing mutable objects like lists hold references to those objects rather than the objects themselves."
   ]
  },
  {
   "cell_type": "markdown",
   "id": "e2c92bd6-80a6-4225-80d0-923f192f5ece",
   "metadata": {},
   "source": [
    "17. How do you distinguish between copy.copy() and copy.deepcopy()?"
   ]
  },
  {
   "cell_type": "markdown",
   "id": "286a81ad-8fdc-441f-bd42-0f0c77cc64dc",
   "metadata": {},
   "source": [
    "Answer:\n",
    "------\n",
    "In Python's copy module, both copy.copy() and copy.deepcopy() are used to create copies of objects, but they behave differently, especially when dealing with nested objects:\n",
    "\n",
    "1.copy.copy() (Shallow Copy):\n",
    "\n",
    "copy.copy() creates a shallow copy of an object.\n",
    "A shallow copy of an object is a new object that is a copy of the original object with a new reference.\n",
    "For lists and other mutable objects, a shallow copy creates a new object, but the elements (or sub-objects) within the object are still references to the same elements as the original object.\n",
    "Changes to elements within the original object will be reflected in the shallow copy, and vice versa.\n",
    "\n",
    "Example:"
   ]
  },
  {
   "cell_type": "code",
   "execution_count": 4,
   "id": "240c49eb-d31d-4269-b56e-ae5e2b091beb",
   "metadata": {},
   "outputs": [
    {
     "name": "stdout",
     "output_type": "stream",
     "text": [
      "[1, [2, 3, 4]]\n",
      "[1, [2, 3, 4]]\n"
     ]
    }
   ],
   "source": [
    "import copy\n",
    "\n",
    "original_list = [1, [2, 3]]\n",
    "shallow_copy = copy.copy(original_list)\n",
    "\n",
    "# Modifying an element within the original list\n",
    "original_list[1].append(4)\n",
    "\n",
    "print(original_list)\n",
    "print(shallow_copy)"
   ]
  },
  {
   "cell_type": "markdown",
   "id": "12c73c47-8b32-4c74-82c5-494a6d817e7c",
   "metadata": {},
   "source": [
    "2.copy.deepcopy() (Deep Copy):\n",
    "\n",
    "copy.deepcopy() creates a deep copy of an object.\n",
    "A deep copy of an object is a new object that is a recursively copied version of the original object and all of its nested objects.\n",
    "Deep copy ensures that there are no shared references between the original object and its copy. Changes to the original object or its nested objects do not affect the deep copy, and vice versa.\n",
    "\n",
    "Example:"
   ]
  },
  {
   "cell_type": "code",
   "execution_count": 6,
   "id": "a535f619-e781-4b80-bd7a-d53262876750",
   "metadata": {},
   "outputs": [
    {
     "name": "stdout",
     "output_type": "stream",
     "text": [
      "[1, [2, 3, 4]]\n",
      "[1, [2, 3]]\n"
     ]
    }
   ],
   "source": [
    "import copy\n",
    "\n",
    "original_list = [1, [2, 3]]\n",
    "deep_copy = copy.deepcopy(original_list)\n",
    "\n",
    "# Modifying an element within the original list\n",
    "original_list[1].append(4)\n",
    "\n",
    "print(original_list)\n",
    "print(deep_copy)"
   ]
  },
  {
   "cell_type": "markdown",
   "id": "a314440e-f698-4be3-a298-f7e56e82eb48",
   "metadata": {},
   "source": [
    "In summary, the main difference is that copy.copy() creates a shallow copy that shares references to nested objects, while copy.deepcopy() creates a deep copy that recursively copies all nested objects, ensuring that the original and copied objects are independent. The choice between them depends on whether we want to maintain shared references or create fully independent copies of nested objects."
   ]
  }
 ],
 "metadata": {
  "kernelspec": {
   "display_name": "Python 3 (ipykernel)",
   "language": "python",
   "name": "python3"
  },
  "language_info": {
   "codemirror_mode": {
    "name": "ipython",
    "version": 3
   },
   "file_extension": ".py",
   "mimetype": "text/x-python",
   "name": "python",
   "nbconvert_exporter": "python",
   "pygments_lexer": "ipython3",
   "version": "3.10.9"
  }
 },
 "nbformat": 4,
 "nbformat_minor": 5
}
