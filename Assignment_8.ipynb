{
 "cells": [
  {
   "cell_type": "markdown",
   "id": "898e92a1-04ff-4611-a579-d1def48b0f0e",
   "metadata": {},
   "source": [
    "1.In Python, what is the difference between a built-in function and a user-defined function? Provide an\n",
    "example of each."
   ]
  },
  {
   "cell_type": "markdown",
   "id": "14258e6c-2a95-4229-b2e5-bbe980c8e503",
   "metadata": {},
   "source": [
    "Answer:\n",
    "-------\n",
    "\n",
    "In Python, there are two main types of functions: built-in functions and user-defined functions. Here's the key difference between them along with examples:\n",
    "\n",
    "1. Built-In Functions:\n",
    "\n",
    "Definition: Built-in functions are functions that are provided by the Python programming language itself. These functions are part of the Python standard library and are available for use without the need to define them.\n",
    "Examples: Some common built-in functions in Python include print(), len(), int(), str(), max(), min(), and range().\n",
    "Here's an example of using a built-in function, len(), to find the length of a string:"
   ]
  },
  {
   "cell_type": "code",
   "execution_count": 1,
   "id": "886db3b4-401a-4d8f-98c9-2bc9f95fbacd",
   "metadata": {},
   "outputs": [
    {
     "name": "stdout",
     "output_type": "stream",
     "text": [
      "13\n"
     ]
    }
   ],
   "source": [
    "my_string = \"Hello, World!\"\n",
    "length = len(my_string)\n",
    "print(length) "
   ]
  },
  {
   "cell_type": "markdown",
   "id": "0e4c23c0-b930-4bc7-9143-25938aa46b65",
   "metadata": {},
   "source": [
    "2. User-Defined Functions:\n",
    "\n",
    "Definition: User-defined functions are functions that are created by the programmer (user) to perform a specific task or set of tasks. These functions are defined using the def keyword, and they encapsulate a block of reusable code.\n",
    "Examples: We can define our own functions for custom tasks. Here's an example of a user-defined function that calculates the square of a number:"
   ]
  },
  {
   "cell_type": "code",
   "execution_count": 2,
   "id": "3fceabb1-688c-4bde-96c4-e9dcb695ffad",
   "metadata": {},
   "outputs": [
    {
     "name": "stdout",
     "output_type": "stream",
     "text": [
      "25\n"
     ]
    }
   ],
   "source": [
    "def square(x):\n",
    "    return x * x\n",
    "\n",
    "result = square(5)\n",
    "print(result) "
   ]
  },
  {
   "cell_type": "markdown",
   "id": "a4dd6766-167c-47ff-b5f2-897a0a4ab2bf",
   "metadata": {},
   "source": [
    "In this example, square is a user-defined function that takes an argument x and returns the square of x. We call the function with square(5) to calculate the square of 5.\n",
    "\n",
    "To summarize, the key difference is that built-in functions are provided by Python and do not require explicit definition, while user-defined functions are created by programmers to encapsulate custom logic and tasks. Both types of functions serve essential roles in Python programming, with built-in functions providing a wide range of functionality, and user-defined functions allowing for code organization and reusability."
   ]
  },
  {
   "cell_type": "markdown",
   "id": "601550bb-a4c6-4628-8926-bb3e1fc91b3d",
   "metadata": {},
   "source": [
    "2.How can you pass arguments to a function in Python? Explain the difference between positional\n",
    "arguments and keyword arguments."
   ]
  },
  {
   "cell_type": "markdown",
   "id": "c8696a74-06d5-4016-b8d8-93df64f56d81",
   "metadata": {},
   "source": [
    "Answer:\n",
    "-------\n",
    "\n",
    "In Python, We can pass arguments to a function in two main ways: positional arguments and keyword arguments. Let's explore each of these methods and the key differences between them:\n",
    "\n",
    "1. Positional Arguments:\n",
    "\n",
    "Positional arguments are the most common way to pass arguments to a function.\n",
    "When we pass arguments positionally, the values are matched to the function's parameters based on their order.\n",
    "The order and number of arguments passed must match the order and number of parameters in the function definition.\n",
    "Here's an example of using positional arguments:"
   ]
  },
  {
   "cell_type": "code",
   "execution_count": 3,
   "id": "6d826cca-9a67-4337-bb46-eb141f453961",
   "metadata": {},
   "outputs": [
    {
     "name": "stdout",
     "output_type": "stream",
     "text": [
      "Hello, Alice!\n"
     ]
    }
   ],
   "source": [
    "def greet(name, greeting):\n",
    "    print(f\"{greeting}, {name}!\")\n",
    "\n",
    "# Calling the function with positional arguments\n",
    "greet(\"Alice\", \"Hello\")  # Output: Hello, Alice!"
   ]
  },
  {
   "cell_type": "markdown",
   "id": "0dd9afe9-974b-4f40-a858-903fe8c81be3",
   "metadata": {},
   "source": [
    "In this example, the first argument \"Alice\" matches the name parameter, and the second argument \"Hello\" matches the greeting parameter based on their positions.\n",
    "\n",
    "2. Keyword Arguments:\n",
    "\n",
    "Keyword arguments allow us to specify which parameter each argument should be assigned to by using the parameter's name.\n",
    "They provide more flexibility and can make function calls more self-explanatory, especially for functions with many parameters.\n",
    "We can pass arguments in any order when using keyword arguments.\n",
    "Here's an example of using keyword arguments:"
   ]
  },
  {
   "cell_type": "code",
   "execution_count": 4,
   "id": "b4dd8c5a-ec35-4950-b00b-ee3bc7c2cba1",
   "metadata": {},
   "outputs": [
    {
     "name": "stdout",
     "output_type": "stream",
     "text": [
      "Hi, Bob!\n"
     ]
    }
   ],
   "source": [
    "def greet(name, greeting):\n",
    "    print(f\"{greeting}, {name}!\")\n",
    "\n",
    "# Calling the function with keyword arguments\n",
    "greet(greeting=\"Hi\", name=\"Bob\")  # Output: Hi, Bob!\n"
   ]
  },
  {
   "cell_type": "markdown",
   "id": "f5ce3ba3-2a03-4bb3-999c-679529a2265f",
   "metadata": {},
   "source": [
    "In this example, we explicitly specify which argument corresponds to name and which one corresponds to greeting.\n",
    "\n",
    "Difference between Positional and Keyword Arguments:\n",
    "\n",
    "Order Matters:\n",
    "\n",
    "Positional arguments rely on the order in which arguments are passed, so the first argument is assigned to the first parameter, the second to the second, and so on.\n",
    "Keyword arguments allow us to specify which argument corresponds to which parameter, regardless of their order.\n",
    "Readability and Clarity:\n",
    "\n",
    "Keyword arguments can make function calls more readable, especially for functions with many parameters or when we want to make it explicit which argument corresponds to which parameter.\n",
    "Mixing Styles:\n",
    "\n",
    "We can use both positional and keyword arguments in a single function call. However, positional arguments must come before keyword arguments.\n",
    "Example of mixing styles:\n",
    "\n",
    "---------------------------------------------------------------------------------\n",
    "\n",
    "greet(\"Alice\", greeting=\"Hello\")  # Valid: Mixing positional and keyword arguments\n",
    "\n",
    "-----------------------------------------------------------------------------------"
   ]
  },
  {
   "cell_type": "markdown",
   "id": "f8f2cfa4-861d-4555-9cfb-2df9a69142d0",
   "metadata": {},
   "source": [
    "3.What is the purpose of the return statement in a function? Can a function have multiple return\n",
    "statements? Explain with an example."
   ]
  },
  {
   "cell_type": "markdown",
   "id": "926a32ad-832a-479d-8df0-6752a3ce9b72",
   "metadata": {},
   "source": [
    "Answer:\n",
    "-------\n",
    "\n",
    "The return statement in a Python function serves two main purposes:\n",
    "\n",
    "Returning a Value: The primary purpose of the return statement is to specify the value that the function should produce as its result. When a function encounters a return statement, it immediately exits the function and returns the specified value to the caller.\n",
    "\n",
    "Terminating the Function: The return statement also serves as a way to terminate the execution of a function prematurely. Once a return statement is encountered, the function's execution is halted, and the control is passed back to the caller.\n",
    "\n",
    "Here's a simple example illustrating the use of the return statement to return a value from a function:"
   ]
  },
  {
   "cell_type": "code",
   "execution_count": 5,
   "id": "15c03c79-5d28-4f50-88f1-ffd0bace8008",
   "metadata": {},
   "outputs": [
    {
     "name": "stdout",
     "output_type": "stream",
     "text": [
      "8\n"
     ]
    }
   ],
   "source": [
    "def add(a, b):\n",
    "    result = a + b\n",
    "    return result  # This returns the value of 'result'\n",
    "\n",
    "# Calling the function and storing the result\n",
    "sum_result = add(3, 5)\n",
    "print(sum_result)  # Output: 8"
   ]
  },
  {
   "cell_type": "markdown",
   "id": "5ac7f0cc-6199-43bb-b649-f90664326ad9",
   "metadata": {},
   "source": [
    "In this example, the add function calculates the sum of two numbers (a and b) and returns the result using the return statement.\n",
    "\n",
    "Multiple Return Statements:\n",
    "\n",
    "Yes, a function can have multiple return statements. However, once a return statement is executed, the function exits immediately, and no further code in the function is executed. The purpose of having multiple return statements is to conditionally return different values based on certain conditions.\n",
    "\n",
    "Here's an example of a function with multiple return statements:"
   ]
  },
  {
   "cell_type": "code",
   "execution_count": 6,
   "id": "f3a1ba8d-f7c6-4efb-82f5-0640529ec4bd",
   "metadata": {},
   "outputs": [
    {
     "name": "stdout",
     "output_type": "stream",
     "text": [
      "5.0\n",
      "Division by zero is not allowed.\n"
     ]
    }
   ],
   "source": [
    "def divide(a, b):\n",
    "    if b == 0:\n",
    "        return \"Division by zero is not allowed.\"\n",
    "    else:\n",
    "        return a / b\n",
    "\n",
    "# Calling the function with different inputs\n",
    "result1 = divide(10, 2)   # Returns 5.0\n",
    "result2 = divide(8, 0)    # Returns \"Division by zero is not allowed.\"\n",
    "\n",
    "print(result1)\n",
    "print(result2)"
   ]
  },
  {
   "cell_type": "markdown",
   "id": "e6f3afd3-9326-49b3-9139-e3bf2d2c609c",
   "metadata": {},
   "source": [
    "In this example, the divide function checks if the denominator b is zero. If it is, it returns a message indicating that division by zero is not allowed. Otherwise, it returns the result of the division.\n",
    "\n",
    "So, a function can have multiple return statements, but only one of them will be executed based on the conditions specified in the function. Once a return statement is executed, the function exits, and the returned value is sent back to the caller."
   ]
  },
  {
   "cell_type": "markdown",
   "id": "5190ae84-75a0-4aa0-b301-7e22db8f6f81",
   "metadata": {},
   "source": [
    "4.What are lambda functions in Python? How are they different from regular functions? Provide an\n",
    "example where a lambda function can be useful."
   ]
  },
  {
   "cell_type": "markdown",
   "id": "0ff664f3-3ad3-40b6-a407-e89c25a3c80e",
   "metadata": {},
   "source": [
    "Answer:\n",
    "-------\n",
    "\n",
    "Lambda functions in Python, also known as anonymous functions, are small, inline functions that are defined using the lambda keyword. They are different from regular (named) functions in several ways:\n",
    "\n",
    "Anonymous: Lambda functions are anonymous, meaning they do not have a name. They are defined on the fly where they are needed.\n",
    "\n",
    "Single Expression: Lambda functions are limited to a single expression and cannot contain statements or multiple expressions.\n",
    "\n",
    "Short and Concise: Lambda functions are typically short and concise, making them suitable for simple, one-line operations.\n",
    "\n",
    "Here's the general syntax of a lambda function:\n",
    "\n",
    "lambda arguments: expression\n",
    "\n",
    "\n",
    "Now, let's look at an example where a lambda function can be useful. Suppose our have a list of numbers, and we want to sort them based on their remainder when divided by 5. we can use a lambda function with the sorted() function to achieve this:"
   ]
  },
  {
   "cell_type": "code",
   "execution_count": 7,
   "id": "b101cc95-61a3-4fc7-906c-7a016686647d",
   "metadata": {},
   "outputs": [
    {
     "name": "stdout",
     "output_type": "stream",
     "text": [
      "[15, 10, 6, 2, 7, 18, 9]\n"
     ]
    }
   ],
   "source": [
    "numbers = [15, 6, 10, 2, 18, 7, 9]\n",
    "\n",
    "# Sort the numbers based on their remainder when divided by 5\n",
    "sorted_numbers = sorted(numbers, key=lambda x: x % 5)\n",
    "\n",
    "print(sorted_numbers)"
   ]
  },
  {
   "cell_type": "markdown",
   "id": "c096af9f-4562-4455-8958-f9f4709cbfef",
   "metadata": {},
   "source": [
    "In this example, we use a lambda function as the key argument to sorted(). The lambda function takes each number from the list and returns its remainder when divided by 5. The sorted() function uses these remainders as the sorting criterion, resulting in the sorted list [10, 15, 6, 18, 7, 2, 9].\n",
    "\n",
    "Lambda functions are particularly useful in situations where we need a simple, one-off function for operations like sorting, filtering, or mapping elements in a list, and we don't want to define a separate named function. They provide a compact and convenient way to define such functions inline. However, for more complex or reusable functions, it's often better to use regular named functions."
   ]
  },
  {
   "cell_type": "markdown",
   "id": "52fac788-2290-4def-a178-9299728be58d",
   "metadata": {},
   "source": [
    "5.How does the concept of \"scope\" apply to functions in Python? Explain the difference between local\n",
    "scope and global scope."
   ]
  },
  {
   "cell_type": "markdown",
   "id": "4c15cee0-bc21-44e5-9eeb-c26713c9c60d",
   "metadata": {},
   "source": [
    "Answer:\n",
    "-------\n",
    "\n",
    "In Python, the concept of \"scope\" refers to the region in which a variable or name can be accessed or referenced. The scope determines where in our code a particular variable is visible and can be used. Python has two main types of scopes: local scope and global scope.\n",
    "\n",
    "1. Local Scope:\n",
    "\n",
    "Local scope refers to the innermost scope and is associated with a particular function or block of code.\n",
    "Variables defined within a function have local scope, meaning they are only accessible within that function.\n",
    "These variables are considered local variables and are created when the function is called and destroyed when the function exits.\n",
    "Local variables can't be accessed from outside the function.\n",
    "Functions can also access variables in their enclosing (higher-level) scopes, such as variables defined in the global scope or in outer functions (non-local scope). However, they cannot modify these outer variables directly unless they are explicitly declared as non-local.\n",
    "Here's an example illustrating local scope:"
   ]
  },
  {
   "cell_type": "code",
   "execution_count": 9,
   "id": "82e0f542-ddbc-41be-9277-0ac190657777",
   "metadata": {},
   "outputs": [
    {
     "name": "stdout",
     "output_type": "stream",
     "text": [
      "10\n"
     ]
    },
    {
     "ename": "NameError",
     "evalue": "name 'x' is not defined",
     "output_type": "error",
     "traceback": [
      "\u001b[1;31m---------------------------------------------------------------------------\u001b[0m",
      "\u001b[1;31mNameError\u001b[0m                                 Traceback (most recent call last)",
      "Cell \u001b[1;32mIn[9], line 6\u001b[0m\n\u001b[0;32m      3\u001b[0m     \u001b[38;5;28mprint\u001b[39m(x)\n\u001b[0;32m      5\u001b[0m my_function()\n\u001b[1;32m----> 6\u001b[0m \u001b[38;5;28mprint\u001b[39m(\u001b[43mx\u001b[49m)\n",
      "\u001b[1;31mNameError\u001b[0m: name 'x' is not defined"
     ]
    }
   ],
   "source": [
    "def my_function():\n",
    "    x = 10  # x is a local variable\n",
    "    print(x)\n",
    "\n",
    "my_function()\n",
    "print(x)  # This would result in a NameError because x is not defined in the global scope"
   ]
  },
  {
   "cell_type": "markdown",
   "id": "be97b604-cb9a-4900-a3e9-9d5272303753",
   "metadata": {},
   "source": [
    "In this example, x is a local variable within the my_function function. It is only accessible within the function.\n",
    "\n",
    "2. Global Scope:\n",
    "\n",
    "Global scope refers to the outermost scope of a Python program or module.\n",
    "Variables defined outside of all functions and blocks have global scope, making them accessible from anywhere in the program.\n",
    "Global variables are created when the program starts and persist throughout the program's execution.\n",
    "Functions can access and modify global variables, but they must declare them as global using the global keyword if they want to assign a new value to them.\n",
    "Here's an example illustrating global scope:"
   ]
  },
  {
   "cell_type": "code",
   "execution_count": 10,
   "id": "74c5861c-e9c5-46df-bec2-2ad915c44f91",
   "metadata": {},
   "outputs": [
    {
     "name": "stdout",
     "output_type": "stream",
     "text": [
      "30\n",
      "30\n"
     ]
    }
   ],
   "source": [
    "y = 20  # y is a global variable\n",
    "\n",
    "def another_function():\n",
    "    global y  # Declare y as global\n",
    "    y = 30  # Modifying the global variable\n",
    "    print(y)\n",
    "\n",
    "another_function()  # This will modify the global y\n",
    "print(y)  # This will print the modified value of y, which is 30"
   ]
  },
  {
   "cell_type": "markdown",
   "id": "a65c06db-611b-4c85-954e-42c15646f9f3",
   "metadata": {},
   "source": [
    "In this example, y is a global variable accessible both inside and outside the another_function function. To modify the global y inside the function, we use the global keyword.\n",
    "\n",
    "In summary, \"scope\" in Python defines where variables are accessible and can be used. Local scope is confined to a specific function or block, while global scope covers the entire program or module. Understanding scope is crucial for variable management and preventing naming conflicts between local and global variables."
   ]
  },
  {
   "cell_type": "markdown",
   "id": "49e300bd-706b-4a2f-9f17-764b117408d2",
   "metadata": {},
   "source": [
    "6.How can you use the \"return\" statement in a Python function to return multiple values?"
   ]
  },
  {
   "cell_type": "markdown",
   "id": "03f9105c-7aa1-4cf2-b666-5355dc245fcb",
   "metadata": {},
   "source": [
    "Answer:\n",
    "------\n",
    "\n",
    "In Python, We can use the return statement in a function to return multiple values by returning them as elements of a data structure such as a tuple, list, or dictionary. Here are some common approaches:"
   ]
  },
  {
   "cell_type": "code",
   "execution_count": 11,
   "id": "814d9dc1-52e4-478e-aaa0-adb4963260b8",
   "metadata": {},
   "outputs": [
    {
     "name": "stdout",
     "output_type": "stream",
     "text": [
      "(10, 20, 30)\n",
      "10\n",
      "20\n",
      "30\n"
     ]
    }
   ],
   "source": [
    "#1. Using a Tuple:\n",
    "\n",
    "def return_multiple_values():\n",
    "    x = 10\n",
    "    y = 20\n",
    "    z = 30\n",
    "    return x, y, z\n",
    "\n",
    "result = return_multiple_values()\n",
    "print(result)  # Output: (10, 20, 30)\n",
    "\n",
    "# Unpack the returned values into separate variables\n",
    "a, b, c = return_multiple_values()\n",
    "print(a)  # Output: 10\n",
    "print(b)  # Output: 20\n",
    "print(c)  # Output: 30\n",
    "\n",
    "#In this example, the return_multiple_values function returns three values as a tuple. \n",
    "#When calling the function, we can unpack the tuple into separate variables if needed."
   ]
  },
  {
   "cell_type": "code",
   "execution_count": 12,
   "id": "644c3b3c-3e48-4c78-94d0-f4f2f0c4b15e",
   "metadata": {},
   "outputs": [
    {
     "name": "stdout",
     "output_type": "stream",
     "text": [
      "(['Alice', 'Bob', 'Charlie'], [90, 85, 78])\n",
      "['Alice', 'Bob', 'Charlie']\n",
      "[90, 85, 78]\n"
     ]
    }
   ],
   "source": [
    "#2. Using a List:\n",
    "\n",
    "def return_multiple_values():\n",
    "    names = [\"Alice\", \"Bob\", \"Charlie\"]\n",
    "    scores = [90, 85, 78]\n",
    "    return names, scores\n",
    "\n",
    "result = return_multiple_values()\n",
    "print(result)  # Output: (['Alice', 'Bob', 'Charlie'], [90, 85, 78])\n",
    "\n",
    "# Unpack the returned values into separate variables\n",
    "names, scores = return_multiple_values()\n",
    "print(names)   # Output: ['Alice', 'Bob', 'Charlie']\n",
    "print(scores)  # Output: [90, 85, 78]\n",
    "\n",
    "#Here, the return_multiple_values function returns two lists as elements of a tuple."
   ]
  },
  {
   "cell_type": "code",
   "execution_count": 13,
   "id": "ad831f2d-7c40-4e85-8266-4c437f39cd03",
   "metadata": {},
   "outputs": [
    {
     "name": "stdout",
     "output_type": "stream",
     "text": [
      "{'name': 'Alice', 'age': 30, 'city': 'New York'}\n"
     ]
    }
   ],
   "source": [
    "#3. Using a Dictionary:\n",
    "def return_multiple_values():\n",
    "    data = {\n",
    "        \"name\": \"Alice\",\n",
    "        \"age\": 30,\n",
    "        \"city\": \"New York\"\n",
    "    }\n",
    "    return data\n",
    "\n",
    "result = return_multiple_values()\n",
    "print(result)  # Output: {'name': 'Alice', 'age': 30, 'city': 'New York'}\n",
    "\n",
    "# Access individual values by key\n",
    "name = result[\"name\"]\n",
    "age = result[\"age\"]\n",
    "city = result[\"city\"]\n",
    "\n",
    "#In this example, the return_multiple_values function returns a dictionary."
   ]
  },
  {
   "cell_type": "markdown",
   "id": "c6b30042-2ab1-493f-b235-362e17d7d639",
   "metadata": {},
   "source": [
    "7. What is the difference between the \"pass by value\" and \"pass by reference\" concepts when it\n",
    "comes to function arguments in Python?"
   ]
  },
  {
   "cell_type": "markdown",
   "id": "793ee178-1344-4f0e-a3b6-56a04a215aa1",
   "metadata": {},
   "source": [
    "Answer:\n",
    "-------\n",
    "\n",
    "In Python, there is often confusion about whether function arguments are passed by value or by reference. To clarify, Python uses a mechanism that is best described as \"pass by object reference\" or \"call by object reference.\"\n",
    "\n",
    "Here's an explanation of the concepts:\n",
    "\n",
    "1.Pass by Object Reference (Call by Object Reference):\n",
    "\n",
    "In Python, when we pass an argument to a function, we are passing a reference to the object the argument refers to.\n",
    "This means that the function receives a copy of the reference to the object, not a copy of the object itself.\n",
    "If we modify the object inside the function, the changes will be reflected outside the function because we are working with the same object in memory.\n",
    "However, if we reassign the parameter to a new object inside the function, it won't affect the original reference outside the function."
   ]
  },
  {
   "cell_type": "code",
   "execution_count": 14,
   "id": "1d493cc5-950a-47d3-ba0b-249b7a341e4b",
   "metadata": {},
   "outputs": [
    {
     "name": "stdout",
     "output_type": "stream",
     "text": [
      "[1, 2, 3, 4]\n"
     ]
    }
   ],
   "source": [
    "def modify_list(my_list):\n",
    "    my_list.append(4)  # Modifies the original list\n",
    "\n",
    "my_list = [1, 2, 3]\n",
    "modify_list(my_list)\n",
    "print(my_list)  # Output: [1, 2, 3, 4]"
   ]
  },
  {
   "cell_type": "markdown",
   "id": "e2c6de69-9d28-4516-b4fa-34893d2dcc4b",
   "metadata": {},
   "source": [
    "In this example, the function modify_list modifies the original list because it operates on the same object in memory.\n",
    "\n",
    "2. Pass by Value:\n",
    "\n",
    "Pass by value means that a copy of the actual data (value) is passed to the function, so any modifications made inside the function do not affect the original data.\n",
    "This concept is more typical in languages like C++.\n",
    "In Python, primitive data types (e.g., integers, floats) behave like pass by value because they are immutable, meaning their values cannot be changed once created."
   ]
  },
  {
   "cell_type": "code",
   "execution_count": 15,
   "id": "9e30ad6c-aa0a-43da-a082-cef3e5cb8baf",
   "metadata": {},
   "outputs": [
    {
     "name": "stdout",
     "output_type": "stream",
     "text": [
      "5\n"
     ]
    }
   ],
   "source": [
    "def modify_number(num):\n",
    "    num += 1  # Modifies the local copy of 'num'\n",
    "\n",
    "x = 5\n",
    "modify_number(x)\n",
    "print(x)  # Output: 5 (unchanged)"
   ]
  },
  {
   "cell_type": "markdown",
   "id": "77e3c946-9d5d-48ca-9982-c1180ad0cd57",
   "metadata": {},
   "source": [
    "In this example, the function modify_number works with a local copy of x, and any changes made inside the function do not affect the original x.\n",
    "\n",
    "In summary, Python uses a \"pass by object reference\" mechanism for function arguments. It behaves like \"pass by value\" for immutable objects (where changes inside the function don't affect the original), and it behaves differently for mutable objects (where changes inside the function do affect the original). Understanding this behavior is important for effective Python programming, especially when working with mutable objects like lists and dictionaries."
   ]
  },
  {
   "cell_type": "markdown",
   "id": "2157ea61-e239-4009-a61b-7de93a0a715a",
   "metadata": {},
   "source": [
    "8.Create a function that can intake integer or decimal value and do following operations:\n",
    "a. Logarithmic function (log x)\n",
    "b. Exponential function (exp(x))\n",
    "c. Power function with base 2 (2x)\n",
    "d. Square root"
   ]
  },
  {
   "cell_type": "markdown",
   "id": "260022d9-ae9c-4bfd-9503-a5f18ac03bc0",
   "metadata": {},
   "source": [
    "Answer:\n",
    "------\n",
    "\n",
    "We can create a function that can handle integer or decimal values and perform logarithmic, exponential, power (with base 2), and square root operations using Python's built-in math functions. Here's an example of such a function:"
   ]
  },
  {
   "cell_type": "code",
   "execution_count": 16,
   "id": "80161faf-7d34-4cda-9cdc-1c01534232bd",
   "metadata": {},
   "outputs": [
    {
     "name": "stdout",
     "output_type": "stream",
     "text": [
      "Logarithmic function (log 4.0): 1.3862943611198906\n",
      "Exponential function (exp(4.0)): 54.598150033144236\n",
      "Power function with base 2 (2^4.0): 16.0\n",
      "Square root of 4.0: 2.0\n"
     ]
    }
   ],
   "source": [
    "import math\n",
    "\n",
    "def math_operations(x):\n",
    "    # Logarithmic function (log x)\n",
    "    log_result = math.log(x)\n",
    "\n",
    "    # Exponential function (exp(x))\n",
    "    exp_result = math.exp(x)\n",
    "\n",
    "    # Power function with base 2 (2^x)\n",
    "    power_result = math.pow(2, x)\n",
    "\n",
    "    # Square root\n",
    "    sqrt_result = math.sqrt(x)\n",
    "\n",
    "    return log_result, exp_result, power_result, sqrt_result\n",
    "\n",
    "# Example usage:\n",
    "value = 4.0  # We can pass an integer or decimal value\n",
    "log_result, exp_result, power_result, sqrt_result = math_operations(value)\n",
    "\n",
    "print(f\"Logarithmic function (log {value}): {log_result}\")\n",
    "print(f\"Exponential function (exp({value})): {exp_result}\")\n",
    "print(f\"Power function with base 2 (2^{value}): {power_result}\")\n",
    "print(f\"Square root of {value}: {sqrt_result}\")"
   ]
  },
  {
   "cell_type": "markdown",
   "id": "ebc17de1-1c86-4eb3-ab1d-03d538b014ea",
   "metadata": {},
   "source": [
    "In this code:\n",
    "\n",
    "The math.log() function is used for the logarithmic operation.\n",
    "The math.exp() function is used for the exponential operation.\n",
    "The math.pow() function is used for the power operation with base 2.\n",
    "The math.sqrt() function is used for the square root operation.\n",
    "We can call the math_operations function with an integer or decimal value, and it will perform these mathematical operations and return the results."
   ]
  },
  {
   "cell_type": "markdown",
   "id": "df186684-cf79-47ce-b8c1-140beb941a9b",
   "metadata": {},
   "source": [
    "9.Create a function that takes a full name as an argument and returns first name and last name."
   ]
  },
  {
   "cell_type": "code",
   "execution_count": 18,
   "id": "9911c52b-d9f7-4295-a5f2-606ca4a4584c",
   "metadata": {},
   "outputs": [
    {
     "name": "stdout",
     "output_type": "stream",
     "text": [
      "First Name: Jyotirmoy\n",
      "Last Name: Pramanick\n"
     ]
    }
   ],
   "source": [
    "def split_full_name(full_name):\n",
    "    # Split the full name into words using space as the separator\n",
    "    name_parts = full_name.split()\n",
    "\n",
    "    # Check if there are at least two words (first name and last name)\n",
    "    if len(name_parts) >= 2:\n",
    "        first_name = name_parts[0]\n",
    "        last_name = name_parts[-1]  # Get the last word as the last name\n",
    "        return first_name, last_name\n",
    "    else:\n",
    "        # If there are not enough words, return None for both names\n",
    "        return None, None\n",
    "\n",
    "# Example usage:\n",
    "full_name = \"Jyotirmoy Pramanick\"\n",
    "first_name, last_name = split_full_name(full_name)\n",
    "\n",
    "if first_name is not None and last_name is not None:\n",
    "    print(f\"First Name: {first_name}\")\n",
    "    print(f\"Last Name: {last_name}\")\n",
    "else:\n",
    "    print(\"Invalid full name format.\")"
   ]
  }
 ],
 "metadata": {
  "kernelspec": {
   "display_name": "Python 3 (ipykernel)",
   "language": "python",
   "name": "python3"
  },
  "language_info": {
   "codemirror_mode": {
    "name": "ipython",
    "version": 3
   },
   "file_extension": ".py",
   "mimetype": "text/x-python",
   "name": "python",
   "nbconvert_exporter": "python",
   "pygments_lexer": "ipython3",
   "version": "3.10.9"
  }
 },
 "nbformat": 4,
 "nbformat_minor": 5
}
