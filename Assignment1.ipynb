{
 "cells": [
  {
   "cell_type": "code",
   "execution_count": null,
   "id": "8dfbeff4-3888-4547-832c-73477e0b674e",
   "metadata": {},
   "outputs": [],
   "source": [
    "1. In the below elements which of them are values or an expression? \n",
    "eg:- values can be integer or string and expressions will be mathematical operators.\n",
    "\n",
    "Answer: \n",
    "\n",
    "*           : Expression\n",
    "'hello'     : Value\n",
    "-87.8       : Value\n",
    "-           : Expression\n",
    "/           : Expression\n",
    "+           : Expression\n",
    "6           : Value\n"
   ]
  },
  {
   "cell_type": "raw",
   "id": "16b6ed83-4193-4ac1-bf2f-1fde9edf717a",
   "metadata": {},
   "source": [
    "2. What is the difference between string and variable?\n",
    "\n",
    "Answer : \n",
    "\n",
    "A string is a sequence of characters enclosed within either single ('') or double (\"\") quotes. It can contain letters, numbers, symbols, and spaces. Strings are used to represent textual data.\n",
    "A variable is a name that refers to a value stored in the computer's memory. It acts as a container for holding different types of data, including strings. Variables allow you to store and manipulate data, making your code more dynamic and flexible."
   ]
  },
  {
   "cell_type": "raw",
   "id": "87a64822-2090-4e8e-95c9-6603087357e0",
   "metadata": {},
   "source": [
    "3.Describe three different data types.\n",
    "\n",
    "Ans : \n",
    "\n",
    "•\tBoolean Type:\tbool        Example : x = True\n",
    "•\tNumeric Types:  int         Example : x = 20\n",
    "•\tText Type:      str         Example : x = \"Hello World\n"
   ]
  },
  {
   "cell_type": "raw",
   "id": "6819551e-10b7-46ca-86a0-03f1baee7a64",
   "metadata": {},
   "source": [
    "4. What is an expression made up of? What do all expressions do?\n",
    "\n",
    "Answer : \n",
    "\n",
    "In Python, an expression is a combination of values, variables, operators, and function calls that can be evaluated to produce a result. Expressions are the building blocks of Python programs and are used to perform computations, make decisions, and generate values."
   ]
  },
  {
   "cell_type": "raw",
   "id": "66fb94d4-f38c-4af1-9079-f21db2cfee03",
   "metadata": {},
   "source": [
    "5. This assignment statements, like spam = 10. What is the difference between an expression and a statement?\n",
    "\n",
    "Answer: \n",
    "\n",
    "An expression is a combination of values, variables, operators, and function calls that can be evaluated to produce a single value\n",
    "\n",
    "Example:"
   ]
  },
  {
   "cell_type": "code",
   "execution_count": null,
   "id": "066bce61-7c1e-4f3b-9fd4-4431556c0f95",
   "metadata": {},
   "outputs": [],
   "source": [
    "x = 5\n",
    "y = 10\n",
    "sum_result = x + y\n",
    "message = \"Hello, \" + \"World!\""
   ]
  },
  {
   "cell_type": "raw",
   "id": "9d71ecc5-c1fc-4bdd-8e1f-b02f27bb2dd2",
   "metadata": {},
   "source": [
    "In these examples, x + y and \"Hello, \" + \"World!\" are expressions. They produce values and can be used in assignments or as parts of larger expressions.\n",
    "\n",
    "A statement is a line of code that performs an action, creates an effect, or changes the state of the program. Statements can include expressions, but they often involve more than just computation. Statements can define control structures (like if statements and loops), create functions, assignments, imports, and more.\n",
    "\n",
    "Example:"
   ]
  },
  {
   "cell_type": "code",
   "execution_count": null,
   "id": "0a2eeb05-fc1e-46ce-8878-60734d6fd60c",
   "metadata": {},
   "outputs": [],
   "source": [
    "if x > y:\n",
    "    print(\"x is greater than y\")\n",
    "    \n",
    "for i in range(5):\n",
    "    print(i)\n",
    "    \n",
    "def greet(name):\n",
    "    print(\"Hello, \" + name)\n",
    "    \n",
    "x = 5\n",
    "y = x + 10\n"
   ]
  },
  {
   "cell_type": "raw",
   "id": "eb5a2ff5-0e43-4456-bcac-02fbb2954ac3",
   "metadata": {},
   "source": [
    "In these examples, if, for, def, and variable assignments are statements. They perform actions beyond just computing a value.\n",
    "\n",
    "In summary, expressions are smaller units of code that produce values, while statements are more comprehensive and perform actions or control the flow of a program. Expressions can be part of statements (like in assignments), and statements often contain expressions, but the main distinction lies in their primary purpose and the level of activity they carry out within the program.\n"
   ]
  },
  {
   "cell_type": "raw",
   "id": "09f767aa-e59f-4d7a-9f5b-7f26abf786b2",
   "metadata": {},
   "source": [
    "6. After running the following code, what does the variable bacon contain?\n",
    "bacon = 22\n",
    "bacon + 1\n",
    "\n",
    "Answer:\n",
    "\n",
    "The variable bacon will still contain the value 22"
   ]
  },
  {
   "cell_type": "code",
   "execution_count": 2,
   "id": "7d440742-9ed4-4b54-b954-6b61afdc7e16",
   "metadata": {},
   "outputs": [
    {
     "name": "stdout",
     "output_type": "stream",
     "text": [
      "22\n"
     ]
    }
   ],
   "source": [
    "bacon = 22\n",
    "bacon + 1\n",
    "print(bacon)"
   ]
  },
  {
   "cell_type": "raw",
   "id": "a2bd3e6c-b121-4c14-aff6-eb03f080cc3c",
   "metadata": {},
   "source": [
    "7. What should the values of the following two terms be?\n",
    "'spam' + 'spamspam'\n",
    "'spam' * 3\n",
    "\n",
    "Answer: \n",
    "\n",
    "•\t'spam' + 'spamspam': This expression will result in the string 'spamspamspam'. The + operator performs string concatenation, which joins the two strings together.\n",
    "•\t'spam' * 3: This expression will result in the string 'spamspamspam'. The * operator, when used with a string and an integer, repeats the string a specified number of times. In this case, the string 'spam' is repeated three times.\n",
    "\n",
    "So, both expressions yield the same result 'spamspamspam'"
   ]
  },
  {
   "cell_type": "code",
   "execution_count": 3,
   "id": "f0109bad-632f-42eb-ae05-a024a5d2057b",
   "metadata": {},
   "outputs": [
    {
     "data": {
      "text/plain": [
       "'spamspamspam'"
      ]
     },
     "execution_count": 3,
     "metadata": {},
     "output_type": "execute_result"
    }
   ],
   "source": [
    "'spam' + 'spamspam'"
   ]
  },
  {
   "cell_type": "code",
   "execution_count": 4,
   "id": "12ea515f-8703-4fe9-8e22-d08f76a811c8",
   "metadata": {},
   "outputs": [
    {
     "data": {
      "text/plain": [
       "'spamspamspam'"
      ]
     },
     "execution_count": 4,
     "metadata": {},
     "output_type": "execute_result"
    }
   ],
   "source": [
    "'spam' * 3"
   ]
  },
  {
   "cell_type": "raw",
   "id": "ad80881a-8d52-4177-8ca1-7fdf9bd0cf94",
   "metadata": {},
   "source": [
    "8.Why is eggs a valid variable name while 100 is invalid?\n",
    "\n",
    "Answer: \n",
    "\n",
    "In Python, variable names must follow certain rules and conventions. This is to ensure clarity, consistency, and to avoid confusion with language elements like numbers, operators, and keywords. Let's break down why `eggs` is a valid variable name while `100` is invalid:\n",
    "\n",
    "Valid Variable Name: `eggs`\n",
    "- Variable names must start with a letter (a-z, A-Z) or an underscore (_).\n",
    "- After the first character, variable names can contain letters, underscores, and digits.\n",
    "- The name `eggs` starts with a letter and doesn't include any invalid characters. It adheres to the rules for variable naming.\n",
    "\n",
    "Invalid Variable Name: `100`\n",
    "- Variable names cannot start with a digit (0-9).\n",
    "- Variable names cannot consist solely of digits.\n",
    "- The name `100` starts with a digit, violating the rule that variable names must start with a letter or underscore.\n",
    "\n",
    "In short, variable names in Python must follow specific rules to be valid, and `eggs` meets these rules, while `100` does not.\n"
   ]
  },
  {
   "cell_type": "raw",
   "id": "ed2e9357-4c62-49c3-92b0-334f0b00fa2a",
   "metadata": {},
   "source": [
    "9. What three functions can be used to get the integer, floating-point number, or string version of a value?\n",
    "\n",
    "Answer: \n",
    "\n",
    "Integer Conversion: int()\n",
    "The int() function is used to convert a value to an integer (whole number). It can handle strings representing integers as well as floating-point numbers.\n",
    "\n",
    "Floating-Point Conversion: float()\n",
    "The float() function is used to convert a value to a floating-point number (decimal number). It can handle strings representing floating-point numbers as well as integers\n",
    "\n",
    "String Conversion: str()\n",
    "The str() function is used to convert a value to its string representation. This is particularly useful when you want to concatenate a value with other strings or display it as text.\n"
   ]
  },
  {
   "cell_type": "code",
   "execution_count": 6,
   "id": "9505e01a-4648-4802-9341-3c408c4d24c6",
   "metadata": {},
   "outputs": [],
   "source": [
    "value_as_string = \"10\"\n",
    "integer_value = int(value_as_string)\n"
   ]
  },
  {
   "cell_type": "code",
   "execution_count": 7,
   "id": "a5a6044f-eca9-4ac0-8972-ee91ec3f3456",
   "metadata": {},
   "outputs": [],
   "source": [
    "value_as_string = \"3.14\"\n",
    "float_value = float(value_as_string)\n"
   ]
  },
  {
   "cell_type": "code",
   "execution_count": 8,
   "id": "21f06577-2f28-4d54-8de3-96386634d43d",
   "metadata": {},
   "outputs": [],
   "source": [
    "integer_value = 42\n",
    "float_value = 3.14\n",
    "integer_as_string = str(integer_value)\n",
    "float_as_string = str(float_value)\n"
   ]
  },
  {
   "cell_type": "raw",
   "id": "9a7c2469-21d4-4429-8ca7-30f7c22d8e4b",
   "metadata": {},
   "source": [
    "10. Why does this expression cause an error? How can you fix it?\n",
    "'I have eaten ' + 99 + ' burritos.'\n",
    "\n",
    "Answer : \n",
    "\n",
    "The expression 'I have eaten ' + 99 + ' burritos.' causes an error because we are trying to concatenate a string ('I have eaten ') with an integer (99) using the + operator. Python doesn't automatically convert the integer to a string in this context.\n",
    "To fix this, you need to ensure that all values being concatenated are of the same type (strings). You can achieve this by explicitly converting the integer 99 to a string using the str() function:\n"
   ]
  },
  {
   "cell_type": "code",
   "execution_count": 9,
   "id": "d91615a3-0bc3-44f7-9ad5-ce2a46064699",
   "metadata": {},
   "outputs": [],
   "source": [
    "result = 'I have eaten ' + str(99) + ' burritos.'\n"
   ]
  }
 ],
 "metadata": {
  "kernelspec": {
   "display_name": "Python 3 (ipykernel)",
   "language": "python",
   "name": "python3"
  },
  "language_info": {
   "codemirror_mode": {
    "name": "ipython",
    "version": 3
   },
   "file_extension": ".py",
   "mimetype": "text/x-python",
   "name": "python",
   "nbconvert_exporter": "python",
   "pygments_lexer": "ipython3",
   "version": "3.10.6"
  }
 },
 "nbformat": 4,
 "nbformat_minor": 5
}
