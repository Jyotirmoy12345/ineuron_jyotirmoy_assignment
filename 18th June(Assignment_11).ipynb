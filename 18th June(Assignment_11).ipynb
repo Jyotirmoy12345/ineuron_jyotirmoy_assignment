{
 "cells": [
  {
   "cell_type": "markdown",
   "id": "6e452819-6167-4d55-8ddd-10551b1a30a0",
   "metadata": {},
   "source": [
    "1.What is the role of the 'else' block in a try-except statement? Provide an example scenario where it would be useful.\n",
    "----------------------------------------------------------------------------------------------------------------------"
   ]
  },
  {
   "cell_type": "markdown",
   "id": "a1072c9e-ec2d-400b-97fe-9ed66b2e94d7",
   "metadata": {},
   "source": [
    "Answer:\n",
    "-------\n",
    "\n",
    "\n",
    "The else block in a try-except statement is used to specify a block of code that should be executed if no exceptions are raised within the try block. Its role is to define a code section that runs when the code in the try block executes successfully without raising any exceptions. It is often used to include code that should be executed when everything inside the try block goes smoothly.\n",
    "\n",
    "Here's the syntax of a try-except-else statement:"
   ]
  },
  {
   "cell_type": "code",
   "execution_count": null,
   "id": "1a554222-558c-4335-a513-e2a25e3f1d03",
   "metadata": {},
   "outputs": [],
   "source": [
    "try:\n",
    "    # Code that may raise an exception\n",
    "except ExceptionType:\n",
    "    # Code to handle the exception\n",
    "else:\n",
    "    # Code to execute if no exception is raised"
   ]
  },
  {
   "cell_type": "code",
   "execution_count": null,
   "id": "382682bb-5b55-4680-a7fc-4c01b79bacf8",
   "metadata": {},
   "outputs": [],
   "source": [
    "#Here's an example scenario where the else block is useful:\n",
    "try:\n",
    "    num1 = int(input(\"Enter the first number: \"))\n",
    "    num2 = int(input(\"Enter the second number: \"))\n",
    "    \n",
    "    result = num1 / num2\n",
    "except ZeroDivisionError:\n",
    "    print(\"Division by zero is not allowed.\")\n",
    "except ValueError:\n",
    "    print(\"Invalid input. Please enter valid numbers.\")\n",
    "else:\n",
    "    print(\"Result:\", result)"
   ]
  },
  {
   "cell_type": "markdown",
   "id": "2a543e0a-e7b6-443c-b925-12927bacac36",
   "metadata": {},
   "source": [
    "In this example:\n",
    "\n",
    "The try block attempts to perform division and assign the result to the result variable.\n",
    "The except blocks handle possible exceptions (ZeroDivisionError and ValueError) that can occur during the division or input conversion.\n",
    "If no exceptions are raised, the else block is executed, which prints the result.\n",
    "Using the else block in this way helps separate the error-handling logic from the main logic and ensures that the result is only printed when the division is successful, enhancing the clarity of the code."
   ]
  },
  {
   "cell_type": "markdown",
   "id": "21d22d08-65b1-41c3-a3ab-e9519237a1c1",
   "metadata": {},
   "source": [
    "2.Can a try-except block be nested inside another try-except block? Explain with an example.\n",
    "--------------------------------------------------------------------------------------------"
   ]
  },
  {
   "cell_type": "markdown",
   "id": "0a18fbeb-622b-4693-8573-9b10638d64e2",
   "metadata": {},
   "source": [
    "Answer:\n",
    "------\n",
    "\n",
    "Yes, a try-except block can be nested inside another try-except block in Python. This allows for more granular exception handling, where we can catch and handle exceptions at different levels of our code. Each nested try-except block can handle exceptions specific to its scope. Here's an example:"
   ]
  },
  {
   "cell_type": "code",
   "execution_count": null,
   "id": "428c0649-5525-415f-9c53-09e2268946e4",
   "metadata": {},
   "outputs": [],
   "source": [
    "try:\n",
    "    # Outer try-except block\n",
    "    num1 = int(input(\"Enter the first number: \"))\n",
    "    num2 = int(input(\"Enter the second number: \"))\n",
    "\n",
    "    try:\n",
    "        # Inner try-except block\n",
    "        result = num1 / num2\n",
    "        print(\"Result:\", result)\n",
    "\n",
    "    except ZeroDivisionError:\n",
    "        print(\"Inner: Division by zero is not allowed.\")\n",
    "\n",
    "except ValueError:\n",
    "    print(\"Outer: Invalid input. Please enter valid numbers.\")"
   ]
  },
  {
   "cell_type": "markdown",
   "id": "851ee58f-5c92-4397-9be8-6265e2863123",
   "metadata": {},
   "source": [
    "In this example:\n",
    "\n",
    "The outer try-except block attempts to take two integer inputs and store them in num1 and num2. If the user provides non-integer input, a ValueError is caught by the outer except block.\n",
    "\n",
    "The inner try-except block calculates the result of dividing num1 by num2. If the user enters 0 as the second number, a ZeroDivisionError is caught by the inner except block.\n",
    "\n",
    "Having nested try-except blocks allows us to handle exceptions at different levels of our program, providing a structured way to deal with errors in different parts of our code."
   ]
  },
  {
   "cell_type": "markdown",
   "id": "6afccf67-6e11-487f-8945-724335a4b189",
   "metadata": {},
   "source": [
    "3.How can you create a custom exception class in Python? Provide an example that demonstrates its usage.\n",
    "-------------------------------------------------------------------------------------------------------"
   ]
  },
  {
   "cell_type": "markdown",
   "id": "469b07db-3dc3-49cd-a79d-77c1865fda45",
   "metadata": {},
   "source": [
    "Answer:\n",
    "-------\n",
    "\n",
    "In Python, we can create a custom exception class by defining a new class that inherits from the built-in Exception class or one of its subclasses. This allows us to define our own exception types with custom behavior and error messages.\n",
    "\n",
    "Here's an example of how to create a custom exception class and demonstrate its usage:"
   ]
  },
  {
   "cell_type": "code",
   "execution_count": null,
   "id": "8347e654-e577-405d-9d5f-c228d61ec93e",
   "metadata": {},
   "outputs": [],
   "source": [
    "class CustomError(Exception):\n",
    "    \"\"\"Custom exception class.\"\"\"\n",
    "    \n",
    "    def __init__(self, message=\"A custom error occurred.\"):\n",
    "        self.message = message\n",
    "        super().__init__(self.message)\n",
    "\n",
    "try:\n",
    "    # Simulate an error\n",
    "    raise CustomError(\"This is a custom error message.\")\n",
    "except CustomError as ce:\n",
    "    print(\"Custom error caught:\", ce)"
   ]
  },
  {
   "cell_type": "markdown",
   "id": "5b595d76-6589-437f-b312-97ea1a090d58",
   "metadata": {},
   "source": [
    "In this example:\n",
    "\n",
    "We define a custom exception class CustomError that inherits from the built-in Exception class. We also provide an optional constructor that allows us to specify a custom error message.\n",
    "\n",
    "Inside a try block, we raise our custom exception CustomError with a custom error message using the raise statement.\n",
    "\n",
    "In the except block, we catch the custom exception as ce and print the error message associated with it.\n",
    "\n",
    "When we run this code, it will raise and catch the custom exception, displaying the custom error message. Custom exception classes are useful for creating meaningful and well-structured error handling in our code, especially when we need to handle specific error scenarios that are not covered by built-in exceptions."
   ]
  },
  {
   "cell_type": "markdown",
   "id": "ff65b878-c511-4f10-bd0f-abe81f71fd23",
   "metadata": {},
   "source": [
    "4.What are some common exceptions that are built-in to Python?\n",
    "-------------------------------------------------------------"
   ]
  },
  {
   "cell_type": "markdown",
   "id": "6b706e89-e3a8-41b6-b5bc-77db62ba16a7",
   "metadata": {},
   "source": [
    "Answer:\n",
    "-------\n",
    "\n",
    "Python includes a variety of built-in exceptions that cover common error scenarios. Some of the most common built-in exceptions in Python include:\n",
    "\n",
    "1. **SyntaxError**: Raised when there is a syntax error in our code, such as a missing colon or a misspelled keyword.\n",
    "\n",
    "2. **IndentationError**: Raised when there is an issue with the indentation of our code, such as inconsistent use of tabs and spaces.\n",
    "\n",
    "3. **NameError**: Raised when we try to access a variable or name that is not defined in the current scope.\n",
    "\n",
    "4. **TypeError**: Raised when an operation or function is applied to an object of inappropriate data type.\n",
    "\n",
    "5. **ValueError**: Raised when a function receives an argument of the correct data type but an inappropriate value.\n",
    "\n",
    "6. **ZeroDivisionError**: Raised when we attempt to divide a number by zero.\n",
    "\n",
    "7. **FileNotFoundError**: Raised when we try to open or access a file that doesn't exist.\n",
    "\n",
    "8. **IOError**: Raised for various input/output-related errors, such as trying to read from a closed file.\n",
    "\n",
    "9. **IndexError**: Raised when we try to access an index that is out of range for a sequence (e.g., list, tuple, string).\n",
    "\n",
    "10. **KeyError**: Raised when we try to access a dictionary key that does not exist.\n",
    "\n",
    "11. **AttributeError**: Raised when we try to access an attribute of an object that does not exist.\n",
    "\n",
    "12. **ImportError**: Raised when there is an issue with importing a module or package.\n",
    "\n",
    "13. **ModuleNotFoundError**: Raised when we try to import a module that cannot be found.\n",
    "\n",
    "14. **MemoryError**: Raised when an operation runs out of memory.\n",
    "\n",
    "15. **OverflowError**: Raised when an arithmetic operation exceeds the limits of the current Python interpreter's numerical representation.\n",
    "\n",
    "16. **RecursionError**: Raised when the maximum recursion depth is exceeded in a recursive function.\n",
    "\n",
    "These are just a few examples of the built-in exceptions in Python. Python provides a rich set of exception types to cover various error scenarios, making it easier to handle errors and exceptions in our code effectively."
   ]
  },
  {
   "cell_type": "markdown",
   "id": "0529ef0d-11ac-4029-a8e8-072ac043ca56",
   "metadata": {},
   "source": [
    "5.What is logging in Python, and why is it important in software development?\n",
    "-----------------------------------------------------------------------------"
   ]
  },
  {
   "cell_type": "markdown",
   "id": "e302e900-789d-415b-84aa-4979bdbe5708",
   "metadata": {},
   "source": [
    "Answer:\n",
    "-------\n",
    "\n",
    "Logging in Python refers to the process of recording or storing information, typically messages or events, generated by a program during its execution. The Python `logging` module provides a flexible and customizable way to implement logging in our Python applications. Logging is important in software development for several reasons:\n",
    "\n",
    "1. **Debugging and Troubleshooting**: When issues or errors occur in our software, logs provide valuable information about what happened, when it happened, and the state of the application at that moment. This information is crucial for identifying and fixing bugs and issues.\n",
    "\n",
    "2. **Monitoring and Maintenance**: In production environments, logs help system administrators and developers monitor the health and performance of applications. They can be used to proactively detect and address issues before they become critical.\n",
    "\n",
    "3. **Auditing and Compliance**: For applications that handle sensitive data or are subject to regulatory requirements, logging can serve as an audit trail. It records who accessed the system, what actions were performed, and when they were performed.\n",
    "\n",
    "4. **Performance Optimization**: Logs can reveal performance bottlenecks and resource usage patterns, allowing developers to optimize code and infrastructure.\n",
    "\n",
    "5. **Documentation**: Logging can act as a form of documentation, providing insights into how the application behaves and what it is doing.\n",
    "\n",
    "6. **User Support**: In cases where users encounter issues, logs can help support teams understand the context of the problem and provide more effective assistance.\n",
    "\n",
    "The Python `logging` module allows us to control the verbosity of logs, set log levels (e.g., debug, info, warning, error, critical), and direct log output to various destinations, such as files, the console, or external log management systems. This flexibility enables developers to tailor logging to the specific needs of their application.\n",
    "\n",
    "By using proper logging practices, we can improve the maintainability, reliability, and overall quality of our software, making it easier to manage and troubleshoot in both development and production environments."
   ]
  },
  {
   "cell_type": "markdown",
   "id": "0262c1c0-3a48-40fb-99b6-bc7f17003307",
   "metadata": {},
   "source": [
    "6.Explain the purpose of log levels in Python logging and provide examples of when each log level would be appropriate.\n",
    "----------------------------------------------------------------------------------------------------------------------"
   ]
  },
  {
   "cell_type": "markdown",
   "id": "8794ce60-f368-469c-b346-bf378584720d",
   "metadata": {
    "tags": []
   },
   "source": [
    "Answer:\n",
    "-------\n",
    "\n",
    "In Python logging, log levels are used to categorize log messages based on their severity or importance. Each log level corresponds to a numeric value, and we can configure the logger to capture messages at or above a certain level. The purpose of log levels is to help developers and system administrators filter and prioritize log messages based on their relevance to a particular task or issue.\n",
    "\n",
    "Python's logging module defines the following log levels in increasing order of severity:\n",
    "\n",
    "1. **DEBUG** (Level 10): This is the lowest log level and is typically used for detailed debugging information. Debug messages provide insight into the internal workings of the application and are useful during development and troubleshooting. Example: Printing variable values or function call details.\n",
    "\n",
    "2. **INFO** (Level 20): Info messages provide high-level information about the program's progress or significant events. These messages are often used to confirm that specific parts of the code are executing correctly. Example: Application startup, configuration details.\n",
    "\n",
    "3. **WARNING** (Level 30): Warning messages indicate potential issues or unexpected conditions that don't necessarily disrupt the program's operation but should be noted. Developers and administrators can use these messages to investigate or take preventive actions. Example: Deprecated features, resource usage nearing limits.\n",
    "\n",
    "4. **ERROR** (Level 40): Error messages signify that something has gone wrong, and the program cannot perform a specific action or continue normally. These messages typically represent recoverable errors that may require intervention or error-handling code. Example: Database connection failure, missing configuration file.\n",
    "\n",
    "5. **CRITICAL** (Level 50): Critical messages denote severe errors or conditions that can lead to the termination of the program or significant data loss. These messages are reserved for the most severe issues that demand immediate attention. Example: Unrecoverable database corruption, critical system resource exhaustion.\n",
    "\n",
    "Here are examples of when each log level would be appropriate:\n",
    "\n",
    "- **DEBUG**: When tracking the flow of control in a complex algorithm, we might use debug logging to print variable values and intermediate results.\n",
    "\n",
    "- **INFO**: During the startup of a web server, we might log the server's configuration details and the ports it's listening on.\n",
    "\n",
    "- **WARNING**: If our application is approaching its memory limit, we might log a warning to alert administrators to investigate and allocate more resources.\n",
    "\n",
    "- **ERROR**: When handling a user login request, we might log an error if the provided credentials are invalid, preventing the login operation.\n",
    "\n",
    "- **CRITICAL**: In a financial application, if a critical database connection cannot be established, we might log a critical message and halt the application to prevent erroneous financial transactions.\n",
    "\n",
    "By using appropriate log levels, we can tailor the amount of information logged and focus on the most critical issues during debugging, troubleshooting, and monitoring. This helps streamline the analysis of logs and makes it easier to identify and address problems effectively."
   ]
  },
  {
   "cell_type": "markdown",
   "id": "a96f0fb1-c40f-4ea3-81eb-8f0816e7510d",
   "metadata": {},
   "source": [
    "7.What are log formatters in Python logging, and how can you customise the log message format using formatters?\n",
    "---------------------------------------------------------------------------------------------------------------"
   ]
  },
  {
   "cell_type": "markdown",
   "id": "8840481b-8685-4317-9cf3-1ce5ff473677",
   "metadata": {},
   "source": [
    "Answer:\n",
    "-------\n",
    "\n",
    "In Python logging, log formatters are used to customize the format of log messages before they are written to a log destination, such as a file or the console. Formatters allow us to control the appearance and content of log messages, including the timestamp, log level, module name, and the actual log message text. Customizing log message formats helps in making log files more informative and readable according to our specific needs.\n",
    "\n",
    "Python's logging module provides a built-in Formatter class that we can use to create log formatters. We can customize the format by specifying a format string containing various placeholders, where each placeholder represents a piece of information to include in the log message.\n",
    "\n",
    "Here's a basic example of how to create and use a custom log formatter:"
   ]
  },
  {
   "cell_type": "code",
   "execution_count": 1,
   "id": "145158a9-89cf-4e7d-8dc3-7c56a936abe4",
   "metadata": {},
   "outputs": [],
   "source": [
    "import logging\n",
    "\n",
    "# Create a custom log formatter with a specific format\n",
    "formatter = logging.Formatter('%(asctime)s - %(name)s - %(levelname)s - %(message)s')\n",
    "\n",
    "# Create a logger and configure a file handler with the formatter\n",
    "logger = logging.getLogger('my_logger')\n",
    "file_handler = logging.FileHandler('my_log.log')\n",
    "file_handler.setFormatter(formatter)\n",
    "logger.addHandler(file_handler)\n",
    "\n",
    "# Log some messages using the logger\n",
    "logger.setLevel(logging.DEBUG)\n",
    "logger.debug('This is a debug message')\n",
    "logger.info('This is an info message')"
   ]
  },
  {
   "cell_type": "markdown",
   "id": "14a79481-60e7-4e22-b3de-3037c0726abb",
   "metadata": {},
   "source": [
    "In this example:\n",
    "\n",
    "We create a custom log formatter formatter with the format string '%(asctime)s - %(name)s - %(levelname)s - %(message)s'. This format string contains placeholders like %(asctime)s for the timestamp, %(name)s for the logger's name, %(levelname)s for the log level, and %(message)s for the log message text.\n",
    "\n",
    "We create a logger named 'my_logger' and configure a file handler (file_handler) to write log messages to a file named 'my_log.log'.\n",
    "\n",
    "We associate the formatter with the file handler using file_handler.setFormatter(formatter) to apply the custom format to log messages written to the file.\n",
    "\n",
    "Finally, we log two messages using the logger, and the formatted log messages are written to the 'my_log.log' file with the specified format.\n",
    "\n",
    "By customizing log message formats, we can tailor the appearance and content of log files to meet our specific requirements. This makes it easier to analyze and extract useful information from the logs, especially in complex applications or when collaborating with other team members who need to interpret the log data."
   ]
  },
  {
   "cell_type": "markdown",
   "id": "4de5b8cf-a6d0-4233-8ed6-2b2e94e64ac2",
   "metadata": {},
   "source": [
    "8.How can we set up logging to capture log messages from multiple modules or classes in a Python application?\n",
    "-------------------------------------------------------------------------------------------------------------"
   ]
  },
  {
   "cell_type": "markdown",
   "id": "7eb6c009-ee61-4d83-994f-d1c1f0bbdd10",
   "metadata": {},
   "source": [
    "Answer:\n",
    "------\n",
    "\n",
    "In a Python application, we can set up logging to capture log messages from multiple modules or classes by following these steps:\n",
    "\n",
    "1.Create a Centralized Logging Configuration: Start by creating a centralized logging configuration that specifies the logging settings for our entire application. This configuration should define the log levels, handlers, and formatters we want to use. we typically do this in a separate module or script dedicated to logging configuration."
   ]
  },
  {
   "cell_type": "code",
   "execution_count": null,
   "id": "21eca258-14b3-4cdd-b966-4866024f218f",
   "metadata": {},
   "outputs": [],
   "source": [
    "import logging\n",
    "\n",
    "logging.basicConfig(\n",
    "    level=logging.DEBUG,\n",
    "    format='%(asctime)s - %(name)s - %(levelname)s - %(message)s',\n",
    ")"
   ]
  },
  {
   "cell_type": "markdown",
   "id": "2e766e9a-2e70-4ed2-955b-8d5e2c88e76e",
   "metadata": {},
   "source": [
    "2.Define Loggers for Each Module/Class: In each module or class that we want to log messages from, create a logger instance using the logging.getLogger() method. we should use a unique name for each logger based on the module or class name."
   ]
  },
  {
   "cell_type": "code",
   "execution_count": null,
   "id": "bf93d012-3fd4-473b-a373-24a4e6fc33ce",
   "metadata": {},
   "outputs": [],
   "source": [
    "import logging\n",
    "\n",
    "logger = logging.getLogger('my_module')"
   ]
  },
  {
   "cell_type": "markdown",
   "id": "b3c8d108-ccb1-4f54-9823-13a06b0310fb",
   "metadata": {},
   "source": [
    "3.Configure Handlers for Each Logger: For each logger, configure one or more handlers to specify where log messages should be sent. we can use different handlers for different log destinations, such as files, the console, or external log management systems. Customize the handler settings as needed."
   ]
  },
  {
   "cell_type": "code",
   "execution_count": null,
   "id": "bd7c60da-48b5-445c-bbce-f82a31ec0c17",
   "metadata": {},
   "outputs": [],
   "source": [
    "import logging\n",
    "\n",
    "logger = logging.getLogger('my_module')\n",
    "handler = logging.FileHandler('my_module.log')\n",
    "formatter = logging.Formatter('%(asctime)s - %(name)s - %(levelname)s - %(message)s')\n",
    "handler.setFormatter(formatter)\n",
    "logger.addHandler(handler)"
   ]
  },
  {
   "cell_type": "markdown",
   "id": "0633a990-f406-4a9a-80a3-3035ff54d400",
   "metadata": {},
   "source": [
    "4.Use Loggers to Log Messages: In our module or class, use the logger we created to log messages at various log levels, such as logger.debug(), logger.info(), logger.warning(), logger.error(), and logger.critical(). Be sure to log messages specific to the functionality of the module or class."
   ]
  },
  {
   "cell_type": "code",
   "execution_count": null,
   "id": "1e84e56a-21bf-4580-8046-d810e5712f50",
   "metadata": {},
   "outputs": [],
   "source": [
    "import logging\n",
    "\n",
    "logger = logging.getLogger('my_module')\n",
    "\n",
    "def my_function():\n",
    "    logger.debug('Debug message')\n",
    "    logger.info('Info message')\n",
    "    logger.warning('Warning message')"
   ]
  },
  {
   "cell_type": "markdown",
   "id": "e757bb44-6c8c-4a79-87a6-077153aa54e8",
   "metadata": {},
   "source": [
    "By creating separate logger instances for each module or class and configuring them individually, we can capture log messages from multiple parts of our application. The centralized logging configuration ensures that the global logging settings are applied consistently across all modules and classes.\n",
    "\n",
    "When we run our application, log messages from different modules or classes will be directed to their respective log files or destinations, making it easier to manage and analyze the log data for each component of our application."
   ]
  },
  {
   "cell_type": "markdown",
   "id": "97f68a20-a18f-4f6f-a4b4-03158b3c189b",
   "metadata": {},
   "source": [
    "9.What is the difference between the logging and print statements in Python? \n",
    "----------------------------------------------------------------------------\n",
    "When should we use logging over print statements in a real-world application?\n",
    "-----------------------------------------------------------------------------"
   ]
  },
  {
   "cell_type": "markdown",
   "id": "e5a698ff-40ef-472d-b139-8ad8aa49e1b1",
   "metadata": {},
   "source": [
    "Answer:\n",
    "-------\n",
    "\n",
    "Logging and print statements in Python serve different purposes and have distinct characteristics. Here are the key differences between them and when we should use logging over print statements in a real-world application:\n",
    "\n",
    "**1. Purpose:**\n",
    "\n",
    "- **Logging**: Logging is a systematic way of recording events and messages during the execution of a program. It is primarily used for debugging, monitoring, and maintaining applications. Log messages can be categorized by severity (e.g., debug, info, warning, error) and provide context about the program's behavior.\n",
    "\n",
    "- **Print Statements**: Print statements are used for basic debugging and development purposes. They are intended for displaying temporary output to the console during code development but are not suitable for long-term use as a debugging or monitoring tool.\n",
    "\n",
    "**2. Flexibility:**\n",
    "\n",
    "- **Logging**: The Python logging module provides a high degree of flexibility. we can configure log levels, set up different log handlers (e.g., file, console, network), define custom log formats, and log messages from multiple modules or classes.\n",
    "\n",
    "- **Print Statements**: Print statements are simple and provide limited formatting options. They print directly to the console and lack the versatility of logging for handling different log destinations and formats.\n",
    "\n",
    "**3. Granularity:**\n",
    "\n",
    "- **Logging**: Logging allows we to control the verbosity of log messages by setting log levels. we can log messages at various levels, from detailed debugging information to critical error messages. This granularity helps in focusing on specific aspects of the application's behavior.\n",
    "\n",
    "- **Print Statements**: Print statements are typically used for basic output and do not offer the same level of granularity as logging. we might need to manually comment out or remove print statements to control the amount of output.\n",
    "\n",
    "**4. Configuration:**\n",
    "\n",
    "- **Logging**: Logging can be centrally configured, making it easy to change the behavior of log messages across the entire application. we can adjust logging settings without modifying the code.\n",
    "\n",
    "- **Print Statements**: Print statements are scattered throughout the code and require manual removal or modification to control their behavior. Changing print statements can be time-consuming and error-prone.\n",
    "\n",
    "**5. Production Use:**\n",
    "\n",
    "- **Logging**: Logging is designed for production use. It provides a structured way to record and manage log messages in real-world applications. Log messages can be directed to log files, sent to log management systems, and rotated to prevent log file growth.\n",
    "\n",
    "- **Print Statements**: Print statements are not suitable for production use because they clutter the console with output, which may not be desirable in a production environment. They can also expose sensitive information if not properly removed from production code.\n",
    "\n",
    "**When to Use Logging Over Print Statements:**\n",
    "\n",
    "Use logging over print statements in a real-world application when:\n",
    "\n",
    "1. we want to capture and record application behavior systematically.\n",
    "\n",
    "2. we need to differentiate between different log levels (e.g., debug, info, warning, error, critical).\n",
    "\n",
    "3. we want to configure logging behavior globally without modifying code.\n",
    "\n",
    "4. we are developing a production-grade application where log messages need to be managed, rotated, and directed to various destinations.\n",
    "\n",
    "5. we need to provide context and details for debugging, troubleshooting, and monitoring.\n",
    "\n",
    "6. we want to follow best practices for software development and maintainability.\n",
    "\n",
    "In summary, while print statements are useful during development and quick debugging, logging is the preferred choice for real-world applications. It offers better control, flexibility, and management of log messages, making it an essential tool for maintaining and monitoring software in production environments"
   ]
  },
  {
   "cell_type": "markdown",
   "id": "00ce4699-3b9a-4cc1-8e33-e7db88e84686",
   "metadata": {},
   "source": [
    "10.Write a Python program that logs a message to a file named \"app.log\" with the following requirements:\n",
    "--------------------------------------------------------------------------------------------------------\n",
    "● The log message should be \"Hello, World!\"\n",
    "● The log level should be set to \"INFO.\"\n",
    "● The log file should append new log entries without overwriting previous ones."
   ]
  },
  {
   "cell_type": "markdown",
   "id": "9ed1735c-3321-4523-aa62-1253589f8ae2",
   "metadata": {},
   "source": [
    "Answer:\n",
    "-------"
   ]
  },
  {
   "cell_type": "code",
   "execution_count": 2,
   "id": "6761e9ce-fc4d-46cd-957d-d69bd55e3a45",
   "metadata": {},
   "outputs": [],
   "source": [
    "import logging\n",
    "\n",
    "# Configure the logging\n",
    "logging.basicConfig(filename='app.log', level=logging.INFO, filemode='a', format='%(asctime)s - %(levelname)s - %(message)s')\n",
    "\n",
    "# Log the message\n",
    "logging.info('Hello, World!')\n"
   ]
  },
  {
   "cell_type": "markdown",
   "id": "56d2ff1b-d390-496f-b454-f4cf4d4bc5c4",
   "metadata": {},
   "source": [
    "In this code:\n",
    "\n",
    "We import the logging module, which provides logging capabilities.\n",
    "\n",
    "We configure the logging using basicConfig(). Here's a breakdown of the parameters:\n",
    "\n",
    "filename='app.log': Specifies the name of the log file.\n",
    "level=logging.INFO: Sets the log level to \"INFO,\" which means only messages at or above this level will be logged.\n",
    "filemode='a': Sets the file mode to 'a' (append), so new log entries will be added to the end of the file without overwriting previous ones.\n",
    "format='%(asctime)s - %(levelname)s - %(message)s': Defines the format of the log entries, including the timestamp, log level, and message text.\n",
    "We log the message \"Hello, World!\" with an \"INFO\" log level using logging.info().\n",
    "\n",
    "When we run this program, it will create a \"app.log\" file (if it doesn't already exist) and append the log entry with the specified format. Subsequent runs of the program will continue to append log entries to the same file without overwriting previous ones."
   ]
  },
  {
   "cell_type": "markdown",
   "id": "0e75df68-b9dc-4ca2-b100-35b5457d3640",
   "metadata": {},
   "source": [
    "11.Create a Python program that logs an error message to the console and a file named \"errors.log\" if an exception occurs during the program's\n",
    "----------------------------------------------------------------------------------------------------------------------------------------------\n",
    "execution. The error message should include the exception type and a timestamp.\n",
    "------------------------------------------------------------------------------"
   ]
  },
  {
   "cell_type": "markdown",
   "id": "3d90df4d-f066-4cc0-b7d0-351a89ef58e2",
   "metadata": {},
   "source": [
    "Answer:\n",
    "------\n",
    "\n",
    "We can create a Python program that logs an error message to both the console and a file named \"errors.log\" if an exception occurs during the program's execution. To include the exception type and a timestamp in the error message, we can use the logging module. Here's a sample program:"
   ]
  },
  {
   "cell_type": "code",
   "execution_count": 3,
   "id": "7fb57b35-f35f-423b-ac53-16c7cb50f1e0",
   "metadata": {},
   "outputs": [
    {
     "name": "stdout",
     "output_type": "stream",
     "text": [
      "Exception Type: ZeroDivisionError, Timestamp: 2023-09-17 14:30:45.505958\n"
     ]
    }
   ],
   "source": [
    "import logging\n",
    "import datetime\n",
    "\n",
    "# Configure the logging\n",
    "logging.basicConfig(filename='errors.log', level=logging.ERROR, filemode='a', format='%(asctime)s - %(levelname)s - %(message)s')\n",
    "\n",
    "try:\n",
    "    # Our code that might raise an exception goes here\n",
    "    result = 10 / 0  # This will raise a ZeroDivisionError\n",
    "except Exception as e:\n",
    "    # Log the exception with its type and a timestamp\n",
    "    error_message = f\"Exception Type: {type(e).__name__}, Timestamp: {datetime.datetime.now()}\"\n",
    "    logging.error(error_message)\n",
    "\n",
    "    # Print the error message to the console\n",
    "    print(error_message)"
   ]
  },
  {
   "cell_type": "markdown",
   "id": "ff48a968-54e0-4d2a-a391-df5e5a0f3af6",
   "metadata": {},
   "source": [
    "In this code:\n",
    "\n",
    "We import the logging module and datetime module for logging and timestamp purposes.\n",
    "\n",
    "We configure the logging using basicConfig() with the following parameters:\n",
    "\n",
    "filename='errors.log': Specifies the name of the log file.\n",
    "level=logging.ERROR: Sets the log level to \"ERROR,\" so only error messages and exceptions at or above this level will be logged.\n",
    "filemode='a': Sets the file mode to 'a' (append) to add new log entries to the end of the file.\n",
    "format='%(asctime)s - %(levelname)s - %(message)s': Defines the log entry format, including the timestamp, log level, and message text.\n",
    "We wrap the code that might raise an exception inside a try block. In this example, we deliberately divide by zero to raise a ZeroDivisionError. Replace this with our actual code that may raise exceptions.\n",
    "\n",
    "In the except block, we catch the exception and create an error message that includes the exception type and a timestamp using type(e).__name__ and datetime.datetime.now().\n",
    "\n",
    "We log the error message to the \"errors.log\" file using logging.error() and print it to the console using print().\n",
    "\n",
    "When an exception occurs during program execution, the error message with the exception type and timestamp will be logged to both the \"errors.log\" file and the console. We can adapt this code to handle different types of exceptions and customize the log file and message format as needed."
   ]
  }
 ],
 "metadata": {
  "kernelspec": {
   "display_name": "Python 3 (ipykernel)",
   "language": "python",
   "name": "python3"
  },
  "language_info": {
   "codemirror_mode": {
    "name": "ipython",
    "version": 3
   },
   "file_extension": ".py",
   "mimetype": "text/x-python",
   "name": "python",
   "nbconvert_exporter": "python",
   "pygments_lexer": "ipython3",
   "version": "3.10.9"
  }
 },
 "nbformat": 4,
 "nbformat_minor": 5
}
