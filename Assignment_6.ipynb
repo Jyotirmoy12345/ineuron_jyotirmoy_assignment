{
 "cells": [
  {
   "cell_type": "markdown",
   "id": "8aa88821-c826-40ee-b4e0-e3543b2d93ac",
   "metadata": {},
   "source": [
    "Q.1.What are keywords in python? Using the keyword library, print all the python keywords."
   ]
  },
  {
   "cell_type": "markdown",
   "id": "dfeb0e0e-df29-46a1-b69d-f5f2ac18d43e",
   "metadata": {},
   "source": [
    "Answer:\n",
    "-------\n",
    "\n",
    "Keywords in Python are reserved words that have a specific meaning and purpose in the language. These words are used to define the structure and logic of a Python program and cannot be used as identifiers (variable names, function names, etc.). Keywords are an essential part of Python's syntax and play a crucial role in defining the program's control flow, data structures, and operations.\n",
    "\n",
    "We can use the keyword module in Python to access a list of all the Python keywords. Here's how we can print all the Python keywords:"
   ]
  },
  {
   "cell_type": "code",
   "execution_count": 1,
   "id": "7023ebb8-9fd3-4ce7-9e66-2fece87d4c52",
   "metadata": {},
   "outputs": [
    {
     "name": "stdout",
     "output_type": "stream",
     "text": [
      "False\n",
      "None\n",
      "True\n",
      "and\n",
      "as\n",
      "assert\n",
      "async\n",
      "await\n",
      "break\n",
      "class\n",
      "continue\n",
      "def\n",
      "del\n",
      "elif\n",
      "else\n",
      "except\n",
      "finally\n",
      "for\n",
      "from\n",
      "global\n",
      "if\n",
      "import\n",
      "in\n",
      "is\n",
      "lambda\n",
      "nonlocal\n",
      "not\n",
      "or\n",
      "pass\n",
      "raise\n",
      "return\n",
      "try\n",
      "while\n",
      "with\n",
      "yield\n"
     ]
    }
   ],
   "source": [
    "import keyword\n",
    "\n",
    "# Get the list of Python keywords\n",
    "all_keywords = keyword.kwlist\n",
    "\n",
    "# Print each keyword\n",
    "for keyword in all_keywords:\n",
    "    print(keyword)"
   ]
  },
  {
   "cell_type": "markdown",
   "id": "484670b2-142a-46a7-b252-74002544e4a2",
   "metadata": {},
   "source": [
    "Q.2. What are the rules to create variables in python?"
   ]
  },
  {
   "cell_type": "markdown",
   "id": "807a86d5-6e8c-4db6-9285-44b637a472d9",
   "metadata": {},
   "source": [
    "Answer:\n",
    "------\n",
    "\n",
    "In Python, variable names must adhere to certain rules and conventions. Here are the rules for creating variables in Python:\n",
    "\n",
    "1.Variable Name Characters:\n",
    "   - Variable names can only contain letters (a-z, A-Z), numbers (0-9), and underscores (_).\n",
    "   - They cannot start with a number.\n",
    "\n",
    "2.Case Sensitivity:\n",
    "   - Python variable names are case-sensitive. This means that `myVar`, `myvar`, and `MYVAR` are all considered different variables.\n",
    "\n",
    "3.Reserved Words (Keywords):\n",
    "   - We cannot use Python's reserved words (keywords) as variable names. These are words that have special meanings in the language. We can see the list of reserved words using the `keyword` module, as shown in a previous answer.\n",
    "\n",
    "4.Whitespace:\n",
    "   - Variable names cannot contain spaces or other special characters like hyphens.\n",
    "\n",
    "5.Underscore Usage:\n",
    "   - Using underscores to separate words in variable names is a common convention in Python. For example, `my_variable` is a valid variable name.\n",
    "\n",
    "6.Convention:\n",
    "   - It's a convention in Python to use lowercase letters for variable names, with words separated by underscores (snake_case) for better readability. For example, `user_name`, `age`, `total_count` are all valid variable names.\n",
    "\n",
    "7.Meaningful Names:\n",
    "   - Use descriptive and meaningful variable names that indicate the purpose or content of the variable. This improves code readability.\n",
    "\n",
    "Examples of valid variable names:\n",
    "\n",
    "--------------------------------\n",
    "my_variable = 42\n",
    "user_name = \"Alice\"\n",
    "total_count_2 = 100\n",
    "\n",
    "--------------------------------\n",
    "\n",
    "Examples of invalid variable names:\n",
    "\n",
    "--------------------------------\n",
    "2nd_place = 5  # Starts with a number\n",
    "my-variable = \"hello\"  # Contains a hyphen\n",
    "for = 10  # Using a reserved word as a variable name\n",
    "\n",
    "--------------------------------\n",
    "\n",
    "Following these rules and conventions when naming variables in Python helps make our code more readable and maintainable."
   ]
  },
  {
   "cell_type": "markdown",
   "id": "6e5ae9c3-7211-4a1a-bc1c-a6c5b4e682ae",
   "metadata": {},
   "source": [
    "Q.3. What are the standards and conventions followed for the nomenclature of variables in\n",
    "python to improve code readability and maintainability?"
   ]
  },
  {
   "cell_type": "markdown",
   "id": "3bae03aa-fb59-4bfc-81b3-31299ac4a8ea",
   "metadata": {},
   "source": [
    "Answer:\n",
    "-------\n",
    "\n",
    "In Python, following consistent standards and conventions for variable naming is essential for improving code readability and maintainability. The most widely adopted naming convention in the Python community is known as \"PEP 8,\" which provides guidelines for naming variables, among other aspects of code style. Here are some key standards and conventions for variable nomenclature in Python:\n",
    "\n",
    "1.Use Descriptive Names:\n",
    "   - Choose variable names that describe the purpose or content of the variable. This makes our code more self-explanatory.\n",
    "   - Use meaningful nouns or noun phrases to name variables.\n",
    "\n",
    "2.Use lowercase Letters:\n",
    "   - Variable names should use lowercase letters.\n",
    "   - For multi-word variable names, separate words with underscores (snake_case).\n",
    "   - Example: `user_name`, `total_count`, `my_variable`\n",
    "\n",
    "3.Avoid Single-Character Names:\n",
    "   - Avoid using single-character variable names (except for loop counters).\n",
    "   - Use names that convey the variable's purpose.\n",
    "   - Exception: Common single-character variable names like `i`, `j`, `x`, `y` are acceptable for loop counters.\n",
    "\n",
    "4.Constants:\n",
    "   - Use uppercase letters for constant values (variables that should not be changed during the program's execution).\n",
    "   - Separate words in constant names with underscores.\n",
    "   - Example: `PI`, `MAX_VALUE`, `DEFAULT_TIMEOUT`\n",
    "\n",
    "5.Private Variables:\n",
    "   - Prefix variable names intended for internal use within a class or module with a single underscore. This is a convention to indicate that the variable is intended for internal use.\n",
    "   - Example: `_private_var`\n",
    "\n",
    "6.Class Names:\n",
    "   - Use CamelCase (or CapWords) for class names. Start each word with an uppercase letter and combine them without spaces.\n",
    "   - Example: `MyClass`, `PersonDetails`\n",
    "\n",
    "7.Module Names:\n",
    "   - Module names should be lowercase and can contain underscores.\n",
    "   - Use meaningful names for modules.\n",
    "   - Example: `my_module.py`, `data_processing.py`\n",
    "\n",
    "8.Function Names:\n",
    "   - Use lowercase letters and snake_case for function names.\n",
    "   - Function names should describe the action or operation performed.\n",
    "   - Example: `calculate_total`, `process_data`\n",
    "\n",
    "9.Avoid Shadowing Built-in Names:\n",
    "   - Avoid using names that shadow (override) built-in Python functions or names, as this can lead to confusion.\n",
    "   - Example: Don't name a variable `list` or `str`.\n",
    "\n",
    "10.Consistency:\n",
    "    - Maintain consistent naming conventions throughout our codebase to improve overall readability.\n",
    "    - If a project follows specific naming conventions, adhere to them.\n",
    "\n",
    "These conventions and standards help ensure that our code is easy to read, understand, and maintain by us and others. Adhering to PEP 8 and other widely accepted Python conventions contributes to code consistency and collaboration within the Python community. Many code editors and IDEs also support PEP 8 guidelines and can automatically check and format our code accordingly."
   ]
  },
  {
   "cell_type": "markdown",
   "id": "dbdb062a-2c4a-42cf-a146-18ae84da0b01",
   "metadata": {},
   "source": [
    "Q.4. What will happen if a keyword is used as a variable name?"
   ]
  },
  {
   "cell_type": "markdown",
   "id": "db26e5bb-9e5f-4690-8c5a-f1384fb9af22",
   "metadata": {},
   "source": [
    "Answer:\n",
    "------\n",
    "\n",
    "If a keyword (a reserved word) is used as a variable name in Python, it will result in a `SyntaxError`. Python reserves keywords for specific purposes within the language's syntax and semantics, so they cannot be used as identifiers for variables, functions, or other objects in our code.\n",
    "\n",
    "For example, if we try to use a keyword as a variable name like this:\n",
    "\n",
    "----------------------------------------------------\n",
    "for = 10  # Attempt to use 'for' as a variable name\n",
    "\n",
    "----------------------------------------------------\n",
    "\n",
    "We will encounter a `SyntaxError` similar to this:\n",
    "\n",
    "--------------------------------------------------\n",
    "File \"example.py\", line 1\n",
    "  for = 10\n",
    "      ^\n",
    "SyntaxError: invalid syntax\n",
    "\n",
    "--------------------------------------------------\n",
    "\n",
    "To avoid this error, we should choose variable names that do not conflict with Python's reserved keywords. Use descriptive and meaningful names for variables while adhering to Python's naming conventions and guidelines."
   ]
  },
  {
   "cell_type": "markdown",
   "id": "a093e7cc-0ec7-48ac-b5ee-d6d808b8420c",
   "metadata": {},
   "source": [
    "Q.5. For what purpose def keyword is used?"
   ]
  },
  {
   "cell_type": "markdown",
   "id": "0bbef77b-13dd-4429-ae2f-605b2c5b52ba",
   "metadata": {},
   "source": [
    "Answer:\n",
    "-------\n",
    "\n",
    "The `def` keyword in Python is used to define functions. Functions are blocks of reusable code that perform a specific task or a set of tasks. They encapsulate a series of statements and can take inputs (arguments) and return results (values). Here's the basic syntax for defining a function using the `def` keyword:\n",
    "\n",
    "------------------------------------------------------------\n",
    "def function_name(parameters):\n",
    "    # Function body (statements)\n",
    "    # ...\n",
    "    return result  # Optional return statement\n",
    "\n",
    "-----------------------------------------------------------\n",
    "\n",
    "The components of a function definition are as follows:\n",
    "\n",
    "- `def`: The keyword that signifies the start of a function definition.\n",
    "- `function_name`: A user-defined name for the function, following the variable naming conventions.\n",
    "- `parameters`: Optional input parameters (arguments) that the function can accept. These parameters are enclosed in parentheses.\n",
    "- `function body`: The block of statements that define what the function does.\n",
    "- `return`: An optional statement used to return a value from the function to the caller. If omitted, the function returns `None` by default.\n",
    "\n",
    "Here's a simple example of a function definition:\n",
    "\n",
    "---------------------------------------------------------\n",
    "def greet(name):\n",
    "    \"\"\"\n",
    "    This function greets the user with a personalized message.\n",
    "    \"\"\"\n",
    "    greeting = f\"Hello, {name}!\"\n",
    "    return greeting\n",
    "\n",
    "---------------------------------------------------------\n",
    "\n",
    "In this example, `greet` is the function name, `name` is a parameter, and the function returns a personalized greeting message.\n",
    "\n",
    "We can call (use) this function later in our code to execute the statements within it and obtain the result:\n",
    "\n",
    "--------------------------------------------------------\n",
    "user_name = \"Alice\"\n",
    "message = greet(user_name)\n",
    "print(message)  # Output: Hello, Alice!\n",
    "\n",
    "--------------------------------------------------------\n",
    "\n",
    "The `def` keyword is fundamental to defining reusable and modular code in Python, allowing us to organize our program's logic into separate functions, making our code more structured and maintainable."
   ]
  },
  {
   "cell_type": "markdown",
   "id": "ab7b4202-3938-493f-8589-bdf24f57d290",
   "metadata": {},
   "source": [
    "Q.6. What is the operation of this special character ‘\\’?"
   ]
  },
  {
   "cell_type": "markdown",
   "id": "16b6eac3-df17-43fc-941f-093313db307b",
   "metadata": {},
   "source": [
    "Answer:\n",
    "-------\n",
    "\n",
    "In Python and many other programming languages, the backslash character (`\\`) is used as an escape character. Its primary purpose is to indicate that the character following the backslash should be treated specially or differently than its literal representation. The backslash is used in string literals and is called an escape sequence.\n",
    "\n",
    "Here are some common escape sequences and their meanings in Python:\n",
    "\n",
    "1. `\\\\`: Escapes a single backslash character.\n",
    "\n",
    "   Example: `print(\"This is a backslash: \\\\\")`\n",
    "\n",
    "2. `\\'`: Escapes a single quote character within a single-quoted string.\n",
    "\n",
    "   Example: `print('She\\'s happy.')`\n",
    "\n",
    "3. `\\\"`: Escapes a double quote character within a double-quoted string.\n",
    "\n",
    "   Example: `print(\"He said, \\\"Hello!\\\"\")`\n",
    "\n",
    "4. `\\n`: Represents a newline character. It creates a line break.\n",
    "\n",
    "   Example: `print(\"Line 1\\nLine 2\")`\n",
    "\n",
    "5. `\\t`: Represents a horizontal tab character.\n",
    "\n",
    "   Example: `print(\"Tabbed\\tText\")`\n",
    "\n",
    "6. `\\r`: Represents a carriage return character. It moves the cursor to the beginning of the line.\n",
    "\n",
    "   Example: `print(\"Hello\\rWorld\")`\n",
    "\n",
    "7. `\\b`: Represents a backspace character. It moves the cursor one position back.\n",
    "\n",
    "   Example: `print(\"abc\\bdef\")`\n",
    "\n",
    "8. `\\f`: Represents a form feed character.\n",
    "\n",
    "   Example: `print(\"Page 1\\fPage 2\")`\n",
    "\n",
    "9. `\\v`: Represents a vertical tab character.\n",
    "\n",
    "   Example: `print(\"Line 1\\vLine 2\")`\n",
    "\n",
    "10. `\\xHH`: Represents a character with the hexadecimal value `HH`, where `HH` is a two-digit hexadecimal number.\n",
    "\n",
    "   Example: `print(\"\\x41\")  # Prints 'A'`\n",
    "\n",
    "11. `\\uHHHH` or `\\UHHHHHHHH`: Represents a Unicode character with the specified Unicode code point. `HHHH` represents a four-digit hexadecimal number, and `HHHHHHHH` represents an eight-digit hexadecimal number.\n",
    "\n",
    "   Example: `print(\"\\u03A9\")  # Prints the Greek letter 'Ω'`\n",
    "\n",
    "12. `\\\\`: Escapes a literal backslash character. This is used to include a backslash in our string without interpreting it as an escape sequence.\n",
    "\n",
    "   Example: `print(\"This is a backslash: \\\\\")`\n",
    "\n",
    "The backslash character is crucial for working with strings that include special characters or formatting requirements. It allows us to include characters that would otherwise be interpreted differently within a string literal."
   ]
  },
  {
   "cell_type": "markdown",
   "id": "de2254c3-67a2-4588-8134-582845537d6c",
   "metadata": {},
   "source": [
    "Q.7. Give an example of the following conditions:\n",
    "(i) Homogeneous list\n",
    "(ii) Heterogeneous set\n",
    "(iii) Homogeneous tuple"
   ]
  },
  {
   "cell_type": "markdown",
   "id": "a8834fc4-46a1-46a3-ac91-4ec1c91fbbb6",
   "metadata": {},
   "source": [
    "Answer:\n",
    "-------\n",
    "\n",
    "Here are examples of the conditions we've mentioned:\n",
    "\n",
    "(i) Homogeneous List:\n",
    "A homogeneous list contains elements of the same data type. In this example, we have a list of integers.\n",
    "\n",
    "```python------------------------------\n",
    "homogeneous_list = [1, 2, 3, 4, 5]\n",
    "\n",
    "----------------------------------------\n",
    "\n",
    "All elements in `homogeneous_list` are of the same data type (integer).\n",
    "\n",
    "(ii) Heterogeneous Set:\n",
    "A heterogeneous set contains elements of different data types. In this example, we have a set containing a mix of integers, strings, and a boolean value.\n",
    "\n",
    "```python------------------------------------\n",
    "heterogeneous_set = {1, \"apple\", 3.14, True}\n",
    "\n",
    "---------------------------------------------\n",
    "\n",
    "`heterogeneous_set` contains elements of various data types (integers, strings, float, boolean).\n",
    "\n",
    "(iii) Homogeneous Tuple:\n",
    "A homogeneous tuple contains elements of the same data type. In this example, we have a tuple of strings.\n",
    "\n",
    "```python-------------------------------------------\n",
    "homogeneous_tuple = (\"apple\", \"banana\", \"cherry\")\n",
    "\n",
    "-----------------------------------------------------\n",
    "\n",
    "All elements in `homogeneous_tuple` are of the same data type (strings).\n",
    "\n",
    "These examples demonstrate the concepts of homogeneous and heterogeneous collections in Python."
   ]
  },
  {
   "cell_type": "markdown",
   "id": "639008aa-f45c-4859-be13-beb03caff223",
   "metadata": {},
   "source": [
    "Q.8. Explain the mutable and immutable data types with proper explanation & examples."
   ]
  },
  {
   "cell_type": "markdown",
   "id": "1c074bba-4303-4dec-9b39-e9f65a8a9c73",
   "metadata": {},
   "source": [
    "Answer:\n",
    "-------\n",
    "\n",
    "In Python, data types can be categorized into two main groups based on their mutability:\n",
    "\n",
    "1.Mutable Data Types:\n",
    "\n",
    "   - Mutable data types are those whose values or contents can be changed after they are created.\n",
    "   - Lists, dictionaries, and sets are examples of mutable data types.\n",
    "   - When we modify a mutable object, it may change its contents, but its identity (memory address) remains the same.\n",
    "\n",
    "\n",
    "2.Immutable Data Types:\n",
    "\n",
    "   - Immutable data types are those whose values cannot be changed after they are created.\n",
    "   - Integers, floats, strings, tuples, and frozensets are examples of immutable data types.\n",
    "   - When we attempt to modify an immutable object, a new object is created with the updated value, and the original object remains unchanged."
   ]
  },
  {
   "cell_type": "code",
   "execution_count": 2,
   "id": "8bbae4e2-1fe4-417e-9fd0-f1ffea87c365",
   "metadata": {},
   "outputs": [
    {
     "name": "stdout",
     "output_type": "stream",
     "text": [
      "99\n"
     ]
    }
   ],
   "source": [
    "  #   Example with an integer (immutable):\n",
    "my_integer = 42\n",
    "my_integer = 99  # Creating a new integer object, my_integer now refers to 99\n",
    "print(my_integer)"
   ]
  },
  {
   "cell_type": "code",
   "execution_count": 3,
   "id": "dc7603de-225a-4e92-98b1-65e0fc3c8011",
   "metadata": {},
   "outputs": [
    {
     "name": "stdout",
     "output_type": "stream",
     "text": [
      "[99, 2, 3]\n"
     ]
    }
   ],
   "source": [
    "   #Example with a list (mutable):\n",
    "   my_list = [1, 2, 3]\n",
    "   my_list[0] = 99  # Modifying the list, it's still the same list in memory\n",
    "   print(my_list)"
   ]
  },
  {
   "cell_type": "code",
   "execution_count": 5,
   "id": "fb2bdf82-05ca-4204-a5c5-a5aff63304fa",
   "metadata": {},
   "outputs": [
    {
     "name": "stdout",
     "output_type": "stream",
     "text": [
      "{'name': 'Alice', 'age': 31}\n"
     ]
    }
   ],
   "source": [
    "#Example with a dictionary (mutable):\n",
    "my_dict = {'name': 'Alice', 'age': 30}\n",
    "my_dict['age'] = 31  # Modifying the dictionary, it's still the same dictionary in memory\n",
    "print(my_dict)  # Output: {'name': 'Alice', 'age': 31}"
   ]
  },
  {
   "cell_type": "code",
   "execution_count": 6,
   "id": "1fec38a4-2586-485a-be29-8331e3a10137",
   "metadata": {},
   "outputs": [
    {
     "name": "stdout",
     "output_type": "stream",
     "text": [
      "99\n"
     ]
    }
   ],
   "source": [
    "#Example with an integer (immutable):\n",
    "my_integer = 42\n",
    "my_integer = 99  # Creating a new integer object, my_integer now refers to 99\n",
    "print(my_integer)  # Output: 99\n"
   ]
  },
  {
   "cell_type": "code",
   "execution_count": 7,
   "id": "960759ff-166d-4183-8246-92cbde75df64",
   "metadata": {},
   "outputs": [
    {
     "name": "stdout",
     "output_type": "stream",
     "text": [
      "Hello World\n"
     ]
    }
   ],
   "source": [
    "#Example with a string (immutable):\n",
    "my_string = \"Hello\"\n",
    "my_string += \" World\"  # Creating a new string object, my_string now refers to the new string\n",
    "print(my_string)  # Output: \"Hello World\"\n"
   ]
  },
  {
   "cell_type": "code",
   "execution_count": 12,
   "id": "31fcb47b-abf8-4039-bb71-7e86c89e0546",
   "metadata": {},
   "outputs": [
    {
     "ename": "TypeError",
     "evalue": "'tuple' object does not support item assignment",
     "output_type": "error",
     "traceback": [
      "\u001b[1;31m---------------------------------------------------------------------------\u001b[0m",
      "\u001b[1;31mTypeError\u001b[0m                                 Traceback (most recent call last)",
      "Cell \u001b[1;32mIn[12], line 4\u001b[0m\n\u001b[0;32m      2\u001b[0m my_tuple \u001b[38;5;241m=\u001b[39m (\u001b[38;5;241m1\u001b[39m, \u001b[38;5;241m2\u001b[39m, \u001b[38;5;241m3\u001b[39m)\n\u001b[0;32m      3\u001b[0m \u001b[38;5;66;03m# Attempting to modify the tuple will result in an error\u001b[39;00m\n\u001b[1;32m----> 4\u001b[0m my_tuple[\u001b[38;5;241m0\u001b[39m] \u001b[38;5;241m=\u001b[39m \u001b[38;5;241m99\u001b[39m  \u001b[38;5;66;03m# This line will raise a TypeError\u001b[39;00m\n\u001b[0;32m      5\u001b[0m \u001b[38;5;28mprint\u001b[39m(my_tuple)\n",
      "\u001b[1;31mTypeError\u001b[0m: 'tuple' object does not support item assignment"
     ]
    }
   ],
   "source": [
    "#Example with a tuple (immutable):\n",
    "my_tuple = (1, 2, 3)\n",
    "# Attempting to modify the tuple will result in an error\n",
    "my_tuple[0] = 99  # This line will raise a TypeError\n",
    "print(my_tuple)"
   ]
  },
  {
   "cell_type": "markdown",
   "id": "d8b3ed77-1ab7-4750-a9e2-a0fa2a3c56dc",
   "metadata": {},
   "source": [
    "Immutable data types ensure that the values they represent remain consistent and cannot be accidentally or maliciously changed during program execution. Mutable data types, on the other hand, provide flexibility in updating and modifying data in place but require careful handling to avoid unexpected side effects.\n",
    "\n",
    "It's essential to be aware of the mutability of data types when working with Python, as it affects how we manipulate data and design our programs."
   ]
  },
  {
   "cell_type": "markdown",
   "id": "ee284578-aae5-41b5-b3d6-5117cdd5ad0f",
   "metadata": {},
   "source": [
    "Q.9. Write a code to create the given structure using only for loop.\n",
    "    *\n",
    "   ***\n",
    "  *****\n",
    " *******\n",
    "*********"
   ]
  },
  {
   "cell_type": "code",
   "execution_count": 13,
   "id": "2b11b7c2-837d-4233-9f30-910c93ba7d33",
   "metadata": {},
   "outputs": [
    {
     "name": "stdout",
     "output_type": "stream",
     "text": [
      "    *\n",
      "   ***\n",
      "  *****\n",
      " *******\n",
      "*********\n"
     ]
    }
   ],
   "source": [
    "# Define the number of rows (we can adjust this value to change the height of the pattern)\n",
    "num_rows = 5\n",
    "\n",
    "# Outer loop for rows\n",
    "for i in range(1, num_rows + 1):\n",
    "    # Print leading spaces\n",
    "    for j in range(num_rows - i):\n",
    "        print(\" \", end=\"\")\n",
    "\n",
    "    # Print asterisks\n",
    "    for k in range(2 * i - 1):\n",
    "        print(\"*\", end=\"\")\n",
    "\n",
    "    # Move to the next line\n",
    "    print()"
   ]
  },
  {
   "cell_type": "markdown",
   "id": "26980c07-0314-45b3-8c2e-8fc1ffb45ee0",
   "metadata": {},
   "source": [
    "Q.10. Write a code to create the given structure using while loop.\n",
    "|||||||||\n",
    " |||||||\n",
    "  |||||\n",
    "   |||\n",
    "    |"
   ]
  },
  {
   "cell_type": "code",
   "execution_count": 14,
   "id": "1603eab6-fbc7-4392-99d6-479e77c128b1",
   "metadata": {},
   "outputs": [
    {
     "name": "stdout",
     "output_type": "stream",
     "text": [
      "|||||||||\n",
      " |||||||\n",
      "  |||||\n",
      "   |||\n",
      "    |\n"
     ]
    }
   ],
   "source": [
    "# Define the number of rows (we can adjust this value to change the height of the pattern)\n",
    "num_rows = 5\n",
    "row = 1\n",
    "\n",
    "while row <= num_rows:\n",
    "    # Print leading spaces\n",
    "    spaces = 0\n",
    "    while spaces < row - 1:\n",
    "        print(\" \", end=\"\")\n",
    "        spaces += 1\n",
    "\n",
    "    # Print vertical bars\n",
    "    bars = 2 * (num_rows - row) + 1\n",
    "    while bars > 0:\n",
    "        print(\"|\", end=\"\")\n",
    "        bars -= 1\n",
    "\n",
    "    # Move to the next line\n",
    "    print()\n",
    "    row += 1"
   ]
  }
 ],
 "metadata": {
  "kernelspec": {
   "display_name": "Python 3 (ipykernel)",
   "language": "python",
   "name": "python3"
  },
  "language_info": {
   "codemirror_mode": {
    "name": "ipython",
    "version": 3
   },
   "file_extension": ".py",
   "mimetype": "text/x-python",
   "name": "python",
   "nbconvert_exporter": "python",
   "pygments_lexer": "ipython3",
   "version": "3.10.9"
  }
 },
 "nbformat": 4,
 "nbformat_minor": 5
}
