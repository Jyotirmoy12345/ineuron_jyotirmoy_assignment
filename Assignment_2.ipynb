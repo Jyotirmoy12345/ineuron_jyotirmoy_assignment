{
 "cells": [
  {
   "cell_type": "markdown",
   "id": "d406590f-5c9f-4c49-86aa-e84817b7e630",
   "metadata": {},
   "source": [
    "                                                    Assignment_2"
   ]
  },
  {
   "cell_type": "markdown",
   "id": "f69f7bf3-0fd7-4e90-9aac-a06efd6f86f1",
   "metadata": {},
   "source": [
    "1.What are the two values of the Boolean data type? How do you write them?\n",
    "\n",
    "Answer:\n",
    "-------\n",
    "\n",
    "The Boolean data type in Python has two values: True and False. These values are used to represent the truthiness or falseness of expressions and conditions.\n",
    "True: Represents a true condition or a positive result.\n",
    "False: Represents a false condition or a negative result.\n"
   ]
  },
  {
   "cell_type": "markdown",
   "id": "47d896af-6f4e-4a4d-8517-b3a5eca85596",
   "metadata": {},
   "source": [
    "2. What are the three different types of Boolean operators?\n",
    "\n",
    "Answer:\n",
    "-------\n",
    "\n",
    "In Python, there are three different types of Boolean operators used to perform logical operations on Boolean values or expressions. These operators are used to create complex conditions and control the flow of your programs. The three types of Boolean operators are:\n",
    "Logical AND (and):\n",
    "The and operator returns True if both operands are True, otherwise, it returns False.\n",
    "Logical OR (or):\n",
    "The or operator returns True if at least one of the operands is True, and it returns False only if both operands are False.\n",
    "Logical NOT (not):\n",
    "The not operator is a unary operator that returns the opposite of the operand's Boolean value. If the operand is True, not returns False, and if the operand is False, not returns True.\n"
   ]
  },
  {
   "cell_type": "markdown",
   "id": "f28ff9d2-507a-49ec-9fef-2d01017d4091",
   "metadata": {},
   "source": [
    "3. Make a list of each Boolean operator's truth tables (i.e. every possible combination of Boolean values for the operator and what it evaluate ).\n",
    "\n",
    "Answer:\n",
    "-------\n",
    "\n",
    "1. Logical AND (`and`):\n",
    "\n",
    "| Operand 1 | Operand 2 | Result |\n",
    "|-----------|-----------|--------|\n",
    "|   False   |   False   | False  |\n",
    "|   False   |   True    | False  |\n",
    "|   True    |   False   | False  |\n",
    "|   True    |   True    | True   |\n",
    "\n",
    "2. Logical OR (`or`):\n",
    "\n",
    "| Operand 1 | Operand 2 | Result |\n",
    "|-----------|-----------|--------|\n",
    "|   False   |   False   | False  |\n",
    "|   False   |   True    | True   |\n",
    "|   True    |   False   | True   |\n",
    "|   True    |   True    | True   |\n",
    "\n",
    "3. Logical NOT (`not`):\n",
    "\n",
    "| Operand | Result |\n",
    "|---------|--------|\n",
    "|  False  |  True  |\n",
    "|  True   |  False |\n"
   ]
  },
  {
   "cell_type": "code",
   "execution_count": null,
   "id": "70ae60e7-2cd3-4e3e-9b24-6f5d8f60b590",
   "metadata": {},
   "outputs": [],
   "source": [
    "4. What are the values of the following expressions?\n",
    "\n",
    "(5 > 4) and (3 == 5)\n",
    "not (5 > 4)\n",
    "(5 > 4) or (3 == 5)\n",
    "not ((5 > 4) or (3 == 5))\n",
    "(True and True) and (True == False)\n",
    "(not False) or (not True)"
   ]
  },
  {
   "cell_type": "markdown",
   "id": "2a257842-f2ba-4a94-80b4-6848cbfe5005",
   "metadata": {},
   "source": [
    "Answer:\n",
    "-------\n",
    "\n",
    "Explanation for each expression:\n",
    "a. `(5 > 4) and (3 == 5)`:\n",
    "The first part `(5 > 4)` is `True`, but the second part `(3 == 5)` is `False`. Using `and`, both parts need to be `True` for the result to be `True`, so the overall result is `False`.\n",
    "b. `not (5 > 4)`:\n",
    "The expression `(5 > 4)` is `True`, and using `not` negates it, resulting in `False`.\n",
    "c. `(5 > 4) or (3 == 5)`:\n",
    "  The first part `(5 > 4)` is `True`, and the second part `(3 == 5)` is `False`. Using `or`, if at least one part is `True`, the result is `True`, so the overall result is `True`.\n",
    "d. `not ((5 > 4) or (3 == 5))`:\n",
    " Similar to the previous explanation, the overall expression evaluates to `False`, and using `not` negates it to `True`.\n",
    "e. `(True and True) and (True == False)`:\n",
    "  The expression `(True == False)` evaluates to `False`. So, even though the other parts are `True`, using `and` requires all parts to be `True` for the result to be `True`, making the overall result `False`.\n",
    "f. `(not False) or (not True)`:\n",
    "`not False` is `True`, and `not True` is `False`. Using `or`, if at least one part is `True`, the result is `True`, so the overall result is `True`.\n"
   ]
  },
  {
   "cell_type": "code",
   "execution_count": 1,
   "id": "692ed5de-ef77-414d-85c7-0d74e152f58d",
   "metadata": {},
   "outputs": [
    {
     "data": {
      "text/plain": [
       "False"
      ]
     },
     "execution_count": 1,
     "metadata": {},
     "output_type": "execute_result"
    }
   ],
   "source": [
    "(5 > 4) and (3 == 5)"
   ]
  },
  {
   "cell_type": "code",
   "execution_count": 2,
   "id": "f8e92673-0d53-46e5-b13a-d713c545bdce",
   "metadata": {},
   "outputs": [
    {
     "data": {
      "text/plain": [
       "False"
      ]
     },
     "execution_count": 2,
     "metadata": {},
     "output_type": "execute_result"
    }
   ],
   "source": [
    "not (5 > 4)"
   ]
  },
  {
   "cell_type": "code",
   "execution_count": 3,
   "id": "f032503d-ce58-464a-9837-2bd931048507",
   "metadata": {},
   "outputs": [
    {
     "data": {
      "text/plain": [
       "True"
      ]
     },
     "execution_count": 3,
     "metadata": {},
     "output_type": "execute_result"
    }
   ],
   "source": [
    "(5 > 4) or (3 == 5)"
   ]
  },
  {
   "cell_type": "code",
   "execution_count": 4,
   "id": "c2c5c7e8-7271-487f-990d-c3084f64c626",
   "metadata": {},
   "outputs": [
    {
     "data": {
      "text/plain": [
       "True"
      ]
     },
     "execution_count": 4,
     "metadata": {},
     "output_type": "execute_result"
    }
   ],
   "source": [
    "((5 > 4) or (3 == 5))"
   ]
  },
  {
   "cell_type": "code",
   "execution_count": 5,
   "id": "1f6d2f22-a78f-41ae-a05a-dc18cbfa2ab2",
   "metadata": {},
   "outputs": [
    {
     "data": {
      "text/plain": [
       "False"
      ]
     },
     "execution_count": 5,
     "metadata": {},
     "output_type": "execute_result"
    }
   ],
   "source": [
    "(True and True) and (True == False)"
   ]
  },
  {
   "cell_type": "code",
   "execution_count": 6,
   "id": "015ba5d2-7ba3-4526-9dc2-662700b5ed4e",
   "metadata": {},
   "outputs": [
    {
     "data": {
      "text/plain": [
       "True"
      ]
     },
     "execution_count": 6,
     "metadata": {},
     "output_type": "execute_result"
    }
   ],
   "source": [
    "(not False) or (not True)"
   ]
  },
  {
   "cell_type": "markdown",
   "id": "3f9eaef2-ba87-4409-998e-891cf56c81e5",
   "metadata": {},
   "source": [
    "5. What are the six comparison operators?"
   ]
  },
  {
   "cell_type": "markdown",
   "id": "54c7169b-47ed-451e-8078-dc207731e936",
   "metadata": {},
   "source": [
    "Answer:\n",
    "-------\n",
    "\n",
    "The six comparison operators in Python are used to compare values and return Boolean results (`True` or `False`). Here they are:\n",
    "•Equal (`==`): Returns `True` if the values on both sides of the operator are equal.\n",
    "•Not Equal (`!=`): Returns `True` if the values on both sides of the operator are not equal.\n",
    "•Greater Than (`>`): Returns `True` if the value on the left side is greater than the value on the right side.\n",
    "•Less Than (`<`): Returns `True` if the value on the left side is less than the value on the right side.\n",
    "•Greater Than or Equal To (`>=`): Returns `True` if the value on the left side is greater than or equal to the value on the right side.\n",
    "•Less Than or Equal To (`<=`): Returns `True` if the value on the left side is less than or equal to the value on the right side.\n",
    "These operators are commonly used in conditional statements, loops, and other situations where comparisons are required to make decisions or control the flow of a program."
   ]
  },
  {
   "cell_type": "markdown",
   "id": "94563f17-59c1-4a41-85c8-f0c79099390c",
   "metadata": {},
   "source": [
    "6. How do you tell the difference between the equal to and assignment operators? Describe a condition and when you would use one."
   ]
  },
  {
   "cell_type": "markdown",
   "id": "83a2ab4d-f8fb-489a-9683-58a069c4f366",
   "metadata": {},
   "source": [
    "Answer:\n",
    "-------\n",
    "The equal to (= =) operator and the assignment (=) operator serve different purposes in Python. It's important to understand the difference between them to avoid confusion.\n",
    "Equal To Operator (= =):\n",
    "The equal to operator is used to compare two values to check if they are equal. It returns True if the values are equal and False if they are not.\n",
    "Assignment Operator (=):\n",
    "The assignment operator is used to assign a value to a variable. It takes the value on the right and assigns it to the variable on the left.\n",
    "\n",
    "Condition for Usage:\n",
    "You would use the equal to operator (==) when you want to compare two values to determine their equality. This is commonly used in conditional statements, such as if statements, to make decisions based on the comparison results.\n",
    "You would use the assignment operator (=) when you want to assign a value to a variable. This is essential for storing and manipulating data in your program.\n",
    "In summary, the key difference is that the equal to operator compares values for equality, while the assignment operator assigns a value to a variable. Always be careful not to confuse these operators, as misusing them can lead to unintended behaviour in your code.\n"
   ]
  },
  {
   "cell_type": "code",
   "execution_count": null,
   "id": "04167461-4907-4c6d-a5c6-a8687fd4046a",
   "metadata": {},
   "outputs": [],
   "source": [
    "7. Identify the three blocks in this code:\n",
    "spam = 0\n",
    "if spam == 10:\n",
    "print('eggs')\n",
    "if spam > 5:\n",
    "print('bacon')\n",
    "else:\n",
    "print('ham')\n",
    "print('spam')\n",
    "print('spam')\n"
   ]
  },
  {
   "cell_type": "code",
   "execution_count": 8,
   "id": "26252f50-2761-459e-adfd-0fb76640dbab",
   "metadata": {},
   "outputs": [
    {
     "name": "stdout",
     "output_type": "stream",
     "text": [
      "ham\n",
      "spam\n",
      "spam\n"
     ]
    }
   ],
   "source": [
    "spam = 0\n",
    "if spam == 10:\n",
    " print('eggs')\n",
    "if spam > 5:\n",
    " print('bacon')\n",
    "else:\n",
    " print('ham')\n",
    "print('spam')\n",
    "print('spam')"
   ]
  },
  {
   "cell_type": "markdown",
   "id": "d3e34108-9fa2-4b68-93b1-4ca8c3ba324b",
   "metadata": {},
   "source": [
    "8. Write code that prints Hello if 1 is stored in spam, prints Howdy if 2 is stored in spam, and prints Greetings! if anything else is stored in spam."
   ]
  },
  {
   "cell_type": "code",
   "execution_count": 9,
   "id": "5e6d1ab3-6844-455e-aeab-b5716f8215bb",
   "metadata": {},
   "outputs": [
    {
     "name": "stdin",
     "output_type": "stream",
     "text": [
      "Enter a value for spam:  1\n"
     ]
    },
    {
     "name": "stdout",
     "output_type": "stream",
     "text": [
      "Hello\n"
     ]
    }
   ],
   "source": [
    "spam = int(input(\"Enter a value for spam: \"))  # Accept user input\n",
    "if spam == 1:\n",
    "    print(\"Hello\")\n",
    "elif spam == 2:\n",
    "    print(\"Howdy\")\n",
    "else:\n",
    "    print(\"Greetings!\")"
   ]
  },
  {
   "cell_type": "code",
   "execution_count": 10,
   "id": "e34936cc-cfe7-4bc6-9485-47c8fbc1c85b",
   "metadata": {},
   "outputs": [
    {
     "name": "stdin",
     "output_type": "stream",
     "text": [
      "Enter a value for spam:  2\n"
     ]
    },
    {
     "name": "stdout",
     "output_type": "stream",
     "text": [
      "Howdy\n"
     ]
    }
   ],
   "source": [
    "spam = int(input(\"Enter a value for spam: \"))  # Accept user input\n",
    "if spam == 1:\n",
    "    print(\"Hello\")\n",
    "elif spam == 2:\n",
    "    print(\"Howdy\")\n",
    "else:\n",
    "    print(\"Greetings!\")"
   ]
  },
  {
   "cell_type": "code",
   "execution_count": 11,
   "id": "9395c2c6-8196-46be-a58e-7155d8ee94f7",
   "metadata": {},
   "outputs": [
    {
     "name": "stdin",
     "output_type": "stream",
     "text": [
      "Enter a value for spam:  6\n"
     ]
    },
    {
     "name": "stdout",
     "output_type": "stream",
     "text": [
      "Greetings!\n"
     ]
    }
   ],
   "source": [
    "spam = int(input(\"Enter a value for spam: \"))  # Accept user input\n",
    "if spam == 1:\n",
    "    print(\"Hello\")\n",
    "elif spam == 2:\n",
    "    print(\"Howdy\")\n",
    "else:\n",
    "    print(\"Greetings!\")\n"
   ]
  },
  {
   "cell_type": "markdown",
   "id": "dc2d27d3-91e3-41ae-99d6-d7d239bff533",
   "metadata": {},
   "source": [
    "9. If your programme is stuck in an endless loop, what keys you’ll press?"
   ]
  },
  {
   "cell_type": "markdown",
   "id": "69222a82-29ac-4c3c-a729-d390cea4e8a6",
   "metadata": {},
   "source": [
    "Answer:\n",
    "------\n",
    "\n",
    "Ctrl + C (on Windows and Linux) or Command + C (on macOS)"
   ]
  },
  {
   "cell_type": "markdown",
   "id": "d295180f-3360-4237-ba4d-73735259d672",
   "metadata": {},
   "source": [
    "10. How can you tell the difference between break and continue?"
   ]
  },
  {
   "cell_type": "markdown",
   "id": "eff81315-99c7-4fc2-8bf3-8e30f28c06bf",
   "metadata": {},
   "source": [
    "Answer:\n",
    "-------\n",
    "\n",
    "`break` and `continue` are two keywords used in loops (such as `for` and `while` loops) to control the flow of the loop execution. They serve different purposes:\n",
    "Break:\n",
    "The `break` statement is used to exit the loop prematurely. When a `break` statement is encountered within a loop, the loop's execution is immediately terminated, and the program continues with the code following the loop.\n",
    "\n",
    "Example:"
   ]
  },
  {
   "cell_type": "code",
   "execution_count": 12,
   "id": "e6c0e458-2c38-43b3-8d6d-967ee16c7e27",
   "metadata": {},
   "outputs": [
    {
     "name": "stdout",
     "output_type": "stream",
     "text": [
      "0\n",
      "1\n",
      "2\n"
     ]
    }
   ],
   "source": [
    "for i in range(5):\n",
    "    if i == 3:\n",
    "        break  # Exit the loop when i is 3\n",
    "    print(i)"
   ]
  },
  {
   "cell_type": "markdown",
   "id": "d0efcedc-5649-4c46-90fc-0928f66258b3",
   "metadata": {},
   "source": [
    "Continue:\n",
    "The `continue` statement is used to skip the current iteration of the loop and move on to the next iteration. It essentially skips the rest of the loop's body for the current iteration and proceeds with the next iteration.\n",
    "Example:\n"
   ]
  },
  {
   "cell_type": "code",
   "execution_count": 14,
   "id": "24d707c1-340c-4772-884b-239b08562a02",
   "metadata": {},
   "outputs": [
    {
     "name": "stdout",
     "output_type": "stream",
     "text": [
      "0\n",
      "1\n",
      "2\n",
      "4\n"
     ]
    }
   ],
   "source": [
    "for i in range(5):\n",
    "    if i == 3:\n",
    "        continue  # Skip the rest of the loop for i = 3\n",
    "    print(i)"
   ]
  },
  {
   "cell_type": "markdown",
   "id": "54a26090-20b0-4172-ae57-b39e9664e77f",
   "metadata": {},
   "source": [
    " \n",
    "In summary, `break` is used to completely exit the loop, while `continue` is used to skip the current iteration and move to the next one. Both statements can help control the flow of the loop based on certain conditions.\n"
   ]
  },
  {
   "cell_type": "markdown",
   "id": "a12d9f2d-9913-4ac3-a8f7-c08f48d55bcd",
   "metadata": {},
   "source": [
    "11. In a for loop, what is the difference between range(10), range(0, 10), and range(0, 10, 1)?"
   ]
  },
  {
   "cell_type": "markdown",
   "id": "dea7fed1-1805-4583-8f4b-94cb26fd6cb2",
   "metadata": {},
   "source": [
    "Answer:\n",
    "------\n",
    "\n",
    "In a `for` loop, the three expressions `range(10)`, `range(0, 10)`, and `range(0, 10, 1)` are used to generate a sequence of numbers that the loop iterates over. However, they are essentially equivalent and produce the same result in this context. Here's the breakdown:\n",
    "\n",
    "`range(10)`:\n",
    "   This expression generates a sequence of numbers from 0 to 9. The starting value is omitted, so the default starting value of 0 is assumed. The loop will iterate through the numbers 0 to 9 (10 numbers in total).\n",
    "   \n",
    "`range(0, 10)`:\n",
    "   This expression explicitly specifies both the starting and ending values of the range. The loop will iterate through the numbers 0 to 9, just like in the previous example.\n",
    "\n",
    "`range(0, 10, 1)`:\n",
    "   This expression adds an additional step or stride argument. The default step is 1, so this expression is effectively the same as the previous two. It iterates through the numbers 0 to 9 with a step of 1."
   ]
  },
  {
   "cell_type": "code",
   "execution_count": 15,
   "id": "4800d2ee-6b51-453d-87e3-f5d9f17dbd2d",
   "metadata": {},
   "outputs": [
    {
     "name": "stdout",
     "output_type": "stream",
     "text": [
      "0\n",
      "1\n",
      "2\n",
      "3\n",
      "4\n",
      "5\n",
      "6\n",
      "7\n",
      "8\n",
      "9\n"
     ]
    }
   ],
   "source": [
    "for i in range(10):\n",
    "    print(i)"
   ]
  },
  {
   "cell_type": "code",
   "execution_count": 16,
   "id": "4fb87f1f-581d-48f4-a770-611dc52cc5fe",
   "metadata": {},
   "outputs": [
    {
     "name": "stdout",
     "output_type": "stream",
     "text": [
      "0\n",
      "1\n",
      "2\n",
      "3\n",
      "4\n",
      "5\n",
      "6\n",
      "7\n",
      "8\n",
      "9\n"
     ]
    }
   ],
   "source": [
    "for i in range(0, 10):\n",
    "    print(i)"
   ]
  },
  {
   "cell_type": "code",
   "execution_count": 17,
   "id": "ae63f2e2-9d22-4ec6-94e1-4c4eaf588fa2",
   "metadata": {},
   "outputs": [
    {
     "name": "stdout",
     "output_type": "stream",
     "text": [
      "0\n",
      "1\n",
      "2\n",
      "3\n",
      "4\n",
      "5\n",
      "6\n",
      "7\n",
      "8\n",
      "9\n"
     ]
    }
   ],
   "source": [
    "for i in range(0, 10, 1):\n",
    "    print(i)"
   ]
  },
  {
   "cell_type": "markdown",
   "id": "703664d7-b094-4c06-914a-092d3de3e623",
   "metadata": {},
   "source": [
    "12. Write a short program that prints the numbers 1 to 10 using a for loop. Then write an equivalent program that prints the numbers 1 to 10 using a while loop."
   ]
  },
  {
   "cell_type": "code",
   "execution_count": 18,
   "id": "9b3d9241-d47a-4e4e-bb33-a58edf8d363b",
   "metadata": {},
   "outputs": [
    {
     "name": "stdout",
     "output_type": "stream",
     "text": [
      "1\n",
      "2\n",
      "3\n",
      "4\n",
      "5\n",
      "6\n",
      "7\n",
      "8\n",
      "9\n",
      "10\n"
     ]
    }
   ],
   "source": [
    "for i in range(1, 11):\n",
    "    print(i)"
   ]
  },
  {
   "cell_type": "code",
   "execution_count": 19,
   "id": "7d41c285-0828-44bf-aecc-f8ae8242b409",
   "metadata": {},
   "outputs": [
    {
     "name": "stdout",
     "output_type": "stream",
     "text": [
      "1\n",
      "2\n",
      "3\n",
      "4\n",
      "5\n",
      "6\n",
      "7\n",
      "8\n",
      "9\n",
      "10\n"
     ]
    }
   ],
   "source": [
    "number = 1  # Starting number\n",
    "\n",
    "while number <= 10:  # Loop as long as number is less than or equal to 10\n",
    "    print(number)\n",
    "    number += 1  # Increment the number by 1 in each iteration"
   ]
  },
  {
   "cell_type": "markdown",
   "id": "e40ebc79-499d-4d1f-8232-1d35b594ddd0",
   "metadata": {},
   "source": [
    "13. If you had a function named bacon() inside a module named spam, how would you call it after importing spam?"
   ]
  },
  {
   "cell_type": "markdown",
   "id": "3f73c5dc-4fa9-4d9b-883d-3791bd8911f5",
   "metadata": {},
   "source": [
    "Answer:\n",
    "------\n",
    "If you have a function named `bacon()` inside a module named `spam`, and you want to call it after importing the `spam` module, you would use the following syntax:\n"
   ]
  },
  {
   "cell_type": "code",
   "execution_count": null,
   "id": "dfd993bf-d99c-4283-8ff7-c27f8a01944c",
   "metadata": {},
   "outputs": [],
   "source": [
    "import spam\n",
    "\n",
    "spam.bacon()  # Call the bacon() function from the spam module"
   ]
  },
  {
   "cell_type": "markdown",
   "id": "630c1306-05d2-433d-8663-324294ffda74",
   "metadata": {},
   "source": [
    "Here, `spam` is the name of the module, and `bacon()` is the function within that module. When you use the syntax `spam.bacon()`, you're specifying that you want to call the`bacon()` function from the `spam` module."
   ]
  }
 ],
 "metadata": {
  "kernelspec": {
   "display_name": "Python 3 (ipykernel)",
   "language": "python",
   "name": "python3"
  },
  "language_info": {
   "codemirror_mode": {
    "name": "ipython",
    "version": 3
   },
   "file_extension": ".py",
   "mimetype": "text/x-python",
   "name": "python",
   "nbconvert_exporter": "python",
   "pygments_lexer": "ipython3",
   "version": "3.10.9"
  }
 },
 "nbformat": 4,
 "nbformat_minor": 5
}
