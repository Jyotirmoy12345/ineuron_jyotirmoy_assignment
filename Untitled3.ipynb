{
 "cells": [
  {
   "cell_type": "markdown",
   "id": "2f9603c6-33a1-4edb-a294-c7bb746ae071",
   "metadata": {},
   "source": [
    "                                                                                 Assignment_1"
   ]
  },
  {
   "cell_type": "markdown",
   "id": "514ddc39-a459-4fac-b7d8-166e39f5685a",
   "metadata": {},
   "source": [
    "1. In the below elements which of them are values or an expression? eg:- values can be integer or string and expressions will be mathematical operators.\n",
    "*              : Expression\n",
    "'hello'     : Value\n",
    "-87.8       : Value\n",
    "-               : Expression\n",
    "/               : Expression\n",
    "+               : Expression\n",
    "6                : Value\n",
    "\n",
    "2. What is the difference between string and variable?\n",
    "A string is a sequence of characters enclosed within either single ('') or double (\"\") quotes. It can contain letters, numbers, symbols, and spaces. Strings are used to represent textual data.\n",
    "A variable is a name that refers to a value stored in the computer's memory. It acts as a container for holding different types of data, including strings. Variables allow you to store and manipulate data, making your code more dynamic and flexible.\n",
    "\n",
    "3. Describe three different data types.\n",
    "•\tBoolean Type:\tbool    Example : x = True\n",
    "•\tNumeric Types: int     Example : x = 20\n",
    "•\tText Type: str              Example : x = \"Hello World\"\n",
    "\n",
    "4. What is an expression made up of? What do all expressions do?\n",
    "In Python, an expression is a combination of values, variables, operators, and function calls that can be evaluated to produce a result. Expressions are the building blocks of Python programs and are used to perform computations, make decisions, and generate values.\n"
   ]
  },
  {
   "cell_type": "code",
   "execution_count": null,
   "id": "f93f7deb-b37c-43ab-b3bf-1d83cb74f7f4",
   "metadata": {},
   "outputs": [],
   "source": []
  },
  {
   "cell_type": "code",
   "execution_count": null,
   "id": "ac66584e-4ae7-4cd2-a428-c176b0628f34",
   "metadata": {},
   "outputs": [],
   "source": []
  },
  {
   "cell_type": "code",
   "execution_count": null,
   "id": "8defa9d3-af70-415a-8c4b-bb8e3cb9ff03",
   "metadata": {},
   "outputs": [],
   "source": []
  },
  {
   "cell_type": "code",
   "execution_count": null,
   "id": "9fb0b268-c206-4aed-81e7-d803890ac78f",
   "metadata": {},
   "outputs": [],
   "source": []
  }
 ],
 "metadata": {
  "kernelspec": {
   "display_name": "Python 3 (ipykernel)",
   "language": "python",
   "name": "python3"
  },
  "language_info": {
   "codemirror_mode": {
    "name": "ipython",
    "version": 3
   },
   "file_extension": ".py",
   "mimetype": "text/x-python",
   "name": "python",
   "nbconvert_exporter": "python",
   "pygments_lexer": "ipython3",
   "version": "3.10.9"
  }
 },
 "nbformat": 4,
 "nbformat_minor": 5
}
