{
 "cells": [
  {
   "cell_type": "markdown",
   "id": "2f9603c6-33a1-4edb-a294-c7bb746ae071",
   "metadata": {},
   "source": [
    "                                                                                 Assignment_1"
   ]
  },
  {
   "cell_type": "markdown",
   "id": "a7d3a8df-9289-4260-9b3c-e23dfe8d04cb",
   "metadata": {},
   "source": [
    "1. In the below elements which of them are values or an expression? eg:- values can be integer or string and expressions will be mathematical operators."
   ]
  },
  {
   "cell_type": "code",
   "execution_count": null,
   "id": "f93f7deb-b37c-43ab-b3bf-1d83cb74f7f4",
   "metadata": {},
   "outputs": [],
   "source": [
    "*               :Expression\n",
    "'hello'          :Value\n",
    "-87.8           : Value\n",
    "-               : Expression\n",
    "/               : Expression\n",
    "+               : Expression\n",
    "6                : Value\n"
   ]
  },
  {
   "cell_type": "markdown",
   "id": "e0bb3fc4-a504-4358-b0bc-ae638a811103",
   "metadata": {},
   "source": [
    "2. What is the difference between string and variable?"
   ]
  },
  {
   "cell_type": "markdown",
   "id": "3263f571-c2de-4680-9c16-ef1bf4703dac",
   "metadata": {},
   "source": [
    "A string is a sequence of characters enclosed within either single ('') or double (\"\") quotes. It can contain letters, numbers, symbols, and spaces. Strings are used to represent textual data.\n",
    "A variable is a name that refers to a value stored in the computer's memory. It acts as a container for holding different types of data, including strings. Variables allow you to store and manipulate data, making your code more dynamic and flexible."
   ]
  },
  {
   "cell_type": "markdown",
   "id": "7f7d7a56-d02c-427d-a4d2-31899b2f2879",
   "metadata": {},
   "source": [
    "3. Describe three different data types."
   ]
  },
  {
   "cell_type": "markdown",
   "id": "2a2dd71b-4d31-4c26-a9b6-e1c09f11a375",
   "metadata": {},
   "source": [
    "Boolean Type:  bool    Example : x = True\n",
    "Numeric Types: int     Example : x = 20\n",
    "Text Type:     str     Example : x = \"Hello World\"\n"
   ]
  },
  {
   "cell_type": "markdown",
   "id": "315a9fd4-01c8-4fc3-b7b2-5b4575be2052",
   "metadata": {},
   "source": [
    "4. What is an expression made up of? What do all expressions do?"
   ]
  },
  {
   "cell_type": "markdown",
   "id": "db1bb413-f44c-413d-8add-5ad76e4a25fa",
   "metadata": {},
   "source": [
    "In Python, an expression is a combination of values, variables, operators, and function calls that can be evaluated to produce a result. Expressions are the building blocks of Python programs and are used to perform computations, make decisions, and generate values."
   ]
  },
  {
   "cell_type": "markdown",
   "id": "685d3adb-9dfb-4ff1-bf42-457f3a20889d",
   "metadata": {},
   "source": [
    "5. This assignment statements, like spam = 10. What is the difference between an expression and a statement?"
   ]
  },
  {
   "cell_type": "markdown",
   "id": "6043977d-0071-4c17-9c0f-b80aed038e6e",
   "metadata": {},
   "source": [
    "An expression is a combination of values, variables, operators, and function calls that can be evaluated to produce a single value\n",
    "\n",
    "A statement is a line of code that performs an action, creates an effect, or changes the state of the program. Statements can include expressions, but they often involve more than just computation. Statements can define control structures (like if statements and loops), create functions, assignments, imports, and more.#\n",
    "\n",
    "Expression:\n",
    "x = 5\n",
    "y = 10\n",
    "sum_result = x + y\n",
    "message = \"Hello, \" + \"World!\"\n",
    "\n",
    "In these examples, x + y and \"Hello, \" + \"World!\" are expressions. They produce values and can be used in assignments or as parts of larger expressions.\n",
    "A statement is a line of code that performs an action, creates an effect, or changes the state of the program. Statements can include expressions, but they often involve more than just computation. Statements can define control structures (like if statements and loops), create functions, assignments, imports, and more.\n",
    "\n",
    "Statement :\n",
    "\n",
    "if x > y:\n",
    "    print(\"x is greater than y\")\n",
    "    \n",
    "for i in range(5):\n",
    "    print(i)\n",
    "    \n",
    "def greet(name):\n",
    "    print(\"Hello, \" + name)\n",
    "    \n",
    "x = 5\n",
    "y = x + 10\n",
    "\n",
    "In these examples, if, for, def, and variable assignments are statements. They perform actions beyond just computing a value.\n",
    "\n",
    "In summary, expressions are smaller units of code that produce values, while statements are more comprehensive and perform actions or control the flow of a program. Expressions can be part of statements (like in assignments), and statements often contain expressions, but the main distinction lies in their primary purpose and the level of activity they carry out within the program.\n"
   ]
  },
  {
   "cell_type": "markdown",
   "id": "0b37bd52-0604-4e81-b261-817456369df8",
   "metadata": {},
   "source": [
    "6. After running the following code, what does the variable bacon contain?\n",
    "bacon = 22\n",
    "bacon + 1"
   ]
  },
  {
   "cell_type": "markdown",
   "id": "67679977-6718-4883-8f11-6d263a7a7261",
   "metadata": {},
   "source": [
    "The variable bacon will still contain the value 22\n",
    "\n",
    "Input:\n",
    "bacon = 22\n",
    "bacon + 1\n",
    "print(bacon)\n",
    "\n",
    "Output:\n",
    "22"
   ]
  },
  {
   "cell_type": "markdown",
   "id": "5c2dd6f0-4e6a-4446-8f45-cc6cc5d85864",
   "metadata": {},
   "source": [
    "7. What should the values of the following two terms be?\n",
    "'spam' + 'spamspam'\n",
    "'spam' * 3"
   ]
  },
  {
   "cell_type": "markdown",
   "id": "7c59e355-7e1f-4b13-96f4-e5fedf758ce4",
   "metadata": {},
   "source": [
    "'spam' + 'spamspam': This expression will result in the string 'spamspamspam'. The + operator performs string concatenation, which joins the two strings together.\n",
    "'spam' * 3: This expression will result in the string 'spamspamspam'. The * operator, when used with a string and an integer, repeats the string a specified number of times. In this case, the string 'spam' is repeated three times.\n",
    "So, both expressions yield the same result 'spamspamspam'\n"
   ]
  },
  {
   "cell_type": "code",
   "execution_count": 1,
   "id": "c1cd116e-ffc7-46da-9c57-0881ca6d571b",
   "metadata": {},
   "outputs": [
    {
     "data": {
      "text/plain": [
       "'spamspamspam'"
      ]
     },
     "execution_count": 1,
     "metadata": {},
     "output_type": "execute_result"
    }
   ],
   "source": [
    "'spam' + 'spamspam'"
   ]
  },
  {
   "cell_type": "code",
   "execution_count": 2,
   "id": "e941a748-0721-4e61-b335-a90ff2591949",
   "metadata": {},
   "outputs": [
    {
     "data": {
      "text/plain": [
       "'spamspamspam'"
      ]
     },
     "execution_count": 2,
     "metadata": {},
     "output_type": "execute_result"
    }
   ],
   "source": [
    "'spam' * 3"
   ]
  },
  {
   "cell_type": "markdown",
   "id": "b05d00a5-c50b-4111-872d-3e9fc485eb2d",
   "metadata": {},
   "source": [
    "8.Why is eggs a valid variable name while 100 is invalid?"
   ]
  },
  {
   "cell_type": "markdown",
   "id": "c253fbb9-a327-44f2-9e52-8e16027c2463",
   "metadata": {},
   "source": [
    "In Python, variable names must follow certain rules and conventions. This is to ensure clarity, consistency, and to avoid confusion with language elements like numbers, operators, and keywords. Let's break down why `eggs` is a valid variable name while `100` is invalid:\n",
    "\n",
    "Valid Variable Name: `eggs`\n",
    "- Variable names must start with a letter (a-z, A-Z) or an underscore (_).\n",
    "- After the first character, variable names can contain letters, underscores, and digits.\n",
    "- The name `eggs` starts with a letter and doesn't include any invalid characters. It adheres to the rules for variable naming.\n",
    "\n",
    "Invalid Variable Name: `100`\n",
    "- Variable names cannot start with a digit (0-9).\n",
    "- Variable names cannot consist solely of digits.\n",
    "- The name `100` starts with a digit, violating the rule that variable names must start with a letter or underscore.\n",
    "\n",
    "In short, variable names in Python must follow specific rules to be valid, and `eggs` meets these rules, while `100` does not."
   ]
  },
  {
   "cell_type": "markdown",
   "id": "bacd3945-c8cd-4d65-a647-3e6fede82ba9",
   "metadata": {},
   "source": [
    "9. What three functions can be used to get the integer, floating-point number, or string version of a value?"
   ]
  },
  {
   "cell_type": "markdown",
   "id": "d92ff6d5-7a70-4d9c-bd4a-85a2878f8e3a",
   "metadata": {},
   "source": [
    "Integer Conversion: int()\n",
    "The int() function is used to convert a value to an integer (whole number). It can handle strings representing integers as well as floating-point numbers.\n",
    "\n",
    "Floating-Point Conversion: float()\n",
    "The float() function is used to convert a value to a floating-point number (decimal number). It can handle strings representing floating-point numbers as well as integers\n",
    "\n",
    "String Conversion: str()\n",
    "The str() function is used to convert a value to its string representation. This is particularly useful when you want to concatenate a value with other strings or display it as text."
   ]
  },
  {
   "cell_type": "code",
   "execution_count": null,
   "id": "a6692f45-1074-4325-8206-0d9c2c6bf8e5",
   "metadata": {},
   "outputs": [],
   "source": [
    "value_as_string = \"10\"\n",
    "integer_value = int(value_as_string)"
   ]
  },
  {
   "cell_type": "code",
   "execution_count": null,
   "id": "4c865484-bc51-4c5b-9e17-1bda2e7c16be",
   "metadata": {},
   "outputs": [],
   "source": [
    "value_as_string = \"3.14\"\n",
    "float_value = float(value_as_string)"
   ]
  },
  {
   "cell_type": "code",
   "execution_count": null,
   "id": "56932c6c-75aa-43ee-b8b0-f033a42049c6",
   "metadata": {},
   "outputs": [],
   "source": [
    "integer_value = 42\n",
    "float_value = 3.14\n",
    "integer_as_string = str(integer_value)\n",
    "float_as_string = str(float_value)"
   ]
  },
  {
   "cell_type": "markdown",
   "id": "d29bd64e-4002-446b-9342-664393e4cac5",
   "metadata": {},
   "source": [
    "10. Why does this expression cause an error? How can you fix it?\n",
    "'I have eaten ' + 99 + ' burritos.'"
   ]
  },
  {
   "cell_type": "markdown",
   "id": "3d8d264d-4270-4246-97d7-85689f0a92ab",
   "metadata": {},
   "source": [
    "The expression 'I have eaten ' + 99 + ' burritos.' causes an error because we are trying to concatenate a string ('I have eaten ') with an integer (99) using the + operator. Python doesn't automatically convert the integer to a string in this context.\n",
    "To fix this, you need to ensure that all values being concatenated are of the same type (strings). You can achieve this by explicitly converting the integer 99 to a string using the str() function:"
   ]
  },
  {
   "cell_type": "code",
   "execution_count": 3,
   "id": "b56dcc03-f80b-4604-a3f3-6aa3e0ed88d0",
   "metadata": {},
   "outputs": [],
   "source": [
    "result = 'I have eaten ' + str(99) + ' burritos.'"
   ]
  }
 ],
 "metadata": {
  "kernelspec": {
   "display_name": "Python 3 (ipykernel)",
   "language": "python",
   "name": "python3"
  },
  "language_info": {
   "codemirror_mode": {
    "name": "ipython",
    "version": 3
   },
   "file_extension": ".py",
   "mimetype": "text/x-python",
   "name": "python",
   "nbconvert_exporter": "python",
   "pygments_lexer": "ipython3",
   "version": "3.10.9"
  }
 },
 "nbformat": 4,
 "nbformat_minor": 5
}
