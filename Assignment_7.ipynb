{
 "cells": [
  {
   "cell_type": "markdown",
   "id": "2d30dea4-db4f-4b36-bdec-61667a373bab",
   "metadata": {},
   "source": [
    "Q.1. Create two int type variables, apply addition, subtraction, division and multiplications\n",
    "and store the results in variables. Then print the data in the following format by calling the\n",
    "variables:\n",
    "First variable is __ & second variable is __.\n",
    "Addition: __ + __ = __\n",
    "Subtraction: __ - __ = __\n",
    "Multiplication: __ * __ = __\n",
    "Division: __ / __ = __"
   ]
  },
  {
   "cell_type": "code",
   "execution_count": 1,
   "id": "c3956825-406c-4497-95db-04e3f1df7b9e",
   "metadata": {},
   "outputs": [
    {
     "name": "stdout",
     "output_type": "stream",
     "text": [
      "First variable is 10 & second variable is 5.\n",
      "Addition: 10 + 5 = 15\n",
      "Subtraction: 10 - 5 = 5\n",
      "Multiplication: 10 * 5 = 50\n",
      "Division: 10 / 5 = 2.0\n"
     ]
    }
   ],
   "source": [
    "# Create two integer variables\n",
    "first_variable = 10\n",
    "second_variable = 5\n",
    "\n",
    "# Perform arithmetic operations\n",
    "addition_result = first_variable + second_variable\n",
    "subtraction_result = first_variable - second_variable\n",
    "multiplication_result = first_variable * second_variable\n",
    "division_result = first_variable / second_variable\n",
    "\n",
    "# Print the results in the specified format\n",
    "print(f\"First variable is {first_variable} & second variable is {second_variable}.\")\n",
    "print(f\"Addition: {first_variable} + {second_variable} = {addition_result}\")\n",
    "print(f\"Subtraction: {first_variable} - {second_variable} = {subtraction_result}\")\n",
    "print(f\"Multiplication: {first_variable} * {second_variable} = {multiplication_result}\")\n",
    "print(f\"Division: {first_variable} / {second_variable} = {division_result}\")\n"
   ]
  },
  {
   "cell_type": "markdown",
   "id": "3c9d9f5f-e367-4cbb-8eed-72e6ceb54ba6",
   "metadata": {},
   "source": [
    "Q.2. What is the difference between the following operators:\n",
    "(i) ‘/’ & ‘//’\n",
    "(ii) ‘**’ & ‘^’"
   ]
  },
  {
   "cell_type": "markdown",
   "id": "c984bc76-e169-4446-b93e-56095a302925",
   "metadata": {},
   "source": [
    "Answer:\n",
    "-------\n",
    "\n",
    "The operators we mentioned have distinct purposes and behavior:\n",
    "\n",
    "(i) '/' and '//' Operators:\n",
    "\n",
    "1. `/` (Division Operator):\n",
    "   - The `/` operator is used for regular division in Python.\n",
    "   - It performs division and returns a floating-point (decimal) result, even if the operands are integers.\n",
    "   - Example: `7 / 3` returns `2.3333333333333335`.\n",
    "\n",
    "2. `//` (Floor Division Operator):\n",
    "   - The `//` operator is used for floor division or integer division in Python.\n",
    "   - It performs division and returns the largest integer less than or equal to the result.\n",
    "   - It is useful when we want the quotient to be an integer, discarding any fractional part.\n",
    "   - Example: `7 // 3` returns `2`.\n",
    "\n",
    "(ii) ' ** ' and '^' Operators:\n",
    "\n",
    "1. `**` (Exponentiation Operator):\n",
    "   - The `**` operator is used for exponentiation in Python.\n",
    "   - It raises the left operand to the power of the right operand.\n",
    "   - Example: `2 ** 3` returns `8` because 2 raised to the power of 3 is 8.\n",
    "\n",
    "2. `^` (Bitwise XOR Operator):\n",
    "   - The `^` operator is the bitwise XOR (exclusive OR) operator in Python.\n",
    "   - It performs a bitwise XOR operation on individual bits of integers.\n",
    "   - It is not used for exponentiation; rather, it's used for bitwise operations.\n",
    "   - Example: `5 ^ 3` returns `6` because the binary representation of 5 is `0b101` and of 3 is `0b011`, and the XOR operation yields `0b110`, which is 6 in decimal.\n",
    "\n",
    "In summary, the primary differences are:\n",
    "\n",
    "- `/` and `//` are used for division, with `/` returning a float result and `//` returning an integer result.\n",
    "- `**` is used for exponentiation, raising one number to the power of another.\n",
    "- `^` is used for bitwise XOR operations, manipulating individual bits in integers."
   ]
  },
  {
   "cell_type": "markdown",
   "id": "3bbac107-efab-4aab-b854-442e2fd41cff",
   "metadata": {},
   "source": [
    "Q.3. List the logical operators."
   ]
  },
  {
   "cell_type": "markdown",
   "id": "3c2b6a13-b28d-44bd-81ac-90678437769f",
   "metadata": {},
   "source": [
    "Answer:\n",
    "-------\n",
    "\n",
    "In Python, logical operators are used to perform logical operations on Boolean values (True and False) or expressions. Here are the main logical operators in Python:\n",
    "\n",
    "1. `and`: The `and` operator returns True if both operands are True, otherwise, it returns False. It performs a logical AND operation.\n",
    "\n",
    "   Example:\n",
    "-------------------python-----------------------------\n",
    "   True and True   # True\n",
    "   True and False  # False\n",
    "   False and True  # False\n",
    "   False and False # False\n",
    "\n",
    "-------------------------------------------------------\n",
    "\n",
    "2. `or`: The `or` operator returns True if at least one of the operands is True, otherwise, it returns False. It performs a logical OR operation.\n",
    "\n",
    "   Example:\n",
    "-------------------python-------------------------------\n",
    "   True or True   # True\n",
    "   True or False  # True\n",
    "   False or True  # True\n",
    "   False or False # False\n",
    "   \n",
    "---------------------------------------------------------\n",
    "\n",
    "3. `not`: The `not` operator returns the opposite of the operand's Boolean value. If the operand is True, `not` returns False, and if the operand is False, `not` returns True.\n",
    "\n",
    "   Example:\n",
    "--------------------python-------------------------------\n",
    "   not True  # False\n",
    "   not False # True\n",
    "\n",
    "---------------------------------------------------------\n",
    "\n",
    "These logical operators are used to create complex conditions and control the flow of a program based on logical evaluations. They are often used in `if` statements, `while` loops, and other control structures to make decisions based on the truth or falsity of expressions."
   ]
  },
  {
   "cell_type": "markdown",
   "id": "4f69fed9-fa99-4f4d-b65e-dd9e64179c78",
   "metadata": {},
   "source": [
    "Q.4. Explain right shift operator and left shift operator with examples."
   ]
  },
  {
   "cell_type": "markdown",
   "id": "f594349d-0eb5-4be8-8089-8f4cec9a9276",
   "metadata": {},
   "source": [
    "Answer:\n",
    "-------\n",
    "\n",
    "In Python, the right shift (`>>`) and left shift (`<<`) operators are used to perform bitwise shifting of the binary representation of integers. These operators allow us to move the bits of an integer to the right or left.\n",
    "\n",
    "Here's an explanation of the right shift (`>>`) and left shift (`<<`) operators with examples:\n",
    "\n",
    "Right Shift (`>>`) Operator:\n",
    "\n",
    "- The right shift operator (`>>`) shifts the bits of an integer to the right by a specified number of positions.\n",
    "- It effectively divides the integer by a power of 2, discarding the least significant bits.\n",
    "- The syntax is: `operand >> n`, where `operand` is the integer we want to shift, and `n` is the number of positions to shift.\n",
    "- Example:\n",
    "\n",
    "---------------------------python-----------------------------------------------\n",
    "  x = 16  # Binary: 0b10000\n",
    "  y = x >> 2  # Shift right by 2 positions\n",
    "  # Binary of y after shifting: 0b0010 (Decimal: 2)\n",
    "\n",
    "---------------------------------------------------------------------------------\n",
    "\n",
    "\n",
    "Left Shift (`<<`) Operator:\n",
    "\n",
    "- The left shift operator (`<<`) shifts the bits of an integer to the left by a specified number of positions.\n",
    "- It effectively multiplies the integer by a power of 2, padding with zeros on the right.\n",
    "- The syntax is: `operand << n`, where `operand` is the integer we want to shift, and `n` is the number of positions to shift.\n",
    "- Example:\n",
    "\n",
    "-------------------------python------------------------------------------------\n",
    "  x = 3  # Binary: 0b11\n",
    "  y = x << 2  # Shift left by 2 positions\n",
    "  # Binary of y after shifting: 0b1100 (Decimal: 12)\n",
    "\n",
    "-------------------------------------------------------------------------------\n",
    "\n",
    "Here's a visual representation of the right and left shift operations:\n",
    "\n",
    "Right Shift (`>>`):\n",
    "\n",
    "---------------------------------------------\n",
    "Original:   0b10000000\n",
    "Shifted by 2 positions to the right:\n",
    "Result:     0b00100000\n",
    "\n",
    "---------------------------------------------\n",
    "\n",
    "Left Shift (`<<`):\n",
    "\n",
    "---------------------------------------------\n",
    "Original:   0b00000011\n",
    "Shifted by 2 positions to the left:\n",
    "Result:     0b00001100\n",
    "\n",
    "---------------------------------------------\n",
    "\n",
    "These shift operators are useful in low-level programming and bit manipulation tasks, such as working with hardware registers or optimizing certain algorithms. However, in typical Python code, they may not be used as frequently as other operators and constructs."
   ]
  },
  {
   "cell_type": "markdown",
   "id": "7ac5aa00-abf7-4f7a-829f-770b3e45bf77",
   "metadata": {},
   "source": [
    "Q.5. Create a list containing int type data of length 15. Then write a code to check if 10 is\n",
    "present in the list or not."
   ]
  },
  {
   "cell_type": "markdown",
   "id": "32d0d0b1-bc09-4d27-ba90-12a1cd947b8b",
   "metadata": {},
   "source": [
    "Answer:\n",
    "-------\n",
    "\n",
    "We can create a list of integers and then check if the value 10 is present in the list using the `in` operator. Here's a Python code example to do that:"
   ]
  },
  {
   "cell_type": "code",
   "execution_count": 2,
   "id": "cab95395-6a4e-4b31-ba72-1c506799ee3a",
   "metadata": {},
   "outputs": [
    {
     "name": "stdout",
     "output_type": "stream",
     "text": [
      "10 is present in the list.\n"
     ]
    }
   ],
   "source": [
    "# Create a list of integers\n",
    "my_list = [5, 8, 10, 15, 20, 25, 30, 35, 40, 45, 50, 55, 60, 65, 70]\n",
    "\n",
    "# Check if 10 is present in the list\n",
    "if 10 in my_list:\n",
    "    print(\"10 is present in the list.\")\n",
    "else:\n",
    "    print(\"10 is not present in the list.\")"
   ]
  },
  {
   "cell_type": "markdown",
   "id": "5a336753-758c-4bc1-a869-dd813859254e",
   "metadata": {},
   "source": [
    "In this code, we first define a list called `my_list` containing 15 integer values. Then, we use the `in` operator to check if the value 10 is present in the list. If it is present, the code prints \"10 is present in the list.\" Otherwise, it prints \"10 is not present in the list.\"\n",
    "\n",
    "When we run this code, it will check the presence of 10 in the list and display the appropriate message."
   ]
  }
 ],
 "metadata": {
  "kernelspec": {
   "display_name": "Python 3 (ipykernel)",
   "language": "python",
   "name": "python3"
  },
  "language_info": {
   "codemirror_mode": {
    "name": "ipython",
    "version": 3
   },
   "file_extension": ".py",
   "mimetype": "text/x-python",
   "name": "python",
   "nbconvert_exporter": "python",
   "pygments_lexer": "ipython3",
   "version": "3.10.9"
  }
 },
 "nbformat": 4,
 "nbformat_minor": 5
}
